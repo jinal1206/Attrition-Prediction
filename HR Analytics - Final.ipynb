{
 "cells": [
  {
   "cell_type": "code",
   "execution_count": 1,
   "metadata": {
    "collapsed": false,
    "deletable": true,
    "editable": true
   },
   "outputs": [
    {
     "name": "stdout",
     "output_type": "stream",
     "text": [
      "Populating the interactive namespace from numpy and matplotlib\n"
     ]
    }
   ],
   "source": [
    "import xlrd\n",
    "import numpy as np\n",
    "import pandas as pd\n",
    "import seaborn as sns\n",
    "import sklearn as sk\n",
    "import sklearn.tree as tree\n",
    "from IPython.display import Image  \n",
    "import pydotplus\n",
    "%pylab inline"
   ]
  },
  {
   "cell_type": "markdown",
   "metadata": {},
   "source": [
    "# <u> 1. Data Set Description <u>"
   ]
  },
  {
   "cell_type": "markdown",
   "metadata": {},
   "source": [
    "\n",
    "<ul>\n",
    "<li> <b> df </b> is a dataset of the performance and attrition details of all the employees of a company. Each row is an employee.  \n",
    " </li>\n",
    "<li> <b> salary</b> is a dataset of the average market salary taken from payscale for the each job role. Each row is a job role.</li>\n",
    "<li> <b> df2 </b> is the merged dataset between <b> df </b> and <b> salary </b>.\n",
    "</ul>"
   ]
  },
  {
   "cell_type": "markdown",
   "metadata": {
    "deletable": true,
    "editable": true
   },
   "source": [
    "Important columns in <b> df </b> are:\n",
    "<ol>\n",
    "<li> Age: Age of the employee </li>\n",
    "<li> Attrition: If the employee has left the company ('1') or not left the company ('0'). </li>\n",
    "<li> Business_Travel: The amount of business travel that has been done by the employee [Values:  Travel_Frequently, Travel_Rarely, Non-Travel]. </li>\n",
    "<li> Department: The department to which the employee belongs. It can be Sales, Human Resources or Research & Development.</li>\n",
    "<li> DistanceFromHome: The distance of the office from the employee's house. </li>\n",
    "<li> Education: The education level of the employee. The values can be from 1 to 5 : (1 :'Below College' 2:'College' 3: 'Bachelor' 4: 'Master' 5: 'Doctor')</li>\n",
    "<li> EducationField: Education Field of an employee. </li>\n",
    "<li> EmployeeNumber: Employee number of an employee in that company. </li>\n",
    "<li> EnvironmentSatisfaction: The environment satisfaction level of an employee in the company. The values can be from 1 to 4 :(1: 'Low' 2: 'Medium' 3: 'High' 4: 'Very High') </li>\n",
    "<li> Gender: The gender of the employee. It can be Male or Female.\n",
    "<li> JobInvolvement\t: The Job Involvement of an employee for the company- physically, mentally, emotionally.The values can be from 1 to 4 :(1: 'Low' 2: 'Medium' 3: 'High' 4: 'Very High') </li>\n",
    "<li> JobLevel:Job level of the employee in the company. The values can be from 1 to 5 : 1 being the junior most position </li>\n",
    "<li> JobRole:Job Role of the employee in the company. </li>\n",
    "<li> JobSatisfaction:The Job satisfaction level of an employee in the company. The values can be from 1 to 4 :(1: 'Low' 2: 'Medium' 3: 'High' 4: 'Very High') </li>\n",
    "<li> MonthlyIncome: The Monthly Income of an employee.</li>\n",
    "<li> OverTime: It status whether the employee has worked overtime or not. The values for this field can be 'Yes' or 'No' </li>\t\n",
    "</ol>\n",
    "\n",
    "Important columns in <b> salary </b> are:\n",
    "<ol>\n",
    "<li> Department: The department to which the employee belongs. It can be Sales, Human Resources or Research & Development.</li>\n",
    "<li> JobLevel:Job level of the employee in the company. The values can be from 1 to 5 : 1 being the junior most position </li>\n",
    "<li> Mean: The Mean market salary for the Job Role.</li>\n"
   ]
  },
  {
   "cell_type": "code",
   "execution_count": 2,
   "metadata": {
    "collapsed": false,
    "deletable": true,
    "editable": true
   },
   "outputs": [],
   "source": [
    "df = pd.read_csv('recruitment_evaluation_data_1.csv')\n",
    "salary = pd.read_excel('salary_by_dept&joblevel_1.xlsx')"
   ]
  },
  {
   "cell_type": "markdown",
   "metadata": {},
   "source": [
    "Merging two data sets"
   ]
  },
  {
   "cell_type": "code",
   "execution_count": 3,
   "metadata": {
    "collapsed": false,
    "deletable": true,
    "editable": true
   },
   "outputs": [],
   "source": [
    "df2=df.merge(salary,left_on=['Department','JobLevel'], right_on=['Dept','Job_Level'], how='left')\n"
   ]
  },
  {
   "cell_type": "code",
   "execution_count": 4,
   "metadata": {
    "collapsed": false,
    "deletable": true,
    "editable": true
   },
   "outputs": [
    {
     "data": {
      "text/html": [
       "<div>\n",
       "<style>\n",
       "    .dataframe thead tr:only-child th {\n",
       "        text-align: right;\n",
       "    }\n",
       "\n",
       "    .dataframe thead th {\n",
       "        text-align: left;\n",
       "    }\n",
       "\n",
       "    .dataframe tbody tr th {\n",
       "        vertical-align: top;\n",
       "    }\n",
       "</style>\n",
       "<table border=\"1\" class=\"dataframe\">\n",
       "  <thead>\n",
       "    <tr style=\"text-align: right;\">\n",
       "      <th></th>\n",
       "      <th>b</th>\n",
       "      <th>Age</th>\n",
       "      <th>Attrition</th>\n",
       "      <th>BusinessTravel</th>\n",
       "      <th>DailyRate</th>\n",
       "      <th>Department</th>\n",
       "      <th>DistanceFromHome</th>\n",
       "      <th>Education</th>\n",
       "      <th>EducationField</th>\n",
       "      <th>EmployeeNumber</th>\n",
       "      <th>...</th>\n",
       "      <th>TotalWorkingYears</th>\n",
       "      <th>TrainingTimesLastYear</th>\n",
       "      <th>WorkLifeBalance</th>\n",
       "      <th>YearsAtCompany</th>\n",
       "      <th>YearsInCurrentRole</th>\n",
       "      <th>YearsSinceLastPromotion</th>\n",
       "      <th>YearsWithCurrManager</th>\n",
       "      <th>SalesRating</th>\n",
       "      <th>HireSource</th>\n",
       "      <th>Campus</th>\n",
       "    </tr>\n",
       "  </thead>\n",
       "  <tbody>\n",
       "    <tr>\n",
       "      <th>0</th>\n",
       "      <td>1</td>\n",
       "      <td>41</td>\n",
       "      <td>1</td>\n",
       "      <td>Travel_Rarely</td>\n",
       "      <td>1102</td>\n",
       "      <td>Sales</td>\n",
       "      <td>1</td>\n",
       "      <td>2</td>\n",
       "      <td>LifeSciences</td>\n",
       "      <td>1</td>\n",
       "      <td>...</td>\n",
       "      <td>8</td>\n",
       "      <td>0</td>\n",
       "      <td>1</td>\n",
       "      <td>6</td>\n",
       "      <td>4</td>\n",
       "      <td>0</td>\n",
       "      <td>5</td>\n",
       "      <td>1.08819</td>\n",
       "      <td>AppliedOnline</td>\n",
       "      <td>Null</td>\n",
       "    </tr>\n",
       "    <tr>\n",
       "      <th>1</th>\n",
       "      <td>2</td>\n",
       "      <td>49</td>\n",
       "      <td>0</td>\n",
       "      <td>Travel_Frequently</td>\n",
       "      <td>279</td>\n",
       "      <td>Research &amp; Development</td>\n",
       "      <td>8</td>\n",
       "      <td>1</td>\n",
       "      <td>LifeSciences</td>\n",
       "      <td>2</td>\n",
       "      <td>...</td>\n",
       "      <td>10</td>\n",
       "      <td>3</td>\n",
       "      <td>3</td>\n",
       "      <td>10</td>\n",
       "      <td>7</td>\n",
       "      <td>1</td>\n",
       "      <td>7</td>\n",
       "      <td>0.00000</td>\n",
       "      <td>Null</td>\n",
       "      <td>Null</td>\n",
       "    </tr>\n",
       "    <tr>\n",
       "      <th>2</th>\n",
       "      <td>3</td>\n",
       "      <td>37</td>\n",
       "      <td>1</td>\n",
       "      <td>Travel_Rarely</td>\n",
       "      <td>1373</td>\n",
       "      <td>Research &amp; Development</td>\n",
       "      <td>2</td>\n",
       "      <td>2</td>\n",
       "      <td>Other</td>\n",
       "      <td>4</td>\n",
       "      <td>...</td>\n",
       "      <td>7</td>\n",
       "      <td>3</td>\n",
       "      <td>3</td>\n",
       "      <td>0</td>\n",
       "      <td>0</td>\n",
       "      <td>0</td>\n",
       "      <td>0</td>\n",
       "      <td>0.00000</td>\n",
       "      <td>Campus</td>\n",
       "      <td>Tech</td>\n",
       "    </tr>\n",
       "    <tr>\n",
       "      <th>3</th>\n",
       "      <td>4</td>\n",
       "      <td>33</td>\n",
       "      <td>0</td>\n",
       "      <td>Travel_Frequently</td>\n",
       "      <td>1392</td>\n",
       "      <td>Research &amp; Development</td>\n",
       "      <td>3</td>\n",
       "      <td>4</td>\n",
       "      <td>LifeSciences</td>\n",
       "      <td>5</td>\n",
       "      <td>...</td>\n",
       "      <td>8</td>\n",
       "      <td>3</td>\n",
       "      <td>3</td>\n",
       "      <td>8</td>\n",
       "      <td>7</td>\n",
       "      <td>3</td>\n",
       "      <td>0</td>\n",
       "      <td>0.00000</td>\n",
       "      <td>Null</td>\n",
       "      <td>Null</td>\n",
       "    </tr>\n",
       "    <tr>\n",
       "      <th>4</th>\n",
       "      <td>5</td>\n",
       "      <td>27</td>\n",
       "      <td>0</td>\n",
       "      <td>Travel_Rarely</td>\n",
       "      <td>591</td>\n",
       "      <td>Research &amp; Development</td>\n",
       "      <td>2</td>\n",
       "      <td>1</td>\n",
       "      <td>Medical</td>\n",
       "      <td>7</td>\n",
       "      <td>...</td>\n",
       "      <td>6</td>\n",
       "      <td>3</td>\n",
       "      <td>3</td>\n",
       "      <td>2</td>\n",
       "      <td>2</td>\n",
       "      <td>2</td>\n",
       "      <td>2</td>\n",
       "      <td>0.00000</td>\n",
       "      <td>Referral</td>\n",
       "      <td>Null</td>\n",
       "    </tr>\n",
       "  </tbody>\n",
       "</table>\n",
       "<p>5 rows × 36 columns</p>\n",
       "</div>"
      ],
      "text/plain": [
       "   b  Age  Attrition     BusinessTravel  DailyRate              Department  \\\n",
       "0  1   41          1      Travel_Rarely       1102                   Sales   \n",
       "1  2   49          0  Travel_Frequently        279  Research & Development   \n",
       "2  3   37          1      Travel_Rarely       1373  Research & Development   \n",
       "3  4   33          0  Travel_Frequently       1392  Research & Development   \n",
       "4  5   27          0      Travel_Rarely        591  Research & Development   \n",
       "\n",
       "   DistanceFromHome  Education EducationField  EmployeeNumber   ...    \\\n",
       "0                 1          2   LifeSciences               1   ...     \n",
       "1                 8          1   LifeSciences               2   ...     \n",
       "2                 2          2          Other               4   ...     \n",
       "3                 3          4   LifeSciences               5   ...     \n",
       "4                 2          1        Medical               7   ...     \n",
       "\n",
       "   TotalWorkingYears TrainingTimesLastYear  WorkLifeBalance  YearsAtCompany  \\\n",
       "0                  8                     0                1               6   \n",
       "1                 10                     3                3              10   \n",
       "2                  7                     3                3               0   \n",
       "3                  8                     3                3               8   \n",
       "4                  6                     3                3               2   \n",
       "\n",
       "   YearsInCurrentRole YearsSinceLastPromotion  YearsWithCurrManager  \\\n",
       "0                   4                       0                     5   \n",
       "1                   7                       1                     7   \n",
       "2                   0                       0                     0   \n",
       "3                   7                       3                     0   \n",
       "4                   2                       2                     2   \n",
       "\n",
       "   SalesRating     HireSource  Campus  \n",
       "0      1.08819  AppliedOnline    Null  \n",
       "1      0.00000           Null    Null  \n",
       "2      0.00000         Campus    Tech  \n",
       "3      0.00000           Null    Null  \n",
       "4      0.00000       Referral    Null  \n",
       "\n",
       "[5 rows x 36 columns]"
      ]
     },
     "execution_count": 4,
     "metadata": {},
     "output_type": "execute_result"
    }
   ],
   "source": [
    "df.head()"
   ]
  },
  {
   "cell_type": "markdown",
   "metadata": {},
   "source": [
    "# <u> 2. Data Preparation </u>\n"
   ]
  },
  {
   "cell_type": "markdown",
   "metadata": {},
   "source": [
    "Calculate the difference between the salary of an employee of a Job Level and a Department to the average market salary of that Job Level and Department"
   ]
  },
  {
   "cell_type": "code",
   "execution_count": 5,
   "metadata": {
    "collapsed": true,
    "deletable": true,
    "editable": true
   },
   "outputs": [],
   "source": [
    "df2['Annual_Income']= df2.MonthlyIncome*12"
   ]
  },
  {
   "cell_type": "code",
   "execution_count": 6,
   "metadata": {
    "collapsed": true,
    "deletable": true,
    "editable": true
   },
   "outputs": [],
   "source": [
    "df2['Salary_diff']= df2['Annual_Income']- df2['Mean_Salary']"
   ]
  },
  {
   "cell_type": "markdown",
   "metadata": {},
   "source": [
    "Creating bins"
   ]
  },
  {
   "cell_type": "code",
   "execution_count": 7,
   "metadata": {
    "collapsed": true,
    "deletable": true,
    "editable": true
   },
   "outputs": [],
   "source": [
    "df2.loc[(df2.JobSatisfaction<=2) &  (df2.DistanceFromHome<=7),'Job_distance_bin']='JobSatisfication_less_Dist_less'\n",
    "df2.loc[(df2.JobSatisfaction>2) &  (df2.DistanceFromHome<=7),'Job_distance_bin']='Job_Satisfication_more_Dist_less'\n",
    "df2.loc[(df2.JobSatisfaction<=2) &  (df2.DistanceFromHome>7),'Job_distance_bin']='Job_Satisfication_less_Dist_more'\n",
    "df2.loc[(df2.JobSatisfaction>2) &  (df2.DistanceFromHome>7),'Job_distance_bin']='Job_Satisfication_more_Dist_more'"
   ]
  },
  {
   "cell_type": "code",
   "execution_count": 8,
   "metadata": {
    "collapsed": true,
    "deletable": true,
    "editable": true
   },
   "outputs": [],
   "source": [
    "df2.loc[(df2.NumCompaniesWorked >0),'TenurePerJob']= (df2.TotalWorkingYears+0.0)/ df2.NumCompaniesWorked\n",
    "df2.loc[(df2.NumCompaniesWorked ==0),'TenurePerJob']= 0"
   ]
  },
  {
   "cell_type": "code",
   "execution_count": 9,
   "metadata": {
    "collapsed": false,
    "deletable": true,
    "editable": true
   },
   "outputs": [],
   "source": [
    "df2.loc[(df2.YearsSinceLastPromotion ==0),'Last_Promotion_or_RoleChange']= 0\n",
    "df2.loc[(df2.YearsSinceLastPromotion > 0) &((df2.YearsSinceLastPromotion > df2.YearsInCurrentRole)),'Last_Promotion_or_RoleChange']= df2.YearsInCurrentRole\n",
    "df2.loc[(df2.YearsSinceLastPromotion > 0) &((df2.YearsSinceLastPromotion <= df2.YearsInCurrentRole)),'Last_Promotion_or_RoleChange']= df2.YearsSinceLastPromotion "
   ]
  },
  {
   "cell_type": "code",
   "execution_count": 10,
   "metadata": {
    "collapsed": true,
    "deletable": true,
    "editable": true
   },
   "outputs": [],
   "source": [
    "df2.loc[(df2.YearsAtCompany ==0),'LastJobChangeYears']= 0\n",
    "df2.loc[(df2.YearsAtCompany > 0),'LastJobChangeYears']= df2.TotalWorkingYears-df2.YearsAtCompany \n"
   ]
  },
  {
   "cell_type": "markdown",
   "metadata": {},
   "source": [
    "Calculating the Minimum Salary and Maximum Salary within the company at a Job Level for a particular department"
   ]
  },
  {
   "cell_type": "raw",
   "metadata": {},
   "source": [
    "For e.g. \n",
    "Minimum and Maximum Salary of Sales Department for Job Level 1\n",
    "Minimum and Maximum Salary of Sales Department for Job Level 2\n",
    "Minimum and Maximum Salary of Sales Department for Job Level 3\n",
    "and so on"
   ]
  },
  {
   "cell_type": "code",
   "execution_count": 11,
   "metadata": {
    "collapsed": false
   },
   "outputs": [],
   "source": [
    "dfMin=df2.groupby(['Department','JobLevel'], as_index=False)[['MonthlyIncome']].min().rename(columns={'MonthlyIncome':'MinMonthlyIncome','Department':'Dep','JobLevel':'Job_L'})"
   ]
  },
  {
   "cell_type": "code",
   "execution_count": 12,
   "metadata": {
    "collapsed": false
   },
   "outputs": [
    {
     "data": {
      "text/html": [
       "<div>\n",
       "<style>\n",
       "    .dataframe thead tr:only-child th {\n",
       "        text-align: right;\n",
       "    }\n",
       "\n",
       "    .dataframe thead th {\n",
       "        text-align: left;\n",
       "    }\n",
       "\n",
       "    .dataframe tbody tr th {\n",
       "        vertical-align: top;\n",
       "    }\n",
       "</style>\n",
       "<table border=\"1\" class=\"dataframe\">\n",
       "  <thead>\n",
       "    <tr style=\"text-align: right;\">\n",
       "      <th></th>\n",
       "      <th>Dep</th>\n",
       "      <th>Job_L</th>\n",
       "      <th>MinMonthlyIncome</th>\n",
       "    </tr>\n",
       "  </thead>\n",
       "  <tbody>\n",
       "    <tr>\n",
       "      <th>0</th>\n",
       "      <td>HumanResources</td>\n",
       "      <td>1</td>\n",
       "      <td>1555</td>\n",
       "    </tr>\n",
       "  </tbody>\n",
       "</table>\n",
       "</div>"
      ],
      "text/plain": [
       "              Dep  Job_L  MinMonthlyIncome\n",
       "0  HumanResources      1              1555"
      ]
     },
     "execution_count": 12,
     "metadata": {},
     "output_type": "execute_result"
    }
   ],
   "source": [
    "dfMin.head(1)"
   ]
  },
  {
   "cell_type": "code",
   "execution_count": 13,
   "metadata": {
    "collapsed": false
   },
   "outputs": [],
   "source": [
    "dfMax=df2.groupby(['Department','JobLevel'], as_index=False)[['MonthlyIncome']].max().rename(columns={'MonthlyIncome':'MaxMonthlyIncome','Department':'Dep','JobLevel':'Job_L'})"
   ]
  },
  {
   "cell_type": "code",
   "execution_count": 14,
   "metadata": {
    "collapsed": false
   },
   "outputs": [
    {
     "data": {
      "text/html": [
       "<div>\n",
       "<style>\n",
       "    .dataframe thead tr:only-child th {\n",
       "        text-align: right;\n",
       "    }\n",
       "\n",
       "    .dataframe thead th {\n",
       "        text-align: left;\n",
       "    }\n",
       "\n",
       "    .dataframe tbody tr th {\n",
       "        vertical-align: top;\n",
       "    }\n",
       "</style>\n",
       "<table border=\"1\" class=\"dataframe\">\n",
       "  <thead>\n",
       "    <tr style=\"text-align: right;\">\n",
       "      <th></th>\n",
       "      <th>Dep</th>\n",
       "      <th>Job_L</th>\n",
       "      <th>MaxMonthlyIncome</th>\n",
       "    </tr>\n",
       "  </thead>\n",
       "  <tbody>\n",
       "    <tr>\n",
       "      <th>0</th>\n",
       "      <td>HumanResources</td>\n",
       "      <td>1</td>\n",
       "      <td>4936</td>\n",
       "    </tr>\n",
       "  </tbody>\n",
       "</table>\n",
       "</div>"
      ],
      "text/plain": [
       "              Dep  Job_L  MaxMonthlyIncome\n",
       "0  HumanResources      1              4936"
      ]
     },
     "execution_count": 14,
     "metadata": {},
     "output_type": "execute_result"
    }
   ],
   "source": [
    "dfMax.head(1)"
   ]
  },
  {
   "cell_type": "markdown",
   "metadata": {},
   "source": [
    "Merging the dataset into existing dataframe"
   ]
  },
  {
   "cell_type": "code",
   "execution_count": 15,
   "metadata": {
    "collapsed": true,
    "deletable": true,
    "editable": true
   },
   "outputs": [],
   "source": [
    "df3=df2.merge(dfMin,left_on=['Department','JobLevel'], right_on=['Dep','Job_L'], how='left')\n",
    "df3.drop(['Job_L','Dep'],axis=1, inplace=True)\n",
    "df4=df3.merge(dfMax,left_on=['Department','JobLevel'], right_on=['Dep','Job_L'], how='left')\n",
    "df3=df4"
   ]
  },
  {
   "cell_type": "markdown",
   "metadata": {},
   "source": [
    "Salary peneration defines how much an employee's salary has penetrated."
   ]
  },
  {
   "cell_type": "raw",
   "metadata": {},
   "source": [
    "It is calculated by formula: (Salary- Min. Salary)*100/(Max.Salary - Min-Salary)"
   ]
  },
  {
   "cell_type": "raw",
   "metadata": {},
   "source": [
    "For example, if the range is $25,000 to $75,000 and the salary is $45,000, the range penetration is 40%"
   ]
  },
  {
   "cell_type": "code",
   "execution_count": 16,
   "metadata": {
    "collapsed": true
   },
   "outputs": [],
   "source": [
    "df3['Salary_penetration']=(((df3.MonthlyIncome+0.0)-df3.MinMonthlyIncome)*100)/((df3.MaxMonthlyIncome+0.0)-df3.MinMonthlyIncome)"
   ]
  },
  {
   "cell_type": "markdown",
   "metadata": {},
   "source": [
    "Drop the unnecessary columns"
   ]
  },
  {
   "cell_type": "code",
   "execution_count": 17,
   "metadata": {
    "collapsed": false,
    "deletable": true,
    "editable": true
   },
   "outputs": [],
   "source": [
    "df3=df3.drop(['a','Job_L','Dep','b','Annual_Income','EmployeeNumber','DailyRate','HourlyRate','MonthlyRate','StandardHours','Dept','SalesRating','HireSource','Campus','Mean_Salary'],axis=1)"
   ]
  },
  {
   "cell_type": "code",
   "execution_count": 18,
   "metadata": {
    "collapsed": false,
    "deletable": true,
    "editable": true
   },
   "outputs": [],
   "source": [
    "df3.loc[df3.Age<=30,'Age_bin']='Less_than_30'\n",
    "df3.loc[(df3.Age>30) & (df3.Age<=36),'Age_bin']='Greater_than_30_less_than_36'\n",
    "df3.loc[(df3.Age>36) & (df3.Age<=43),'Age_bin']='Greater_than_36_less_than_43'\n",
    "df3.loc[(df3.Age>43),'Age_bin']='Greater_than_43'"
   ]
  },
  {
   "cell_type": "markdown",
   "metadata": {},
   "source": [
    "Converting Yes or No values ot 0 or 1"
   ]
  },
  {
   "cell_type": "code",
   "execution_count": 19,
   "metadata": {
    "collapsed": true,
    "deletable": true,
    "editable": true
   },
   "outputs": [],
   "source": [
    "df3['OverTime_bin']=(df3.OverTime=='Yes')+0.0"
   ]
  },
  {
   "cell_type": "code",
   "execution_count": 20,
   "metadata": {
    "collapsed": true,
    "deletable": true,
    "editable": true
   },
   "outputs": [],
   "source": [
    "df4=df3.drop(['Age','JobRole','OverTime','DistanceFromHome','NumCompaniesWorked','TotalWorkingYears','TrainingTimesLastYear','YearsWithCurrManager','YearsAtCompany','YearsInCurrentRole','YearsSinceLastPromotion'],axis=1)"
   ]
  },
  {
   "cell_type": "code",
   "execution_count": 21,
   "metadata": {
    "collapsed": false,
    "deletable": true,
    "editable": true,
    "scrolled": true
   },
   "outputs": [],
   "source": [
    "df4_dummy= pd.get_dummies(df4,columns=['BusinessTravel','Job_distance_bin','Department','EducationField','Age_bin','Gender' ])"
   ]
  },
  {
   "cell_type": "markdown",
   "metadata": {},
   "source": [
    "# <u> 3. Interesting Finding Summary </u>"
   ]
  },
  {
   "cell_type": "raw",
   "metadata": {},
   "source": [
    "Insight 1: Employees who work overtime and are paid less salary, tend to leave the company more than those who do not work overtime\n",
    "Insight 2: Employees who stay away from work and have less job satisfaction have a higher chance for leaving the company than employees who stay near from work and have less job satisfaction\n",
    "Insight 3: Employees who are paid less than their colleagues and market salary have higher probability of leaving the company "
   ]
  },
  {
   "cell_type": "markdown",
   "metadata": {},
   "source": [
    "# <u> 4. Machine Learning Techinques </u>"
   ]
  },
  {
   "cell_type": "code",
   "execution_count": 22,
   "metadata": {
    "collapsed": true,
    "deletable": true,
    "editable": true
   },
   "outputs": [],
   "source": [
    "import sklearn as sk\n",
    "import sklearn.tree as tree\n",
    "from IPython.display import Image  \n",
    "import pydotplus"
   ]
  },
  {
   "cell_type": "code",
   "execution_count": 23,
   "metadata": {
    "collapsed": true,
    "deletable": true,
    "editable": true
   },
   "outputs": [],
   "source": [
    "X=df4_dummy.drop(['Attrition','StockOptionLevel'],axis=1)\n",
    "Y=df4_dummy.Attrition"
   ]
  },
  {
   "cell_type": "code",
   "execution_count": 24,
   "metadata": {
    "collapsed": true,
    "deletable": true,
    "editable": true
   },
   "outputs": [],
   "source": [
    "from sklearn.model_selection import train_test_split\n",
    "X_train, X_test, y_train, y_test = train_test_split(X,Y,test_size=0.3,random_state=2)"
   ]
  },
  {
   "cell_type": "code",
   "execution_count": 25,
   "metadata": {
    "collapsed": false,
    "deletable": true,
    "editable": true
   },
   "outputs": [
    {
     "data": {
      "text/plain": [
       "DecisionTreeClassifier(class_weight=None, criterion='gini', max_depth=3,\n",
       "            max_features=None, max_leaf_nodes=None,\n",
       "            min_impurity_split=1e-07, min_samples_leaf=1,\n",
       "            min_samples_split=2, min_weight_fraction_leaf=0.0,\n",
       "            presort=False, random_state=None, splitter='best')"
      ]
     },
     "execution_count": 25,
     "metadata": {},
     "output_type": "execute_result"
    }
   ],
   "source": [
    "dt = tree.DecisionTreeClassifier(max_depth=3)\n",
    "dt.fit(X=X,y=Y)"
   ]
  },
  {
   "cell_type": "code",
   "execution_count": 26,
   "metadata": {
    "collapsed": false,
    "deletable": true,
    "editable": true,
    "scrolled": false
   },
   "outputs": [
    {
     "data": {
      "image/png": "[encoded data removed]",
      "text/plain": [
       "<IPython.core.display.Image object>"
      ]
     },
     "execution_count": 26,
     "metadata": {},
     "output_type": "execute_result"
    }
   ],
   "source": [
    "dt_feature_names = list(X.columns)\n",
    "dt_target_names = np.array(Y.unique(),dtype=np.string_) \n",
    "tree.export_graphviz(dt, out_file='tree.dot', \n",
    "    feature_names=dt_feature_names, class_names=dt_target_names,\n",
    "    filled=True)  \n",
    "graph = pydotplus.graph_from_dot_file('tree.dot')\n",
    "Image(graph.create_png())\n"
   ]
  },
  {
   "cell_type": "code",
   "execution_count": 27,
   "metadata": {
    "collapsed": false,
    "deletable": true,
    "editable": true
   },
   "outputs": [
    {
     "data": {
      "text/plain": [
       "RandomForestClassifier(bootstrap=True, class_weight=None, criterion='gini',\n",
       "            max_depth=None, max_features='auto', max_leaf_nodes=None,\n",
       "            min_impurity_split=1e-07, min_samples_leaf=1,\n",
       "            min_samples_split=2, min_weight_fraction_leaf=0.0,\n",
       "            n_estimators=10, n_jobs=1, oob_score=False, random_state=0,\n",
       "            verbose=0, warm_start=False)"
      ]
     },
     "execution_count": 27,
     "metadata": {},
     "output_type": "execute_result"
    }
   ],
   "source": [
    "from sklearn.model_selection import train_test_split\n",
    "X_train, X_test, Y_train, Y_test = train_test_split(X,Y,test_size=0.3,random_state = 0)\n",
    "from sklearn.ensemble import RandomForestClassifier\n",
    "\n",
    "cl = RandomForestClassifier(random_state = 0)\n",
    "cl.fit(X_train,Y_train)"
   ]
  },
  {
   "cell_type": "markdown",
   "metadata": {
    "deletable": true,
    "editable": true
   },
   "source": [
    "# Insight 1: Employees who work overtime and are paid less salary, tend to leave the company more than those who do not work overtime\n"
   ]
  },
  {
   "cell_type": "raw",
   "metadata": {
    "deletable": true,
    "editable": true
   },
   "source": [
    "As, you can see, attrition rate for employee who work overtime and have less than $1927.5/ month  salary is 80 percent where as attrition rate for employee who work overtime and have more than $2475/month salary is 20 percent"
   ]
  },
  {
   "cell_type": "code",
   "execution_count": 28,
   "metadata": {
    "collapsed": false,
    "deletable": true,
    "editable": true,
    "scrolled": true
   },
   "outputs": [
    {
     "data": {
      "text/plain": [
       "<seaborn.axisgrid.FacetGrid at 0x4ac8550>"
      ]
     },
     "execution_count": 28,
     "metadata": {},
     "output_type": "execute_result"
    },
    {
     "data": {
      "image/png": "[encoded data removed]",
      "text/plain": [
       "<matplotlib.figure.Figure at 0x4ac8748>"
      ]
     },
     "metadata": {},
     "output_type": "display_data"
    }
   ],
   "source": [
    "df2.loc[(df2.MonthlyIncome <= 1927.5) ,'MonthlyIncome_bin']='=<1927.5'\n",
    "df2.loc[(df2.MonthlyIncome > 1927.5) & (df2.MonthlyIncome <= 2475.0),'MonthlyIncome_bin']='>1927.5 and <=2475.0'\n",
    "df2.loc[(df2.MonthlyIncome > 2475.0) ,'MonthlyIncome_bin']='> 2475.0'\n",
    "\n",
    "sns.factorplot(x='OverTime',y='Attrition',hue='MonthlyIncome_bin', data=df2 ,kind='bar', aspect=3)"
   ]
  },
  {
   "cell_type": "code",
   "execution_count": 30,
   "metadata": {
    "collapsed": false,
    "deletable": true,
    "editable": true,
    "scrolled": false
   },
   "outputs": [],
   "source": [
    "clusters=df4_dummy\n",
    "from sklearn.cluster import KMeans\n",
    "clu = KMeans(n_clusters=5, random_state=0)\n",
    "clu.fit(clusters)\n",
    "clusters['cluster'] = clu.labels_\n",
    "clusterz=clusters.groupby('cluster').mean()\n"
   ]
  },
  {
   "cell_type": "code",
   "execution_count": 31,
   "metadata": {
    "collapsed": false,
    "deletable": true,
    "editable": true,
    "scrolled": true
   },
   "outputs": [
    {
     "data": {
      "text/html": [
       "<div>\n",
       "<style>\n",
       "    .dataframe thead tr:only-child th {\n",
       "        text-align: right;\n",
       "    }\n",
       "\n",
       "    .dataframe thead th {\n",
       "        text-align: left;\n",
       "    }\n",
       "\n",
       "    .dataframe tbody tr th {\n",
       "        vertical-align: top;\n",
       "    }\n",
       "</style>\n",
       "<table border=\"1\" class=\"dataframe\">\n",
       "  <thead>\n",
       "    <tr style=\"text-align: right;\">\n",
       "      <th></th>\n",
       "      <th>Attrition</th>\n",
       "      <th>Education</th>\n",
       "      <th>EnvironmentSatisfaction</th>\n",
       "      <th>JobInvolvement</th>\n",
       "      <th>JobLevel</th>\n",
       "      <th>JobSatisfaction</th>\n",
       "      <th>MonthlyIncome</th>\n",
       "      <th>PercentSalaryHike</th>\n",
       "      <th>PerformanceRating</th>\n",
       "      <th>RelationshipSatisfaction</th>\n",
       "      <th>...</th>\n",
       "      <th>EducationField_Marketing</th>\n",
       "      <th>EducationField_Medical</th>\n",
       "      <th>EducationField_Other</th>\n",
       "      <th>EducationField_TechnicalDegree</th>\n",
       "      <th>Age_bin_Greater_than_30_less_than_36</th>\n",
       "      <th>Age_bin_Greater_than_36_less_than_43</th>\n",
       "      <th>Age_bin_Greater_than_43</th>\n",
       "      <th>Age_bin_Less_than_30</th>\n",
       "      <th>Gender_Female</th>\n",
       "      <th>Gender_Male</th>\n",
       "    </tr>\n",
       "    <tr>\n",
       "      <th>cluster</th>\n",
       "      <th></th>\n",
       "      <th></th>\n",
       "      <th></th>\n",
       "      <th></th>\n",
       "      <th></th>\n",
       "      <th></th>\n",
       "      <th></th>\n",
       "      <th></th>\n",
       "      <th></th>\n",
       "      <th></th>\n",
       "      <th></th>\n",
       "      <th></th>\n",
       "      <th></th>\n",
       "      <th></th>\n",
       "      <th></th>\n",
       "      <th></th>\n",
       "      <th></th>\n",
       "      <th></th>\n",
       "      <th></th>\n",
       "      <th></th>\n",
       "      <th></th>\n",
       "    </tr>\n",
       "  </thead>\n",
       "  <tbody>\n",
       "    <tr>\n",
       "      <th>0</th>\n",
       "      <td>0.130556</td>\n",
       "      <td>2.900000</td>\n",
       "      <td>2.736111</td>\n",
       "      <td>2.738889</td>\n",
       "      <td>1.683333</td>\n",
       "      <td>2.747222</td>\n",
       "      <td>4426.302778</td>\n",
       "      <td>15.147222</td>\n",
       "      <td>2.897222</td>\n",
       "      <td>2.569444</td>\n",
       "      <td>...</td>\n",
       "      <td>0.094444</td>\n",
       "      <td>0.372222</td>\n",
       "      <td>0.069444</td>\n",
       "      <td>0.075000</td>\n",
       "      <td>0.341667</td>\n",
       "      <td>0.241667</td>\n",
       "      <td>0.147222</td>\n",
       "      <td>0.269444</td>\n",
       "      <td>0.422222</td>\n",
       "      <td>0.577778</td>\n",
       "    </tr>\n",
       "    <tr>\n",
       "      <th>1</th>\n",
       "      <td>0.135922</td>\n",
       "      <td>3.014563</td>\n",
       "      <td>2.665049</td>\n",
       "      <td>2.601942</td>\n",
       "      <td>2.956311</td>\n",
       "      <td>2.733010</td>\n",
       "      <td>10845.961165</td>\n",
       "      <td>15.325243</td>\n",
       "      <td>2.893204</td>\n",
       "      <td>2.805825</td>\n",
       "      <td>...</td>\n",
       "      <td>0.189320</td>\n",
       "      <td>0.296117</td>\n",
       "      <td>0.038835</td>\n",
       "      <td>0.097087</td>\n",
       "      <td>0.286408</td>\n",
       "      <td>0.262136</td>\n",
       "      <td>0.364078</td>\n",
       "      <td>0.087379</td>\n",
       "      <td>0.412621</td>\n",
       "      <td>0.587379</td>\n",
       "    </tr>\n",
       "    <tr>\n",
       "      <th>2</th>\n",
       "      <td>0.254989</td>\n",
       "      <td>2.751663</td>\n",
       "      <td>2.742794</td>\n",
       "      <td>2.764967</td>\n",
       "      <td>1.064302</td>\n",
       "      <td>2.707317</td>\n",
       "      <td>2550.800443</td>\n",
       "      <td>15.330377</td>\n",
       "      <td>2.904656</td>\n",
       "      <td>2.764967</td>\n",
       "      <td>...</td>\n",
       "      <td>0.022173</td>\n",
       "      <td>0.334812</td>\n",
       "      <td>0.055432</td>\n",
       "      <td>0.119734</td>\n",
       "      <td>0.263858</td>\n",
       "      <td>0.150776</td>\n",
       "      <td>0.124169</td>\n",
       "      <td>0.461197</td>\n",
       "      <td>0.354767</td>\n",
       "      <td>0.645233</td>\n",
       "    </tr>\n",
       "    <tr>\n",
       "      <th>3</th>\n",
       "      <td>0.123779</td>\n",
       "      <td>3.029316</td>\n",
       "      <td>2.703583</td>\n",
       "      <td>2.719870</td>\n",
       "      <td>2.241042</td>\n",
       "      <td>2.765472</td>\n",
       "      <td>6550.413681</td>\n",
       "      <td>15.182410</td>\n",
       "      <td>2.905537</td>\n",
       "      <td>2.677524</td>\n",
       "      <td>...</td>\n",
       "      <td>0.192182</td>\n",
       "      <td>0.224756</td>\n",
       "      <td>0.055375</td>\n",
       "      <td>0.078176</td>\n",
       "      <td>0.348534</td>\n",
       "      <td>0.244300</td>\n",
       "      <td>0.205212</td>\n",
       "      <td>0.201954</td>\n",
       "      <td>0.420195</td>\n",
       "      <td>0.579805</td>\n",
       "    </tr>\n",
       "    <tr>\n",
       "      <th>4</th>\n",
       "      <td>0.061644</td>\n",
       "      <td>3.054795</td>\n",
       "      <td>2.739726</td>\n",
       "      <td>2.801370</td>\n",
       "      <td>4.458904</td>\n",
       "      <td>2.664384</td>\n",
       "      <td>17604.000000</td>\n",
       "      <td>14.883562</td>\n",
       "      <td>3.000000</td>\n",
       "      <td>2.842466</td>\n",
       "      <td>...</td>\n",
       "      <td>0.116438</td>\n",
       "      <td>0.335616</td>\n",
       "      <td>0.047945</td>\n",
       "      <td>0.047945</td>\n",
       "      <td>0.027397</td>\n",
       "      <td>0.280822</td>\n",
       "      <td>0.684932</td>\n",
       "      <td>0.006849</td>\n",
       "      <td>0.424658</td>\n",
       "      <td>0.575342</td>\n",
       "    </tr>\n",
       "  </tbody>\n",
       "</table>\n",
       "<p>5 rows × 43 columns</p>\n",
       "</div>"
      ],
      "text/plain": [
       "         Attrition  Education  EnvironmentSatisfaction  JobInvolvement  \\\n",
       "cluster                                                                  \n",
       "0         0.130556   2.900000                 2.736111        2.738889   \n",
       "1         0.135922   3.014563                 2.665049        2.601942   \n",
       "2         0.254989   2.751663                 2.742794        2.764967   \n",
       "3         0.123779   3.029316                 2.703583        2.719870   \n",
       "4         0.061644   3.054795                 2.739726        2.801370   \n",
       "\n",
       "         JobLevel  JobSatisfaction  MonthlyIncome  PercentSalaryHike  \\\n",
       "cluster                                                                \n",
       "0        1.683333         2.747222    4426.302778          15.147222   \n",
       "1        2.956311         2.733010   10845.961165          15.325243   \n",
       "2        1.064302         2.707317    2550.800443          15.330377   \n",
       "3        2.241042         2.765472    6550.413681          15.182410   \n",
       "4        4.458904         2.664384   17604.000000          14.883562   \n",
       "\n",
       "         PerformanceRating  RelationshipSatisfaction     ...       \\\n",
       "cluster                                                  ...        \n",
       "0                 2.897222                  2.569444     ...        \n",
       "1                 2.893204                  2.805825     ...        \n",
       "2                 2.904656                  2.764967     ...        \n",
       "3                 2.905537                  2.677524     ...        \n",
       "4                 3.000000                  2.842466     ...        \n",
       "\n",
       "         EducationField_Marketing  EducationField_Medical  \\\n",
       "cluster                                                     \n",
       "0                        0.094444                0.372222   \n",
       "1                        0.189320                0.296117   \n",
       "2                        0.022173                0.334812   \n",
       "3                        0.192182                0.224756   \n",
       "4                        0.116438                0.335616   \n",
       "\n",
       "         EducationField_Other  EducationField_TechnicalDegree  \\\n",
       "cluster                                                         \n",
       "0                    0.069444                        0.075000   \n",
       "1                    0.038835                        0.097087   \n",
       "2                    0.055432                        0.119734   \n",
       "3                    0.055375                        0.078176   \n",
       "4                    0.047945                        0.047945   \n",
       "\n",
       "         Age_bin_Greater_than_30_less_than_36  \\\n",
       "cluster                                         \n",
       "0                                    0.341667   \n",
       "1                                    0.286408   \n",
       "2                                    0.263858   \n",
       "3                                    0.348534   \n",
       "4                                    0.027397   \n",
       "\n",
       "         Age_bin_Greater_than_36_less_than_43  Age_bin_Greater_than_43  \\\n",
       "cluster                                                                  \n",
       "0                                    0.241667                 0.147222   \n",
       "1                                    0.262136                 0.364078   \n",
       "2                                    0.150776                 0.124169   \n",
       "3                                    0.244300                 0.205212   \n",
       "4                                    0.280822                 0.684932   \n",
       "\n",
       "         Age_bin_Less_than_30  Gender_Female  Gender_Male  \n",
       "cluster                                                    \n",
       "0                    0.269444       0.422222     0.577778  \n",
       "1                    0.087379       0.412621     0.587379  \n",
       "2                    0.461197       0.354767     0.645233  \n",
       "3                    0.201954       0.420195     0.579805  \n",
       "4                    0.006849       0.424658     0.575342  \n",
       "\n",
       "[5 rows x 43 columns]"
      ]
     },
     "execution_count": 31,
     "metadata": {},
     "output_type": "execute_result"
    }
   ],
   "source": [
    "clusterz\n"
   ]
  },
  {
   "cell_type": "markdown",
   "metadata": {
    "deletable": true,
    "editable": true
   },
   "source": [
    "# Insight 2: Employees who stay away from work and have less job satisfaction have a higher chance for leaving the company than employees who stay near from work and have less job satisfaction"
   ]
  },
  {
   "cell_type": "raw",
   "metadata": {},
   "source": [
    "As, you can see, distance from home plays an important role in attrition. When employee lives far from office, there is a higher probibility that employee will leave the company\n"
   ]
  },
  {
   "cell_type": "code",
   "execution_count": 43,
   "metadata": {
    "collapsed": false
   },
   "outputs": [
    {
     "data": {
      "text/plain": [
       "0.077923582955703563"
      ]
     },
     "execution_count": 43,
     "metadata": {},
     "output_type": "execute_result"
    }
   ],
   "source": [
    "df2.DistanceFromHome.corr(df2.Attrition)"
   ]
  },
  {
   "cell_type": "code",
   "execution_count": 42,
   "metadata": {
    "collapsed": false
   },
   "outputs": [
    {
     "data": {
      "text/plain": [
       "-0.10348112606902131"
      ]
     },
     "execution_count": 42,
     "metadata": {},
     "output_type": "execute_result"
    }
   ],
   "source": [
    "df2.JobSatisfaction.corr(df2.Attrition)"
   ]
  },
  {
   "cell_type": "code",
   "execution_count": 34,
   "metadata": {
    "collapsed": false,
    "deletable": true,
    "editable": true,
    "scrolled": false
   },
   "outputs": [
    {
     "data": {
      "text/plain": [
       "<seaborn.axisgrid.FacetGrid at 0xe834630>"
      ]
     },
     "execution_count": 34,
     "metadata": {},
     "output_type": "execute_result"
    },
    {
     "data": {
      "image/png": "[encoded data removed]",
      "text/plain": [
       "<matplotlib.figure.Figure at 0xe834518>"
      ]
     },
     "metadata": {},
     "output_type": "display_data"
    }
   ],
   "source": [
    "sns.factorplot(x='Job_distance_bin',y='Attrition', data=df3 ,kind='bar', aspect=3)"
   ]
  },
  {
   "cell_type": "markdown",
   "metadata": {
    "deletable": true,
    "editable": true
   },
   "source": [
    "# Insight 3: Employees who are paid less than their colleagues and market salary have higher probability of leaving the company "
   ]
  },
  {
   "cell_type": "raw",
   "metadata": {},
   "source": [
    "Two aspects:\n",
    "Comparing Salary with the colleagues for same job level and same department\n",
    "Comparing Salary with Avg market salary for that position (if this is less than mkt salary, that means the company is paying less than market. By matching company salary to market salary, we can reduce attrition)\n"
   ]
  },
  {
   "cell_type": "code",
   "execution_count": 51,
   "metadata": {
    "collapsed": false,
    "deletable": true,
    "editable": true
   },
   "outputs": [
    {
     "data": {
      "text/plain": [
       "<seaborn.axisgrid.FacetGrid at 0x13600ac8>"
      ]
     },
     "execution_count": 51,
     "metadata": {},
     "output_type": "execute_result"
    },
    {
     "data": {
      "image/png": "[encoded data removed]",
      "text/plain": [
       "<matplotlib.figure.Figure at 0x12a4e5c0>"
      ]
     },
     "metadata": {},
     "output_type": "display_data"
    }
   ],
   "source": [
    "df3.loc[(df3.Salary_penetration <= 50),'Salary_penetration_bin']='Cmpy_Salary_Less_than_50_percentile'\n",
    "df3.loc[(df3.Salary_penetration > 50), 'Salary_penetration_bin']='Cmpy_Salary_Greater_than_50_percentile'\n",
    "df3.loc[(df3.Salary_diff > 0), 'Mkt_Salary_diff']='Salary_higher_than_mkt'\n",
    "df3.loc[(df3.Salary_diff <= 0), 'Mkt_Salary_diff']='Salary_lower_than_mkt'\n",
    "\n",
    "sns.factorplot(x='Salary_penetration_bin',y='Attrition', data=df3 ,kind='bar', col='Mkt_Salary_diff',aspect=3)"
   ]
  },
  {
   "cell_type": "markdown",
   "metadata": {
    "deletable": true,
    "editable": true
   },
   "source": [
    "# Insight: Male Employees tend to leave the company more and faster as compared to female employees"
   ]
  },
  {
   "cell_type": "code",
   "execution_count": 41,
   "metadata": {
    "collapsed": false,
    "deletable": true,
    "editable": true
   },
   "outputs": [
    {
     "data": {
      "text/plain": [
       "<matplotlib.axes._subplots.AxesSubplot at 0x11cd4358>"
      ]
     },
     "execution_count": 41,
     "metadata": {},
     "output_type": "execute_result"
    },
    {
     "data": {
      "image/png": "[encoded data removed]",
      "text/plain": [
       "<matplotlib.figure.Figure at 0xf5d36a0>"
      ]
     },
     "metadata": {},
     "output_type": "display_data"
    }
   ],
   "source": [
    "sns.countplot(x='Attrition', data=df3,hue='Gender')\n"
   ]
  },
  {
   "cell_type": "code",
   "execution_count": 37,
   "metadata": {
    "collapsed": false,
    "deletable": true,
    "editable": true
   },
   "outputs": [
    {
     "data": {
      "text/html": [
       "<div>\n",
       "<style>\n",
       "    .dataframe thead tr:only-child th {\n",
       "        text-align: right;\n",
       "    }\n",
       "\n",
       "    .dataframe thead th {\n",
       "        text-align: left;\n",
       "    }\n",
       "\n",
       "    .dataframe tbody tr th {\n",
       "        vertical-align: top;\n",
       "    }\n",
       "</style>\n",
       "<table border=\"1\" class=\"dataframe\">\n",
       "  <thead>\n",
       "    <tr style=\"text-align: right;\">\n",
       "      <th></th>\n",
       "      <th>Attrition</th>\n",
       "      <th>YearsAtCompany</th>\n",
       "    </tr>\n",
       "    <tr>\n",
       "      <th>Gender</th>\n",
       "      <th></th>\n",
       "      <th></th>\n",
       "    </tr>\n",
       "  </thead>\n",
       "  <tbody>\n",
       "    <tr>\n",
       "      <th>Female</th>\n",
       "      <td>0.147959</td>\n",
       "      <td>7.231293</td>\n",
       "    </tr>\n",
       "    <tr>\n",
       "      <th>Male</th>\n",
       "      <td>0.170068</td>\n",
       "      <td>6.859410</td>\n",
       "    </tr>\n",
       "  </tbody>\n",
       "</table>\n",
       "</div>"
      ],
      "text/plain": [
       "        Attrition  YearsAtCompany\n",
       "Gender                           \n",
       "Female   0.147959        7.231293\n",
       "Male     0.170068        6.859410"
      ]
     },
     "execution_count": 37,
     "metadata": {},
     "output_type": "execute_result"
    }
   ],
   "source": [
    "df3.groupby(['Gender'])['Attrition','YearsAtCompany'].mean()"
   ]
  },
  {
   "cell_type": "markdown",
   "metadata": {},
   "source": [
    "# <u> 5. Managerial Insights </u>"
   ]
  },
  {
   "cell_type": "markdown",
   "metadata": {},
   "source": [
    "Attrition is major cost to the companies It’s important to understand why the attrition is happening, what factors are leading for the employees to leave the company. There are couple of observations that lead to an attrition in the company which can help the companies to take measures to reduce the attrition where acceptable.\n",
    "<ol>  <li> Usually, over time employees are paid more compared to others. But, we can see employees working overtime and have comparatively less than market salary so thus there is high proportion of employees working overtime and having less salary tends to have higher attrition rate.\n",
    "<li>   Job satisfaction and distance from workplace also plays key role in attrition. It’s interesting to observe that employees have less job satisfaction and stay close by to company and employees have more job satisfaction and stay far away from company tends to have same attrition. </li></ol>\n",
    "\n",
    "Therefore, a company or managers can consider why overtime employees aren’t paid as standards, and does really job satisfaction and distance from workplace play a role in attrition, which is against our usual assumption that employees having job satisfaction won’t tend to leave the company"
   ]
  }
 ],
 "metadata": {
  "kernelspec": {
   "display_name": "Python 2",
   "language": "python",
   "name": "python2"
  },
  "language_info": {
   "codemirror_mode": {
    "name": "ipython",
    "version": 2
   },
   "file_extension": ".py",
   "mimetype": "text/x-python",
   "name": "python",
   "nbconvert_exporter": "python",
   "pygments_lexer": "ipython2",
   "version": "2.7.13"
  }
 },
 "nbformat": 4,
 "nbformat_minor": 2
}
