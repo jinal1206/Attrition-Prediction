{
 "cells": [
  {
   "cell_type": "markdown",
   "metadata": {
    "collapsed": true,
    "deletable": true,
    "editable": true
   },
   "source": [
    "HR Attrition Analytics"
   ]
  },
  {
   "cell_type": "code",
   "execution_count": 2,
   "metadata": {
    "collapsed": false,
    "deletable": true,
    "editable": true,
    "scrolled": false
   },
   "outputs": [
    {
     "name": "stdout",
     "output_type": "stream",
     "text": [
      "Populating the interactive namespace from numpy and matplotlib\n"
     ]
    }
   ],
   "source": [
    "import xlrd\n",
    "import numpy as np\n",
    "import pandas as pd\n",
    "import seaborn as sns\n",
    "import matplotlib\n",
    "%pylab inline"
   ]
  },
  {
   "cell_type": "code",
   "execution_count": 3,
   "metadata": {
    "collapsed": false,
    "deletable": true,
    "editable": true
   },
   "outputs": [
    {
     "ename": "IOError",
     "evalue": "File recruitment_evaluation_data_1.csv does not exist",
     "output_type": "error",
     "traceback": [
      "\u001b[1;31m\u001b[0m",
      "\u001b[1;31mIOError\u001b[0mTraceback (most recent call last)",
      "\u001b[1;32m<ipython-input-3-ca0d3f497d9c>\u001b[0m in \u001b[0;36m<module>\u001b[1;34m()\u001b[0m\n\u001b[1;32m----> 1\u001b[1;33m \u001b[0mdf\u001b[0m \u001b[1;33m=\u001b[0m \u001b[0mpd\u001b[0m\u001b[1;33m.\u001b[0m\u001b[0mread_csv\u001b[0m\u001b[1;33m(\u001b[0m\u001b[1;34m'recruitment_evaluation_data_1.csv'\u001b[0m\u001b[1;33m)\u001b[0m\u001b[1;33m\u001b[0m\u001b[0m\n\u001b[0m\u001b[0;32m      2\u001b[0m \u001b[0msalary\u001b[0m \u001b[1;33m=\u001b[0m \u001b[0mpd\u001b[0m\u001b[1;33m.\u001b[0m\u001b[0mread_excel\u001b[0m\u001b[1;33m(\u001b[0m\u001b[1;34m'salary_by_dept&joblevel_1.xlsx'\u001b[0m\u001b[1;33m)\u001b[0m\u001b[1;33m\u001b[0m\u001b[0m\n",
      "\u001b[1;32mC:\\Users\\Jinal Goradia\\AppData\\Local\\Enthought\\Canopy\\edm\\envs\\User\\lib\\site-packages\\pandas\\io\\parsers.pyc\u001b[0m in \u001b[0;36mparser_f\u001b[1;34m(filepath_or_buffer, sep, delimiter, header, names, index_col, usecols, squeeze, prefix, mangle_dupe_cols, dtype, engine, converters, true_values, false_values, skipinitialspace, skiprows, nrows, na_values, keep_default_na, na_filter, verbose, skip_blank_lines, parse_dates, infer_datetime_format, keep_date_col, date_parser, dayfirst, iterator, chunksize, compression, thousands, decimal, lineterminator, quotechar, quoting, escapechar, comment, encoding, dialect, tupleize_cols, error_bad_lines, warn_bad_lines, skipfooter, skip_footer, doublequote, delim_whitespace, as_recarray, compact_ints, use_unsigned, low_memory, buffer_lines, memory_map, float_precision)\u001b[0m\n\u001b[0;32m    653\u001b[0m                     skip_blank_lines=skip_blank_lines)\n\u001b[0;32m    654\u001b[0m \u001b[1;33m\u001b[0m\u001b[0m\n\u001b[1;32m--> 655\u001b[1;33m         \u001b[1;32mreturn\u001b[0m \u001b[0m_read\u001b[0m\u001b[1;33m(\u001b[0m\u001b[0mfilepath_or_buffer\u001b[0m\u001b[1;33m,\u001b[0m \u001b[0mkwds\u001b[0m\u001b[1;33m)\u001b[0m\u001b[1;33m\u001b[0m\u001b[0m\n\u001b[0m\u001b[0;32m    656\u001b[0m \u001b[1;33m\u001b[0m\u001b[0m\n\u001b[0;32m    657\u001b[0m     \u001b[0mparser_f\u001b[0m\u001b[1;33m.\u001b[0m\u001b[0m__name__\u001b[0m \u001b[1;33m=\u001b[0m \u001b[0mname\u001b[0m\u001b[1;33m\u001b[0m\u001b[0m\n",
      "\u001b[1;32mC:\\Users\\Jinal Goradia\\AppData\\Local\\Enthought\\Canopy\\edm\\envs\\User\\lib\\site-packages\\pandas\\io\\parsers.pyc\u001b[0m in \u001b[0;36m_read\u001b[1;34m(filepath_or_buffer, kwds)\u001b[0m\n\u001b[0;32m    403\u001b[0m \u001b[1;33m\u001b[0m\u001b[0m\n\u001b[0;32m    404\u001b[0m     \u001b[1;31m# Create the parser.\u001b[0m\u001b[1;33m\u001b[0m\u001b[1;33m\u001b[0m\u001b[0m\n\u001b[1;32m--> 405\u001b[1;33m     \u001b[0mparser\u001b[0m \u001b[1;33m=\u001b[0m \u001b[0mTextFileReader\u001b[0m\u001b[1;33m(\u001b[0m\u001b[0mfilepath_or_buffer\u001b[0m\u001b[1;33m,\u001b[0m \u001b[1;33m**\u001b[0m\u001b[0mkwds\u001b[0m\u001b[1;33m)\u001b[0m\u001b[1;33m\u001b[0m\u001b[0m\n\u001b[0m\u001b[0;32m    406\u001b[0m \u001b[1;33m\u001b[0m\u001b[0m\n\u001b[0;32m    407\u001b[0m     \u001b[1;32mif\u001b[0m \u001b[0mchunksize\u001b[0m \u001b[1;32mor\u001b[0m \u001b[0miterator\u001b[0m\u001b[1;33m:\u001b[0m\u001b[1;33m\u001b[0m\u001b[0m\n",
      "\u001b[1;32mC:\\Users\\Jinal Goradia\\AppData\\Local\\Enthought\\Canopy\\edm\\envs\\User\\lib\\site-packages\\pandas\\io\\parsers.pyc\u001b[0m in \u001b[0;36m__init__\u001b[1;34m(self, f, engine, **kwds)\u001b[0m\n\u001b[0;32m    762\u001b[0m             \u001b[0mself\u001b[0m\u001b[1;33m.\u001b[0m\u001b[0moptions\u001b[0m\u001b[1;33m[\u001b[0m\u001b[1;34m'has_index_names'\u001b[0m\u001b[1;33m]\u001b[0m \u001b[1;33m=\u001b[0m \u001b[0mkwds\u001b[0m\u001b[1;33m[\u001b[0m\u001b[1;34m'has_index_names'\u001b[0m\u001b[1;33m]\u001b[0m\u001b[1;33m\u001b[0m\u001b[0m\n\u001b[0;32m    763\u001b[0m \u001b[1;33m\u001b[0m\u001b[0m\n\u001b[1;32m--> 764\u001b[1;33m         \u001b[0mself\u001b[0m\u001b[1;33m.\u001b[0m\u001b[0m_make_engine\u001b[0m\u001b[1;33m(\u001b[0m\u001b[0mself\u001b[0m\u001b[1;33m.\u001b[0m\u001b[0mengine\u001b[0m\u001b[1;33m)\u001b[0m\u001b[1;33m\u001b[0m\u001b[0m\n\u001b[0m\u001b[0;32m    765\u001b[0m \u001b[1;33m\u001b[0m\u001b[0m\n\u001b[0;32m    766\u001b[0m     \u001b[1;32mdef\u001b[0m \u001b[0mclose\u001b[0m\u001b[1;33m(\u001b[0m\u001b[0mself\u001b[0m\u001b[1;33m)\u001b[0m\u001b[1;33m:\u001b[0m\u001b[1;33m\u001b[0m\u001b[0m\n",
      "\u001b[1;32mC:\\Users\\Jinal Goradia\\AppData\\Local\\Enthought\\Canopy\\edm\\envs\\User\\lib\\site-packages\\pandas\\io\\parsers.pyc\u001b[0m in \u001b[0;36m_make_engine\u001b[1;34m(self, engine)\u001b[0m\n\u001b[0;32m    983\u001b[0m     \u001b[1;32mdef\u001b[0m \u001b[0m_make_engine\u001b[0m\u001b[1;33m(\u001b[0m\u001b[0mself\u001b[0m\u001b[1;33m,\u001b[0m \u001b[0mengine\u001b[0m\u001b[1;33m=\u001b[0m\u001b[1;34m'c'\u001b[0m\u001b[1;33m)\u001b[0m\u001b[1;33m:\u001b[0m\u001b[1;33m\u001b[0m\u001b[0m\n\u001b[0;32m    984\u001b[0m         \u001b[1;32mif\u001b[0m \u001b[0mengine\u001b[0m \u001b[1;33m==\u001b[0m \u001b[1;34m'c'\u001b[0m\u001b[1;33m:\u001b[0m\u001b[1;33m\u001b[0m\u001b[0m\n\u001b[1;32m--> 985\u001b[1;33m             \u001b[0mself\u001b[0m\u001b[1;33m.\u001b[0m\u001b[0m_engine\u001b[0m \u001b[1;33m=\u001b[0m \u001b[0mCParserWrapper\u001b[0m\u001b[1;33m(\u001b[0m\u001b[0mself\u001b[0m\u001b[1;33m.\u001b[0m\u001b[0mf\u001b[0m\u001b[1;33m,\u001b[0m \u001b[1;33m**\u001b[0m\u001b[0mself\u001b[0m\u001b[1;33m.\u001b[0m\u001b[0moptions\u001b[0m\u001b[1;33m)\u001b[0m\u001b[1;33m\u001b[0m\u001b[0m\n\u001b[0m\u001b[0;32m    986\u001b[0m         \u001b[1;32melse\u001b[0m\u001b[1;33m:\u001b[0m\u001b[1;33m\u001b[0m\u001b[0m\n\u001b[0;32m    987\u001b[0m             \u001b[1;32mif\u001b[0m \u001b[0mengine\u001b[0m \u001b[1;33m==\u001b[0m \u001b[1;34m'python'\u001b[0m\u001b[1;33m:\u001b[0m\u001b[1;33m\u001b[0m\u001b[0m\n",
      "\u001b[1;32mC:\\Users\\Jinal Goradia\\AppData\\Local\\Enthought\\Canopy\\edm\\envs\\User\\lib\\site-packages\\pandas\\io\\parsers.pyc\u001b[0m in \u001b[0;36m__init__\u001b[1;34m(self, src, **kwds)\u001b[0m\n\u001b[0;32m   1603\u001b[0m         \u001b[0mkwds\u001b[0m\u001b[1;33m[\u001b[0m\u001b[1;34m'allow_leading_cols'\u001b[0m\u001b[1;33m]\u001b[0m \u001b[1;33m=\u001b[0m \u001b[0mself\u001b[0m\u001b[1;33m.\u001b[0m\u001b[0mindex_col\u001b[0m \u001b[1;32mis\u001b[0m \u001b[1;32mnot\u001b[0m \u001b[0mFalse\u001b[0m\u001b[1;33m\u001b[0m\u001b[0m\n\u001b[0;32m   1604\u001b[0m \u001b[1;33m\u001b[0m\u001b[0m\n\u001b[1;32m-> 1605\u001b[1;33m         \u001b[0mself\u001b[0m\u001b[1;33m.\u001b[0m\u001b[0m_reader\u001b[0m \u001b[1;33m=\u001b[0m \u001b[0mparsers\u001b[0m\u001b[1;33m.\u001b[0m\u001b[0mTextReader\u001b[0m\u001b[1;33m(\u001b[0m\u001b[0msrc\u001b[0m\u001b[1;33m,\u001b[0m \u001b[1;33m**\u001b[0m\u001b[0mkwds\u001b[0m\u001b[1;33m)\u001b[0m\u001b[1;33m\u001b[0m\u001b[0m\n\u001b[0m\u001b[0;32m   1606\u001b[0m \u001b[1;33m\u001b[0m\u001b[0m\n\u001b[0;32m   1607\u001b[0m         \u001b[1;31m# XXX\u001b[0m\u001b[1;33m\u001b[0m\u001b[1;33m\u001b[0m\u001b[0m\n",
      "\u001b[1;32mpandas/_libs/parsers.pyx\u001b[0m in \u001b[0;36mpandas._libs.parsers.TextReader.__cinit__ (pandas\\_libs\\parsers.c:4209)\u001b[1;34m()\u001b[0m\n",
      "\u001b[1;32mpandas/_libs/parsers.pyx\u001b[0m in \u001b[0;36mpandas._libs.parsers.TextReader._setup_parser_source (pandas\\_libs\\parsers.c:8873)\u001b[1;34m()\u001b[0m\n",
      "\u001b[1;31mIOError\u001b[0m: File recruitment_evaluation_data_1.csv does not exist"
     ]
    }
   ],
   "source": [
    "df = pd.read_csv('recruitment_evaluation_data_1.csv')\n",
    "salary = pd.read_excel('salary_by_dept&joblevel_1.xlsx')"
   ]
  },
  {
   "cell_type": "code",
   "execution_count": null,
   "metadata": {
    "collapsed": true
   },
   "outputs": [],
   "source": [
    "plt.matshow(df.corr())\n",
    "\n"
   ]
  },
  {
   "cell_type": "code",
   "execution_count": 4,
   "metadata": {
    "collapsed": false,
    "deletable": true,
    "editable": true,
    "scrolled": true
   },
   "outputs": [
    {
     "data": {
      "text/html": [
       "<div>\n",
       "<style>\n",
       "    .dataframe thead tr:only-child th {\n",
       "        text-align: right;\n",
       "    }\n",
       "\n",
       "    .dataframe thead th {\n",
       "        text-align: left;\n",
       "    }\n",
       "\n",
       "    .dataframe tbody tr th {\n",
       "        vertical-align: top;\n",
       "    }\n",
       "</style>\n",
       "<table border=\"1\" class=\"dataframe\">\n",
       "  <thead>\n",
       "    <tr style=\"text-align: right;\">\n",
       "      <th></th>\n",
       "      <th>b</th>\n",
       "      <th>Age</th>\n",
       "      <th>Attrition</th>\n",
       "      <th>BusinessTravel</th>\n",
       "      <th>DailyRate</th>\n",
       "      <th>Department</th>\n",
       "      <th>DistanceFromHome</th>\n",
       "      <th>Education</th>\n",
       "      <th>EducationField</th>\n",
       "      <th>EmployeeNumber</th>\n",
       "      <th>...</th>\n",
       "      <th>TotalWorkingYears</th>\n",
       "      <th>TrainingTimesLastYear</th>\n",
       "      <th>WorkLifeBalance</th>\n",
       "      <th>YearsAtCompany</th>\n",
       "      <th>YearsInCurrentRole</th>\n",
       "      <th>YearsSinceLastPromotion</th>\n",
       "      <th>YearsWithCurrManager</th>\n",
       "      <th>SalesRating</th>\n",
       "      <th>HireSource</th>\n",
       "      <th>Campus</th>\n",
       "    </tr>\n",
       "  </thead>\n",
       "  <tbody>\n",
       "    <tr>\n",
       "      <th>0</th>\n",
       "      <td>1</td>\n",
       "      <td>41</td>\n",
       "      <td>1</td>\n",
       "      <td>Travel_Rarely</td>\n",
       "      <td>1102</td>\n",
       "      <td>Sales</td>\n",
       "      <td>1</td>\n",
       "      <td>2</td>\n",
       "      <td>LifeSciences</td>\n",
       "      <td>1</td>\n",
       "      <td>...</td>\n",
       "      <td>8</td>\n",
       "      <td>0</td>\n",
       "      <td>1</td>\n",
       "      <td>6</td>\n",
       "      <td>4</td>\n",
       "      <td>0</td>\n",
       "      <td>5</td>\n",
       "      <td>1.08819</td>\n",
       "      <td>AppliedOnline</td>\n",
       "      <td>Null</td>\n",
       "    </tr>\n",
       "  </tbody>\n",
       "</table>\n",
       "<p>1 rows × 36 columns</p>\n",
       "</div>"
      ],
      "text/plain": [
       "   b  Age  Attrition BusinessTravel  DailyRate Department  DistanceFromHome  \\\n",
       "0  1   41          1  Travel_Rarely       1102      Sales                 1   \n",
       "\n",
       "   Education EducationField  EmployeeNumber   ...    TotalWorkingYears  \\\n",
       "0          2   LifeSciences               1   ...                    8   \n",
       "\n",
       "  TrainingTimesLastYear  WorkLifeBalance  YearsAtCompany  YearsInCurrentRole  \\\n",
       "0                     0                1               6                   4   \n",
       "\n",
       "  YearsSinceLastPromotion  YearsWithCurrManager  SalesRating     HireSource  \\\n",
       "0                       0                     5      1.08819  AppliedOnline   \n",
       "\n",
       "   Campus  \n",
       "0    Null  \n",
       "\n",
       "[1 rows x 36 columns]"
      ]
     },
     "execution_count": 4,
     "metadata": {},
     "output_type": "execute_result"
    }
   ],
   "source": [
    "df.head(1)"
   ]
  },
  {
   "cell_type": "code",
   "execution_count": 5,
   "metadata": {
    "collapsed": false,
    "deletable": true,
    "editable": true,
    "scrolled": true
   },
   "outputs": [
    {
     "data": {
      "text/html": [
       "<div>\n",
       "<style>\n",
       "    .dataframe thead tr:only-child th {\n",
       "        text-align: right;\n",
       "    }\n",
       "\n",
       "    .dataframe thead th {\n",
       "        text-align: left;\n",
       "    }\n",
       "\n",
       "    .dataframe tbody tr th {\n",
       "        vertical-align: top;\n",
       "    }\n",
       "</style>\n",
       "<table border=\"1\" class=\"dataframe\">\n",
       "  <thead>\n",
       "    <tr style=\"text-align: right;\">\n",
       "      <th></th>\n",
       "      <th>Dept</th>\n",
       "      <th>Job_Level</th>\n",
       "      <th>a</th>\n",
       "      <th>Mean_Salary</th>\n",
       "    </tr>\n",
       "  </thead>\n",
       "  <tbody>\n",
       "    <tr>\n",
       "      <th>0</th>\n",
       "      <td>Sales</td>\n",
       "      <td>1</td>\n",
       "      <td>38269</td>\n",
       "      <td>44009.35</td>\n",
       "    </tr>\n",
       "  </tbody>\n",
       "</table>\n",
       "</div>"
      ],
      "text/plain": [
       "    Dept  Job_Level      a  Mean_Salary\n",
       "0  Sales          1  38269     44009.35"
      ]
     },
     "execution_count": 5,
     "metadata": {},
     "output_type": "execute_result"
    }
   ],
   "source": [
    "salary.head(1)"
   ]
  },
  {
   "cell_type": "markdown",
   "metadata": {
    "collapsed": false,
    "deletable": true,
    "editable": true
   },
   "source": [
    "Mergering the data df and salary by Department and Job level\n"
   ]
  },
  {
   "cell_type": "code",
   "execution_count": 6,
   "metadata": {
    "collapsed": false,
    "deletable": true,
    "editable": true,
    "scrolled": true
   },
   "outputs": [
    {
     "data": {
      "text/plain": [
       "1470"
      ]
     },
     "execution_count": 6,
     "metadata": {},
     "output_type": "execute_result"
    }
   ],
   "source": [
    "df2=df.merge(salary,left_on=['Department','JobLevel'], right_on=['Dept','Job_Level'], how='left')\n",
    "len(df2)"
   ]
  },
  {
   "cell_type": "code",
   "execution_count": 7,
   "metadata": {
    "collapsed": true,
    "deletable": true,
    "editable": true
   },
   "outputs": [],
   "source": [
    "df2['Annual_Income']= df2.MonthlyIncome*12"
   ]
  },
  {
   "cell_type": "markdown",
   "metadata": {
    "deletable": true,
    "editable": true
   },
   "source": [
    "Finding the salary difference as compared to Market mean salary for respective occupations"
   ]
  },
  {
   "cell_type": "code",
   "execution_count": 8,
   "metadata": {
    "collapsed": true,
    "deletable": true,
    "editable": true
   },
   "outputs": [],
   "source": [
    "df2['Salary_diff']= df2['Annual_Income']- df2['Mean_Salary']"
   ]
  },
  {
   "cell_type": "markdown",
   "metadata": {
    "deletable": true,
    "editable": true
   },
   "source": [
    "Finding mean of salary by attrition and department. Here we found for departmnt HR and Research & Development who had lesser salary compare to market mean salary were leaving the company. "
   ]
  },
  {
   "cell_type": "code",
   "execution_count": 9,
   "metadata": {
    "collapsed": false,
    "deletable": true,
    "editable": true,
    "scrolled": true
   },
   "outputs": [
    {
     "data": {
      "text/plain": [
       "Attrition  Department            \n",
       "0          HumanResources            29697.309804\n",
       "           Research & Development    11217.774155\n",
       "           Sales                     36509.228955\n",
       "1          HumanResources            -9574.658333\n",
       "           Research & Development   -12252.429323\n",
       "           Sales                     22142.103261\n",
       "Name: Salary_diff, dtype: float64"
      ]
     },
     "execution_count": 9,
     "metadata": {},
     "output_type": "execute_result"
    }
   ],
   "source": [
    "df2.groupby(['Attrition','Department'])['Salary_diff'].mean()"
   ]
  },
  {
   "cell_type": "code",
   "execution_count": 10,
   "metadata": {
    "collapsed": false,
    "deletable": true,
    "editable": true
   },
   "outputs": [],
   "source": [
    "df3=df2.groupby('Department')['Attrition'].agg({'size','sum'}).rename(columns={'size':'total','sum':'num_of_att'})"
   ]
  },
  {
   "cell_type": "code",
   "execution_count": 11,
   "metadata": {
    "collapsed": false,
    "deletable": true,
    "editable": true
   },
   "outputs": [],
   "source": [
    "df2=df2.drop(['a','b','Annual_Income','EmployeeNumber','DailyRate','HourlyRate','MonthlyRate','StandardHours','Dept','SalesRating','HireSource','Campus','Mean_Salary'],axis=1)"
   ]
  },
  {
   "cell_type": "code",
   "execution_count": 12,
   "metadata": {
    "collapsed": false,
    "deletable": true,
    "editable": true
   },
   "outputs": [
    {
     "data": {
      "text/html": [
       "<div>\n",
       "<style>\n",
       "    .dataframe thead tr:only-child th {\n",
       "        text-align: right;\n",
       "    }\n",
       "\n",
       "    .dataframe thead th {\n",
       "        text-align: left;\n",
       "    }\n",
       "\n",
       "    .dataframe tbody tr th {\n",
       "        vertical-align: top;\n",
       "    }\n",
       "</style>\n",
       "<table border=\"1\" class=\"dataframe\">\n",
       "  <thead>\n",
       "    <tr style=\"text-align: right;\">\n",
       "      <th></th>\n",
       "      <th>Age</th>\n",
       "      <th>Attrition</th>\n",
       "      <th>BusinessTravel</th>\n",
       "      <th>Department</th>\n",
       "      <th>DistanceFromHome</th>\n",
       "      <th>Education</th>\n",
       "      <th>EducationField</th>\n",
       "      <th>EnvironmentSatisfaction</th>\n",
       "      <th>Gender</th>\n",
       "      <th>JobInvolvement</th>\n",
       "      <th>...</th>\n",
       "      <th>StockOptionLevel</th>\n",
       "      <th>TotalWorkingYears</th>\n",
       "      <th>TrainingTimesLastYear</th>\n",
       "      <th>WorkLifeBalance</th>\n",
       "      <th>YearsAtCompany</th>\n",
       "      <th>YearsInCurrentRole</th>\n",
       "      <th>YearsSinceLastPromotion</th>\n",
       "      <th>YearsWithCurrManager</th>\n",
       "      <th>Job_Level</th>\n",
       "      <th>Salary_diff</th>\n",
       "    </tr>\n",
       "  </thead>\n",
       "  <tbody>\n",
       "    <tr>\n",
       "      <th>0</th>\n",
       "      <td>41</td>\n",
       "      <td>1</td>\n",
       "      <td>Travel_Rarely</td>\n",
       "      <td>Sales</td>\n",
       "      <td>1</td>\n",
       "      <td>2</td>\n",
       "      <td>LifeSciences</td>\n",
       "      <td>2</td>\n",
       "      <td>Female</td>\n",
       "      <td>3</td>\n",
       "      <td>...</td>\n",
       "      <td>0</td>\n",
       "      <td>8</td>\n",
       "      <td>0</td>\n",
       "      <td>1</td>\n",
       "      <td>6</td>\n",
       "      <td>4</td>\n",
       "      <td>0</td>\n",
       "      <td>5</td>\n",
       "      <td>2</td>\n",
       "      <td>24946.55</td>\n",
       "    </tr>\n",
       "    <tr>\n",
       "      <th>1</th>\n",
       "      <td>49</td>\n",
       "      <td>0</td>\n",
       "      <td>Travel_Frequently</td>\n",
       "      <td>Research &amp; Development</td>\n",
       "      <td>8</td>\n",
       "      <td>1</td>\n",
       "      <td>LifeSciences</td>\n",
       "      <td>3</td>\n",
       "      <td>Male</td>\n",
       "      <td>2</td>\n",
       "      <td>...</td>\n",
       "      <td>1</td>\n",
       "      <td>10</td>\n",
       "      <td>3</td>\n",
       "      <td>3</td>\n",
       "      <td>10</td>\n",
       "      <td>7</td>\n",
       "      <td>1</td>\n",
       "      <td>7</td>\n",
       "      <td>2</td>\n",
       "      <td>431.75</td>\n",
       "    </tr>\n",
       "    <tr>\n",
       "      <th>2</th>\n",
       "      <td>37</td>\n",
       "      <td>1</td>\n",
       "      <td>Travel_Rarely</td>\n",
       "      <td>Research &amp; Development</td>\n",
       "      <td>2</td>\n",
       "      <td>2</td>\n",
       "      <td>Other</td>\n",
       "      <td>4</td>\n",
       "      <td>Male</td>\n",
       "      <td>2</td>\n",
       "      <td>...</td>\n",
       "      <td>0</td>\n",
       "      <td>7</td>\n",
       "      <td>3</td>\n",
       "      <td>3</td>\n",
       "      <td>0</td>\n",
       "      <td>0</td>\n",
       "      <td>0</td>\n",
       "      <td>0</td>\n",
       "      <td>1</td>\n",
       "      <td>-32324.55</td>\n",
       "    </tr>\n",
       "    <tr>\n",
       "      <th>3</th>\n",
       "      <td>33</td>\n",
       "      <td>0</td>\n",
       "      <td>Travel_Frequently</td>\n",
       "      <td>Research &amp; Development</td>\n",
       "      <td>3</td>\n",
       "      <td>4</td>\n",
       "      <td>LifeSciences</td>\n",
       "      <td>4</td>\n",
       "      <td>Female</td>\n",
       "      <td>3</td>\n",
       "      <td>...</td>\n",
       "      <td>0</td>\n",
       "      <td>8</td>\n",
       "      <td>3</td>\n",
       "      <td>3</td>\n",
       "      <td>8</td>\n",
       "      <td>7</td>\n",
       "      <td>3</td>\n",
       "      <td>0</td>\n",
       "      <td>1</td>\n",
       "      <td>-22496.55</td>\n",
       "    </tr>\n",
       "    <tr>\n",
       "      <th>4</th>\n",
       "      <td>27</td>\n",
       "      <td>0</td>\n",
       "      <td>Travel_Rarely</td>\n",
       "      <td>Research &amp; Development</td>\n",
       "      <td>2</td>\n",
       "      <td>1</td>\n",
       "      <td>Medical</td>\n",
       "      <td>1</td>\n",
       "      <td>Male</td>\n",
       "      <td>3</td>\n",
       "      <td>...</td>\n",
       "      <td>1</td>\n",
       "      <td>6</td>\n",
       "      <td>3</td>\n",
       "      <td>3</td>\n",
       "      <td>2</td>\n",
       "      <td>2</td>\n",
       "      <td>2</td>\n",
       "      <td>2</td>\n",
       "      <td>1</td>\n",
       "      <td>-15788.55</td>\n",
       "    </tr>\n",
       "  </tbody>\n",
       "</table>\n",
       "<p>5 rows × 29 columns</p>\n",
       "</div>"
      ],
      "text/plain": [
       "   Age  Attrition     BusinessTravel              Department  \\\n",
       "0   41          1      Travel_Rarely                   Sales   \n",
       "1   49          0  Travel_Frequently  Research & Development   \n",
       "2   37          1      Travel_Rarely  Research & Development   \n",
       "3   33          0  Travel_Frequently  Research & Development   \n",
       "4   27          0      Travel_Rarely  Research & Development   \n",
       "\n",
       "   DistanceFromHome  Education EducationField  EnvironmentSatisfaction  \\\n",
       "0                 1          2   LifeSciences                        2   \n",
       "1                 8          1   LifeSciences                        3   \n",
       "2                 2          2          Other                        4   \n",
       "3                 3          4   LifeSciences                        4   \n",
       "4                 2          1        Medical                        1   \n",
       "\n",
       "   Gender  JobInvolvement     ...       StockOptionLevel TotalWorkingYears  \\\n",
       "0  Female               3     ...                      0                 8   \n",
       "1    Male               2     ...                      1                10   \n",
       "2    Male               2     ...                      0                 7   \n",
       "3  Female               3     ...                      0                 8   \n",
       "4    Male               3     ...                      1                 6   \n",
       "\n",
       "   TrainingTimesLastYear  WorkLifeBalance  YearsAtCompany YearsInCurrentRole  \\\n",
       "0                      0                1               6                  4   \n",
       "1                      3                3              10                  7   \n",
       "2                      3                3               0                  0   \n",
       "3                      3                3               8                  7   \n",
       "4                      3                3               2                  2   \n",
       "\n",
       "   YearsSinceLastPromotion  YearsWithCurrManager  Job_Level  Salary_diff  \n",
       "0                        0                     5          2     24946.55  \n",
       "1                        1                     7          2       431.75  \n",
       "2                        0                     0          1    -32324.55  \n",
       "3                        3                     0          1    -22496.55  \n",
       "4                        2                     2          1    -15788.55  \n",
       "\n",
       "[5 rows x 29 columns]"
      ]
     },
     "execution_count": 12,
     "metadata": {},
     "output_type": "execute_result"
    }
   ],
   "source": [
    "df2.head()"
   ]
  },
  {
   "cell_type": "markdown",
   "metadata": {
    "deletable": true,
    "editable": true
   },
   "source": [
    "#Binning the variables\n"
   ]
  },
  {
   "cell_type": "code",
   "execution_count": 13,
   "metadata": {
    "collapsed": false,
    "deletable": true,
    "editable": true,
    "scrolled": true
   },
   "outputs": [
    {
     "data": {
      "text/plain": [
       "count    1470.000000\n",
       "mean        9.192517\n",
       "std         8.106864\n",
       "min         1.000000\n",
       "25%         2.000000\n",
       "50%         7.000000\n",
       "75%        14.000000\n",
       "max        29.000000\n",
       "Name: DistanceFromHome, dtype: float64"
      ]
     },
     "execution_count": 13,
     "metadata": {},
     "output_type": "execute_result"
    }
   ],
   "source": [
    "df2.DistanceFromHome.describe()"
   ]
  },
  {
   "cell_type": "code",
   "execution_count": 13,
   "metadata": {
    "collapsed": false,
    "deletable": true,
    "editable": true
   },
   "outputs": [],
   "source": [
    "df2.loc[df2.DistanceFromHome<=2,'DistanceFromHome_bin']='Within_2_miles'\n",
    "df2.loc[(df2.DistanceFromHome>2) & (df2.DistanceFromHome<=7),'DistanceFromHome_bin']='Greater_than_2_miles_less_than_7'\n",
    "df2.loc[(df2.DistanceFromHome>7) & (df2.DistanceFromHome<=14),'DistanceFromHome_bin']='Greater_than_7_miles_less_than_14'\n",
    "df2.loc[(df2.DistanceFromHome>14),'DistanceFromHome_bin']='Greater_than_14'\n"
   ]
  },
  {
   "cell_type": "code",
   "execution_count": 14,
   "metadata": {
    "collapsed": false,
    "deletable": true,
    "editable": true,
    "scrolled": true
   },
   "outputs": [
    {
     "data": {
      "text/plain": [
       "count    1470.000000\n",
       "mean        2.693197\n",
       "std         2.498009\n",
       "min         0.000000\n",
       "25%         1.000000\n",
       "50%         2.000000\n",
       "75%         4.000000\n",
       "max         9.000000\n",
       "Name: NumCompaniesWorked, dtype: float64"
      ]
     },
     "execution_count": 14,
     "metadata": {},
     "output_type": "execute_result"
    }
   ],
   "source": [
    "df2.NumCompaniesWorked.describe()"
   ]
  },
  {
   "cell_type": "code",
   "execution_count": 15,
   "metadata": {
    "collapsed": true,
    "deletable": true,
    "editable": true
   },
   "outputs": [],
   "source": [
    "df2.loc[df2.NumCompaniesWorked<=1,'NumCompaniesWorked_bin']='One'\n",
    "df2.loc[(df2.NumCompaniesWorked>1) & (df2.NumCompaniesWorked<=2),'NumCompaniesWorked_bin']='Greater_than_1_less_than_2'\n",
    "df2.loc[(df2.NumCompaniesWorked>2) & (df2.NumCompaniesWorked<=7),'NumCompaniesWorked_bin']='Greater_than_2_less_than_7'\n",
    "df2.loc[(df2.NumCompaniesWorked>7),'NumCompaniesWorked_bin']='Greater_than_7'"
   ]
  },
  {
   "cell_type": "code",
   "execution_count": 16,
   "metadata": {
    "collapsed": false,
    "deletable": true,
    "editable": true
   },
   "outputs": [
    {
     "data": {
      "text/plain": [
       "count    1470.000000\n",
       "mean       15.209524\n",
       "std         3.659938\n",
       "min        11.000000\n",
       "25%        12.000000\n",
       "50%        14.000000\n",
       "75%        18.000000\n",
       "max        25.000000\n",
       "Name: PercentSalaryHike, dtype: float64"
      ]
     },
     "execution_count": 16,
     "metadata": {},
     "output_type": "execute_result"
    }
   ],
   "source": [
    "df2.PercentSalaryHike.describe()"
   ]
  },
  {
   "cell_type": "code",
   "execution_count": 17,
   "metadata": {
    "collapsed": true,
    "deletable": true,
    "editable": true
   },
   "outputs": [],
   "source": [
    "df2.loc[df2.PercentSalaryHike<=12,'PercentSalaryHike_bin']='Less_than_12'\n",
    "df2.loc[(df2.PercentSalaryHike>12) & (df2.PercentSalaryHike<=14),'PercentSalaryHike_bin']='Greater_than_12_less_than_14'\n",
    "df2.loc[(df2.PercentSalaryHike>14) & (df2.PercentSalaryHike<=18),'PercentSalaryHike_bin']='Greater_than_14_less_than_18'\n",
    "df2.loc[(df2.PercentSalaryHike>18),'PercentSalaryHike_bin']='Greater_than_18'"
   ]
  },
  {
   "cell_type": "code",
   "execution_count": 18,
   "metadata": {
    "collapsed": false,
    "deletable": true,
    "editable": true
   },
   "outputs": [
    {
     "data": {
      "text/plain": [
       "count    1470.000000\n",
       "mean        7.008163\n",
       "std         6.126525\n",
       "min         0.000000\n",
       "25%         3.000000\n",
       "50%         5.000000\n",
       "75%         9.000000\n",
       "max        40.000000\n",
       "Name: YearsAtCompany, dtype: float64"
      ]
     },
     "execution_count": 18,
     "metadata": {},
     "output_type": "execute_result"
    }
   ],
   "source": [
    "df2.YearsAtCompany.describe()"
   ]
  },
  {
   "cell_type": "code",
   "execution_count": 19,
   "metadata": {
    "collapsed": true,
    "deletable": true,
    "editable": true
   },
   "outputs": [],
   "source": [
    "df2.loc[df2.YearsAtCompany<=3,'YearsAtCompany_bin']='Less_than_3'\n",
    "df2.loc[(df2.YearsAtCompany>3) & (df2.YearsAtCompany<=5),'YearsAtCompany_bin']='Greater_than_3_less_than_5'\n",
    "df2.loc[(df2.YearsAtCompany>5) & (df2.YearsAtCompany<=9),'YearsAtCompany_bin']='Greater_than_5_less_than_9'\n",
    "df2.loc[(df2.YearsAtCompany>9),'YearsAtCompany_bin']='Greater_than_9'"
   ]
  },
  {
   "cell_type": "code",
   "execution_count": 20,
   "metadata": {
    "collapsed": false,
    "deletable": true,
    "editable": true
   },
   "outputs": [
    {
     "data": {
      "text/plain": [
       "count    1470.000000\n",
       "mean        4.229252\n",
       "std         3.623137\n",
       "min         0.000000\n",
       "25%         2.000000\n",
       "50%         3.000000\n",
       "75%         7.000000\n",
       "max        18.000000\n",
       "Name: YearsInCurrentRole, dtype: float64"
      ]
     },
     "execution_count": 20,
     "metadata": {},
     "output_type": "execute_result"
    }
   ],
   "source": [
    "df2.YearsInCurrentRole.describe()"
   ]
  },
  {
   "cell_type": "code",
   "execution_count": 21,
   "metadata": {
    "collapsed": true,
    "deletable": true,
    "editable": true
   },
   "outputs": [],
   "source": [
    "df2.loc[df2.YearsInCurrentRole<=2,'YearsInCurrentRole_bin']='Less_than_2'\n",
    "df2.loc[(df2.YearsInCurrentRole>2) & (df2.YearsInCurrentRole<=3),'YearsInCurrentRole_bin']='Greater_than_2_less_than_3'\n",
    "df2.loc[(df2.YearsInCurrentRole>3) & (df2.YearsInCurrentRole<=7),'YearsInCurrentRole_bin']='Greater_than_3_less_than_7'\n",
    "df2.loc[(df2.YearsInCurrentRole>7),'YearsInCurrentRole_bin']='Greater_than_7'"
   ]
  },
  {
   "cell_type": "code",
   "execution_count": 22,
   "metadata": {
    "collapsed": false,
    "deletable": true,
    "editable": true
   },
   "outputs": [
    {
     "data": {
      "text/plain": [
       "count    1470.000000\n",
       "mean        2.187755\n",
       "std         3.222430\n",
       "min         0.000000\n",
       "25%         0.000000\n",
       "50%         1.000000\n",
       "75%         3.000000\n",
       "max        15.000000\n",
       "Name: YearsSinceLastPromotion, dtype: float64"
      ]
     },
     "execution_count": 22,
     "metadata": {},
     "output_type": "execute_result"
    }
   ],
   "source": [
    "df2.YearsSinceLastPromotion.describe()"
   ]
  },
  {
   "cell_type": "code",
   "execution_count": 23,
   "metadata": {
    "collapsed": true,
    "deletable": true,
    "editable": true
   },
   "outputs": [],
   "source": [
    "df2.loc[df2.YearsSinceLastPromotion<=0,'YearsSinceLastPromotion_bin']='Zero'\n",
    "df2.loc[(df2.YearsSinceLastPromotion>0) & (df2.YearsSinceLastPromotion<=1),'YearsSinceLastPromotion_bin']='Greater_than_0_less_than_1'\n",
    "df2.loc[(df2.YearsSinceLastPromotion>1) & (df2.YearsSinceLastPromotion<=3),'YearsSinceLastPromotion_bin']='Greater_than_1_less_than_3'\n",
    "df2.loc[(df2.YearsSinceLastPromotion>3),'YearsSinceLastPromotion_bin']='Greater_than_3'"
   ]
  },
  {
   "cell_type": "code",
   "execution_count": 24,
   "metadata": {
    "collapsed": false,
    "deletable": true,
    "editable": true
   },
   "outputs": [
    {
     "data": {
      "text/plain": [
       "count    1470.000000\n",
       "mean        4.123129\n",
       "std         3.568136\n",
       "min         0.000000\n",
       "25%         2.000000\n",
       "50%         3.000000\n",
       "75%         7.000000\n",
       "max        17.000000\n",
       "Name: YearsWithCurrManager, dtype: float64"
      ]
     },
     "execution_count": 24,
     "metadata": {},
     "output_type": "execute_result"
    }
   ],
   "source": [
    "df2.YearsWithCurrManager.describe()"
   ]
  },
  {
   "cell_type": "code",
   "execution_count": null,
   "metadata": {
    "collapsed": true,
    "deletable": true,
    "editable": true
   },
   "outputs": [],
   "source": []
  },
  {
   "cell_type": "code",
   "execution_count": 25,
   "metadata": {
    "collapsed": true,
    "deletable": true,
    "editable": true
   },
   "outputs": [],
   "source": [
    "df2.loc[df2.YearsWithCurrManager<=2,'YearsWithCurrManager_bin']='Less_than_2'\n",
    "df2.loc[(df2.YearsWithCurrManager>2) & (df2.YearsWithCurrManager<=3),'YearsWithCurrManager_bin']='Greater_than_2_less_than_3'\n",
    "df2.loc[(df2.YearsWithCurrManager>3) & (df2.YearsWithCurrManager<=7),'YearsWithCurrManager_bin']='Greater_than_3_less_than_7'\n",
    "df2.loc[(df2.YearsWithCurrManager>7),'YearsWithCurrManager_bin']='Greater_than_7'"
   ]
  },
  {
   "cell_type": "code",
   "execution_count": 26,
   "metadata": {
    "collapsed": false,
    "deletable": true,
    "editable": true,
    "scrolled": true
   },
   "outputs": [
    {
     "data": {
      "text/plain": [
       "count    1470.000000\n",
       "mean       36.923810\n",
       "std         9.135373\n",
       "min        18.000000\n",
       "25%        30.000000\n",
       "50%        36.000000\n",
       "75%        43.000000\n",
       "max        60.000000\n",
       "Name: Age, dtype: float64"
      ]
     },
     "execution_count": 26,
     "metadata": {},
     "output_type": "execute_result"
    }
   ],
   "source": [
    "df2.Age.describe()"
   ]
  },
  {
   "cell_type": "code",
   "execution_count": 27,
   "metadata": {
    "collapsed": true,
    "deletable": true,
    "editable": true
   },
   "outputs": [],
   "source": [
    "df2.loc[df2.Age<=30,'Age_bin']='Less_than_30'\n",
    "df2.loc[(df2.Age>30) & (df2.Age<=36),'Age_bin']='Greater_than_30_less_than_36'\n",
    "df2.loc[(df2.Age>36) & (df2.Age<=43),'Age_bin']='Greater_than_36_less_than_43'\n",
    "df2.loc[(df2.Age>43),'Age_bin']='Greater_than_43'"
   ]
  },
  {
   "cell_type": "code",
   "execution_count": 28,
   "metadata": {
    "collapsed": false,
    "deletable": true,
    "editable": true
   },
   "outputs": [
    {
     "data": {
      "text/plain": [
       "4"
      ]
     },
     "execution_count": 28,
     "metadata": {},
     "output_type": "execute_result"
    }
   ],
   "source": [
    "df2.Age_bin.nunique()"
   ]
  },
  {
   "cell_type": "code",
   "execution_count": 29,
   "metadata": {
    "collapsed": false,
    "deletable": true,
    "editable": true
   },
   "outputs": [
    {
     "data": {
      "text/plain": [
       "count    1470.000000\n",
       "mean       11.279592\n",
       "std         7.780782\n",
       "min         0.000000\n",
       "25%         6.000000\n",
       "50%        10.000000\n",
       "75%        15.000000\n",
       "max        40.000000\n",
       "Name: TotalWorkingYears, dtype: float64"
      ]
     },
     "execution_count": 29,
     "metadata": {},
     "output_type": "execute_result"
    }
   ],
   "source": [
    "df2.TotalWorkingYears.describe()"
   ]
  },
  {
   "cell_type": "code",
   "execution_count": 30,
   "metadata": {
    "collapsed": true,
    "deletable": true,
    "editable": true
   },
   "outputs": [],
   "source": [
    "df2.loc[df2.TotalWorkingYears<=6,'TotalWorkingYears_bin']='Less_than_6'\n",
    "df2.loc[(df2.TotalWorkingYears>6) & (df2.TotalWorkingYears<=10),'TotalWorkingYears_bin']='Greater_than_6_less_than_10'\n",
    "df2.loc[(df2.TotalWorkingYears>10) & (df2.TotalWorkingYears<=15),'TotalWorkingYears_bin']='Greater_than_10_less_than_15'\n",
    "df2.loc[(df2.TotalWorkingYears>15),'TotalWorkingYears_bin']='Greater_than_15'"
   ]
  },
  {
   "cell_type": "code",
   "execution_count": 31,
   "metadata": {
    "collapsed": true,
    "deletable": true,
    "editable": true
   },
   "outputs": [],
   "source": [
    "df2.loc[df2.Age<=30,'Age_bin_customized_6_bin']='Less_than_30'\n",
    "df2.loc[(df2.Age>30) & (df2.Age<=35),'Age_bin_customized_6_bin']='Greater_than_30_less_than_35'\n",
    "df2.loc[(df2.Age>35) & (df2.Age<=40),'Age_bin_customized_6_bin']='Greater_than_35_less_than_40'\n",
    "df2.loc[(df2.Age>40) & (df2.Age<=45),'Age_bin_customized_6_bin']='Greater_than_40_less_than_45'\n",
    "df2.loc[(df2.Age>45) & (df2.Age<=50),'Age_bin_customized_6_bin']='Greater_than_45_less_than_50'\n",
    "df2.loc[(df2.Age>50),'Age_bin_customized_6_bin']='Greater_than_50'"
   ]
  },
  {
   "cell_type": "code",
   "execution_count": 32,
   "metadata": {
    "collapsed": false,
    "deletable": true,
    "editable": true
   },
   "outputs": [
    {
     "data": {
      "text/html": [
       "<div>\n",
       "<table border=\"1\" class=\"dataframe\">\n",
       "  <thead>\n",
       "    <tr style=\"text-align: right;\">\n",
       "      <th></th>\n",
       "      <th>Age</th>\n",
       "      <th>Attrition</th>\n",
       "      <th>BusinessTravel</th>\n",
       "      <th>Department</th>\n",
       "      <th>DistanceFromHome</th>\n",
       "      <th>Education</th>\n",
       "      <th>EducationField</th>\n",
       "      <th>EnvironmentSatisfaction</th>\n",
       "      <th>Gender</th>\n",
       "      <th>JobInvolvement</th>\n",
       "      <th>...</th>\n",
       "      <th>Salary_diff</th>\n",
       "      <th>DistanceFromHome_bin</th>\n",
       "      <th>NumCompaniesWorked_bin</th>\n",
       "      <th>PercentSalaryHike_bin</th>\n",
       "      <th>YearsAtCompany_bin</th>\n",
       "      <th>YearsInCurrentRole_bin</th>\n",
       "      <th>YearsSinceLastPromotion_bin</th>\n",
       "      <th>YearsWithCurrManager_bin</th>\n",
       "      <th>Age_bin</th>\n",
       "      <th>TotalWorkingYears_bin</th>\n",
       "    </tr>\n",
       "    <tr>\n",
       "      <th>Age_bin_customized_6_bin</th>\n",
       "      <th></th>\n",
       "      <th></th>\n",
       "      <th></th>\n",
       "      <th></th>\n",
       "      <th></th>\n",
       "      <th></th>\n",
       "      <th></th>\n",
       "      <th></th>\n",
       "      <th></th>\n",
       "      <th></th>\n",
       "      <th></th>\n",
       "      <th></th>\n",
       "      <th></th>\n",
       "      <th></th>\n",
       "      <th></th>\n",
       "      <th></th>\n",
       "      <th></th>\n",
       "      <th></th>\n",
       "      <th></th>\n",
       "      <th></th>\n",
       "      <th></th>\n",
       "    </tr>\n",
       "  </thead>\n",
       "  <tbody>\n",
       "    <tr>\n",
       "      <th>Greater_than_30_less_than_35</th>\n",
       "      <td>343</td>\n",
       "      <td>343</td>\n",
       "      <td>343</td>\n",
       "      <td>343</td>\n",
       "      <td>343</td>\n",
       "      <td>343</td>\n",
       "      <td>343</td>\n",
       "      <td>343</td>\n",
       "      <td>343</td>\n",
       "      <td>343</td>\n",
       "      <td>...</td>\n",
       "      <td>343</td>\n",
       "      <td>343</td>\n",
       "      <td>343</td>\n",
       "      <td>343</td>\n",
       "      <td>343</td>\n",
       "      <td>343</td>\n",
       "      <td>343</td>\n",
       "      <td>343</td>\n",
       "      <td>343</td>\n",
       "      <td>343</td>\n",
       "    </tr>\n",
       "    <tr>\n",
       "      <th>Greater_than_35_less_than_40</th>\n",
       "      <td>276</td>\n",
       "      <td>276</td>\n",
       "      <td>276</td>\n",
       "      <td>276</td>\n",
       "      <td>276</td>\n",
       "      <td>276</td>\n",
       "      <td>276</td>\n",
       "      <td>276</td>\n",
       "      <td>276</td>\n",
       "      <td>276</td>\n",
       "      <td>...</td>\n",
       "      <td>276</td>\n",
       "      <td>276</td>\n",
       "      <td>276</td>\n",
       "      <td>276</td>\n",
       "      <td>276</td>\n",
       "      <td>276</td>\n",
       "      <td>276</td>\n",
       "      <td>276</td>\n",
       "      <td>276</td>\n",
       "      <td>276</td>\n",
       "    </tr>\n",
       "    <tr>\n",
       "      <th>Greater_than_40_less_than_45</th>\n",
       "      <td>192</td>\n",
       "      <td>192</td>\n",
       "      <td>192</td>\n",
       "      <td>192</td>\n",
       "      <td>192</td>\n",
       "      <td>192</td>\n",
       "      <td>192</td>\n",
       "      <td>192</td>\n",
       "      <td>192</td>\n",
       "      <td>192</td>\n",
       "      <td>...</td>\n",
       "      <td>192</td>\n",
       "      <td>192</td>\n",
       "      <td>192</td>\n",
       "      <td>192</td>\n",
       "      <td>192</td>\n",
       "      <td>192</td>\n",
       "      <td>192</td>\n",
       "      <td>192</td>\n",
       "      <td>192</td>\n",
       "      <td>192</td>\n",
       "    </tr>\n",
       "    <tr>\n",
       "      <th>Greater_than_45_less_than_50</th>\n",
       "      <td>130</td>\n",
       "      <td>130</td>\n",
       "      <td>130</td>\n",
       "      <td>130</td>\n",
       "      <td>130</td>\n",
       "      <td>130</td>\n",
       "      <td>130</td>\n",
       "      <td>130</td>\n",
       "      <td>130</td>\n",
       "      <td>130</td>\n",
       "      <td>...</td>\n",
       "      <td>130</td>\n",
       "      <td>130</td>\n",
       "      <td>130</td>\n",
       "      <td>130</td>\n",
       "      <td>130</td>\n",
       "      <td>130</td>\n",
       "      <td>130</td>\n",
       "      <td>130</td>\n",
       "      <td>130</td>\n",
       "      <td>130</td>\n",
       "    </tr>\n",
       "    <tr>\n",
       "      <th>Greater_than_50</th>\n",
       "      <td>143</td>\n",
       "      <td>143</td>\n",
       "      <td>143</td>\n",
       "      <td>143</td>\n",
       "      <td>143</td>\n",
       "      <td>143</td>\n",
       "      <td>143</td>\n",
       "      <td>143</td>\n",
       "      <td>143</td>\n",
       "      <td>143</td>\n",
       "      <td>...</td>\n",
       "      <td>143</td>\n",
       "      <td>143</td>\n",
       "      <td>143</td>\n",
       "      <td>143</td>\n",
       "      <td>143</td>\n",
       "      <td>143</td>\n",
       "      <td>143</td>\n",
       "      <td>143</td>\n",
       "      <td>143</td>\n",
       "      <td>143</td>\n",
       "    </tr>\n",
       "    <tr>\n",
       "      <th>Less_than_30</th>\n",
       "      <td>386</td>\n",
       "      <td>386</td>\n",
       "      <td>386</td>\n",
       "      <td>386</td>\n",
       "      <td>386</td>\n",
       "      <td>386</td>\n",
       "      <td>386</td>\n",
       "      <td>386</td>\n",
       "      <td>386</td>\n",
       "      <td>386</td>\n",
       "      <td>...</td>\n",
       "      <td>386</td>\n",
       "      <td>386</td>\n",
       "      <td>386</td>\n",
       "      <td>386</td>\n",
       "      <td>386</td>\n",
       "      <td>386</td>\n",
       "      <td>386</td>\n",
       "      <td>386</td>\n",
       "      <td>386</td>\n",
       "      <td>386</td>\n",
       "    </tr>\n",
       "  </tbody>\n",
       "</table>\n",
       "<p>6 rows × 38 columns</p>\n",
       "</div>"
      ],
      "text/plain": [
       "                              Age  Attrition  BusinessTravel  Department  \\\n",
       "Age_bin_customized_6_bin                                                   \n",
       "Greater_than_30_less_than_35  343        343             343         343   \n",
       "Greater_than_35_less_than_40  276        276             276         276   \n",
       "Greater_than_40_less_than_45  192        192             192         192   \n",
       "Greater_than_45_less_than_50  130        130             130         130   \n",
       "Greater_than_50               143        143             143         143   \n",
       "Less_than_30                  386        386             386         386   \n",
       "\n",
       "                              DistanceFromHome  Education  EducationField  \\\n",
       "Age_bin_customized_6_bin                                                    \n",
       "Greater_than_30_less_than_35               343        343             343   \n",
       "Greater_than_35_less_than_40               276        276             276   \n",
       "Greater_than_40_less_than_45               192        192             192   \n",
       "Greater_than_45_less_than_50               130        130             130   \n",
       "Greater_than_50                            143        143             143   \n",
       "Less_than_30                               386        386             386   \n",
       "\n",
       "                              EnvironmentSatisfaction  Gender  JobInvolvement  \\\n",
       "Age_bin_customized_6_bin                                                        \n",
       "Greater_than_30_less_than_35                      343     343             343   \n",
       "Greater_than_35_less_than_40                      276     276             276   \n",
       "Greater_than_40_less_than_45                      192     192             192   \n",
       "Greater_than_45_less_than_50                      130     130             130   \n",
       "Greater_than_50                                   143     143             143   \n",
       "Less_than_30                                      386     386             386   \n",
       "\n",
       "                                      ...            Salary_diff  \\\n",
       "Age_bin_customized_6_bin              ...                          \n",
       "Greater_than_30_less_than_35          ...                    343   \n",
       "Greater_than_35_less_than_40          ...                    276   \n",
       "Greater_than_40_less_than_45          ...                    192   \n",
       "Greater_than_45_less_than_50          ...                    130   \n",
       "Greater_than_50                       ...                    143   \n",
       "Less_than_30                          ...                    386   \n",
       "\n",
       "                              DistanceFromHome_bin  NumCompaniesWorked_bin  \\\n",
       "Age_bin_customized_6_bin                                                     \n",
       "Greater_than_30_less_than_35                   343                     343   \n",
       "Greater_than_35_less_than_40                   276                     276   \n",
       "Greater_than_40_less_than_45                   192                     192   \n",
       "Greater_than_45_less_than_50                   130                     130   \n",
       "Greater_than_50                                143                     143   \n",
       "Less_than_30                                   386                     386   \n",
       "\n",
       "                              PercentSalaryHike_bin  YearsAtCompany_bin  \\\n",
       "Age_bin_customized_6_bin                                                  \n",
       "Greater_than_30_less_than_35                    343                 343   \n",
       "Greater_than_35_less_than_40                    276                 276   \n",
       "Greater_than_40_less_than_45                    192                 192   \n",
       "Greater_than_45_less_than_50                    130                 130   \n",
       "Greater_than_50                                 143                 143   \n",
       "Less_than_30                                    386                 386   \n",
       "\n",
       "                              YearsInCurrentRole_bin  \\\n",
       "Age_bin_customized_6_bin                               \n",
       "Greater_than_30_less_than_35                     343   \n",
       "Greater_than_35_less_than_40                     276   \n",
       "Greater_than_40_less_than_45                     192   \n",
       "Greater_than_45_less_than_50                     130   \n",
       "Greater_than_50                                  143   \n",
       "Less_than_30                                     386   \n",
       "\n",
       "                              YearsSinceLastPromotion_bin  \\\n",
       "Age_bin_customized_6_bin                                    \n",
       "Greater_than_30_less_than_35                          343   \n",
       "Greater_than_35_less_than_40                          276   \n",
       "Greater_than_40_less_than_45                          192   \n",
       "Greater_than_45_less_than_50                          130   \n",
       "Greater_than_50                                       143   \n",
       "Less_than_30                                          386   \n",
       "\n",
       "                              YearsWithCurrManager_bin  Age_bin  \\\n",
       "Age_bin_customized_6_bin                                          \n",
       "Greater_than_30_less_than_35                       343      343   \n",
       "Greater_than_35_less_than_40                       276      276   \n",
       "Greater_than_40_less_than_45                       192      192   \n",
       "Greater_than_45_less_than_50                       130      130   \n",
       "Greater_than_50                                    143      143   \n",
       "Less_than_30                                       386      386   \n",
       "\n",
       "                              TotalWorkingYears_bin  \n",
       "Age_bin_customized_6_bin                             \n",
       "Greater_than_30_less_than_35                    343  \n",
       "Greater_than_35_less_than_40                    276  \n",
       "Greater_than_40_less_than_45                    192  \n",
       "Greater_than_45_less_than_50                    130  \n",
       "Greater_than_50                                 143  \n",
       "Less_than_30                                    386  \n",
       "\n",
       "[6 rows x 38 columns]"
      ]
     },
     "execution_count": 32,
     "metadata": {},
     "output_type": "execute_result"
    }
   ],
   "source": [
    "df2.groupby('Age_bin_customized_6_bin').count()"
   ]
  },
  {
   "cell_type": "code",
   "execution_count": 117,
   "metadata": {
    "collapsed": true,
    "deletable": true,
    "editable": true
   },
   "outputs": [],
   "source": [
    "df2.loc[df2.Age<=29,'Age_bin_customized']='Less_than_29'\n",
    "df2.loc[(df2.Age>29) & (df2.Age<=33),'Age_bin_customized']='Greater_than_29_less_than_33'\n",
    "df2.loc[(df2.Age>33) & (df2.Age<=38),'Age_bin_customized']='Greater_than_33_less_than_38'\n",
    "df2.loc[(df2.Age>38) & (df2.Age<=45),'Age_bin_customized']='Greater_than_38_less_than_45'\n",
    "df2.loc[(df2.Age>45),'Age_bin_customized']='Greater_than_45'"
   ]
  },
  {
   "cell_type": "code",
   "execution_count": 118,
   "metadata": {
    "collapsed": false,
    "deletable": true,
    "editable": true
   },
   "outputs": [
    {
     "data": {
      "text/html": [
       "<div>\n",
       "<table border=\"1\" class=\"dataframe\">\n",
       "  <thead>\n",
       "    <tr style=\"text-align: right;\">\n",
       "      <th></th>\n",
       "      <th>Age</th>\n",
       "      <th>Attrition</th>\n",
       "      <th>BusinessTravel</th>\n",
       "      <th>Department</th>\n",
       "      <th>DistanceFromHome</th>\n",
       "      <th>Education</th>\n",
       "      <th>EducationField</th>\n",
       "      <th>EnvironmentSatisfaction</th>\n",
       "      <th>Gender</th>\n",
       "      <th>JobInvolvement</th>\n",
       "      <th>...</th>\n",
       "      <th>DistanceFromHome_bin</th>\n",
       "      <th>NumCompaniesWorked_bin</th>\n",
       "      <th>PercentSalaryHike_bin</th>\n",
       "      <th>YearsAtCompany_bin</th>\n",
       "      <th>YearsInCurrentRole_bin</th>\n",
       "      <th>YearsSinceLastPromotion_bin</th>\n",
       "      <th>YearsWithCurrManager_bin</th>\n",
       "      <th>Age_bin</th>\n",
       "      <th>TotalWorkingYears_bin</th>\n",
       "      <th>Age_bin_customized_6_bin</th>\n",
       "    </tr>\n",
       "    <tr>\n",
       "      <th>Age_bin_customized</th>\n",
       "      <th></th>\n",
       "      <th></th>\n",
       "      <th></th>\n",
       "      <th></th>\n",
       "      <th></th>\n",
       "      <th></th>\n",
       "      <th></th>\n",
       "      <th></th>\n",
       "      <th></th>\n",
       "      <th></th>\n",
       "      <th></th>\n",
       "      <th></th>\n",
       "      <th></th>\n",
       "      <th></th>\n",
       "      <th></th>\n",
       "      <th></th>\n",
       "      <th></th>\n",
       "      <th></th>\n",
       "      <th></th>\n",
       "      <th></th>\n",
       "      <th></th>\n",
       "    </tr>\n",
       "  </thead>\n",
       "  <tbody>\n",
       "    <tr>\n",
       "      <th>Greater_than_29_less_than_33</th>\n",
       "      <td>248</td>\n",
       "      <td>248</td>\n",
       "      <td>248</td>\n",
       "      <td>248</td>\n",
       "      <td>248</td>\n",
       "      <td>248</td>\n",
       "      <td>248</td>\n",
       "      <td>248</td>\n",
       "      <td>248</td>\n",
       "      <td>248</td>\n",
       "      <td>...</td>\n",
       "      <td>248</td>\n",
       "      <td>248</td>\n",
       "      <td>248</td>\n",
       "      <td>248</td>\n",
       "      <td>248</td>\n",
       "      <td>248</td>\n",
       "      <td>248</td>\n",
       "      <td>248</td>\n",
       "      <td>248</td>\n",
       "      <td>248</td>\n",
       "    </tr>\n",
       "    <tr>\n",
       "      <th>Greater_than_33_less_than_38</th>\n",
       "      <td>332</td>\n",
       "      <td>332</td>\n",
       "      <td>332</td>\n",
       "      <td>332</td>\n",
       "      <td>332</td>\n",
       "      <td>332</td>\n",
       "      <td>332</td>\n",
       "      <td>332</td>\n",
       "      <td>332</td>\n",
       "      <td>332</td>\n",
       "      <td>...</td>\n",
       "      <td>332</td>\n",
       "      <td>332</td>\n",
       "      <td>332</td>\n",
       "      <td>332</td>\n",
       "      <td>332</td>\n",
       "      <td>332</td>\n",
       "      <td>332</td>\n",
       "      <td>332</td>\n",
       "      <td>332</td>\n",
       "      <td>332</td>\n",
       "    </tr>\n",
       "    <tr>\n",
       "      <th>Greater_than_38_less_than_45</th>\n",
       "      <td>291</td>\n",
       "      <td>291</td>\n",
       "      <td>291</td>\n",
       "      <td>291</td>\n",
       "      <td>291</td>\n",
       "      <td>291</td>\n",
       "      <td>291</td>\n",
       "      <td>291</td>\n",
       "      <td>291</td>\n",
       "      <td>291</td>\n",
       "      <td>...</td>\n",
       "      <td>291</td>\n",
       "      <td>291</td>\n",
       "      <td>291</td>\n",
       "      <td>291</td>\n",
       "      <td>291</td>\n",
       "      <td>291</td>\n",
       "      <td>291</td>\n",
       "      <td>291</td>\n",
       "      <td>291</td>\n",
       "      <td>291</td>\n",
       "    </tr>\n",
       "    <tr>\n",
       "      <th>Greater_than_45</th>\n",
       "      <td>273</td>\n",
       "      <td>273</td>\n",
       "      <td>273</td>\n",
       "      <td>273</td>\n",
       "      <td>273</td>\n",
       "      <td>273</td>\n",
       "      <td>273</td>\n",
       "      <td>273</td>\n",
       "      <td>273</td>\n",
       "      <td>273</td>\n",
       "      <td>...</td>\n",
       "      <td>273</td>\n",
       "      <td>273</td>\n",
       "      <td>273</td>\n",
       "      <td>273</td>\n",
       "      <td>273</td>\n",
       "      <td>273</td>\n",
       "      <td>273</td>\n",
       "      <td>273</td>\n",
       "      <td>273</td>\n",
       "      <td>273</td>\n",
       "    </tr>\n",
       "    <tr>\n",
       "      <th>Less_than_29</th>\n",
       "      <td>326</td>\n",
       "      <td>326</td>\n",
       "      <td>326</td>\n",
       "      <td>326</td>\n",
       "      <td>326</td>\n",
       "      <td>326</td>\n",
       "      <td>326</td>\n",
       "      <td>326</td>\n",
       "      <td>326</td>\n",
       "      <td>326</td>\n",
       "      <td>...</td>\n",
       "      <td>326</td>\n",
       "      <td>326</td>\n",
       "      <td>326</td>\n",
       "      <td>326</td>\n",
       "      <td>326</td>\n",
       "      <td>326</td>\n",
       "      <td>326</td>\n",
       "      <td>326</td>\n",
       "      <td>326</td>\n",
       "      <td>326</td>\n",
       "    </tr>\n",
       "  </tbody>\n",
       "</table>\n",
       "<p>5 rows × 39 columns</p>\n",
       "</div>"
      ],
      "text/plain": [
       "                              Age  Attrition  BusinessTravel  Department  \\\n",
       "Age_bin_customized                                                         \n",
       "Greater_than_29_less_than_33  248        248             248         248   \n",
       "Greater_than_33_less_than_38  332        332             332         332   \n",
       "Greater_than_38_less_than_45  291        291             291         291   \n",
       "Greater_than_45               273        273             273         273   \n",
       "Less_than_29                  326        326             326         326   \n",
       "\n",
       "                              DistanceFromHome  Education  EducationField  \\\n",
       "Age_bin_customized                                                          \n",
       "Greater_than_29_less_than_33               248        248             248   \n",
       "Greater_than_33_less_than_38               332        332             332   \n",
       "Greater_than_38_less_than_45               291        291             291   \n",
       "Greater_than_45                            273        273             273   \n",
       "Less_than_29                               326        326             326   \n",
       "\n",
       "                              EnvironmentSatisfaction  Gender  JobInvolvement  \\\n",
       "Age_bin_customized                                                              \n",
       "Greater_than_29_less_than_33                      248     248             248   \n",
       "Greater_than_33_less_than_38                      332     332             332   \n",
       "Greater_than_38_less_than_45                      291     291             291   \n",
       "Greater_than_45                                   273     273             273   \n",
       "Less_than_29                                      326     326             326   \n",
       "\n",
       "                                        ...             DistanceFromHome_bin  \\\n",
       "Age_bin_customized                      ...                                    \n",
       "Greater_than_29_less_than_33            ...                              248   \n",
       "Greater_than_33_less_than_38            ...                              332   \n",
       "Greater_than_38_less_than_45            ...                              291   \n",
       "Greater_than_45                         ...                              273   \n",
       "Less_than_29                            ...                              326   \n",
       "\n",
       "                              NumCompaniesWorked_bin  PercentSalaryHike_bin  \\\n",
       "Age_bin_customized                                                            \n",
       "Greater_than_29_less_than_33                     248                    248   \n",
       "Greater_than_33_less_than_38                     332                    332   \n",
       "Greater_than_38_less_than_45                     291                    291   \n",
       "Greater_than_45                                  273                    273   \n",
       "Less_than_29                                     326                    326   \n",
       "\n",
       "                              YearsAtCompany_bin  YearsInCurrentRole_bin  \\\n",
       "Age_bin_customized                                                         \n",
       "Greater_than_29_less_than_33                 248                     248   \n",
       "Greater_than_33_less_than_38                 332                     332   \n",
       "Greater_than_38_less_than_45                 291                     291   \n",
       "Greater_than_45                              273                     273   \n",
       "Less_than_29                                 326                     326   \n",
       "\n",
       "                              YearsSinceLastPromotion_bin  \\\n",
       "Age_bin_customized                                          \n",
       "Greater_than_29_less_than_33                          248   \n",
       "Greater_than_33_less_than_38                          332   \n",
       "Greater_than_38_less_than_45                          291   \n",
       "Greater_than_45                                       273   \n",
       "Less_than_29                                          326   \n",
       "\n",
       "                              YearsWithCurrManager_bin  Age_bin  \\\n",
       "Age_bin_customized                                                \n",
       "Greater_than_29_less_than_33                       248      248   \n",
       "Greater_than_33_less_than_38                       332      332   \n",
       "Greater_than_38_less_than_45                       291      291   \n",
       "Greater_than_45                                    273      273   \n",
       "Less_than_29                                       326      326   \n",
       "\n",
       "                              TotalWorkingYears_bin  Age_bin_customized_6_bin  \n",
       "Age_bin_customized                                                             \n",
       "Greater_than_29_less_than_33                    248                       248  \n",
       "Greater_than_33_less_than_38                    332                       332  \n",
       "Greater_than_38_less_than_45                    291                       291  \n",
       "Greater_than_45                                 273                       273  \n",
       "Less_than_29                                    326                       326  \n",
       "\n",
       "[5 rows x 39 columns]"
      ]
     },
     "execution_count": 118,
     "metadata": {},
     "output_type": "execute_result"
    }
   ],
   "source": [
    "df2.groupby('Age_bin_customized').count()"
   ]
  },
  {
   "cell_type": "code",
   "execution_count": 119,
   "metadata": {
    "collapsed": true,
    "deletable": true,
    "editable": true
   },
   "outputs": [],
   "source": []
  },
  {
   "cell_type": "code",
   "execution_count": 122,
   "metadata": {
    "collapsed": false,
    "deletable": true,
    "editable": true
   },
   "outputs": [],
   "source": [
    "df2.loc[(df2.JobSatisfaction<=2) & df2.DistanceFromHome<=2,'Job_distance_bin']='Job_Satisfication_less2_&_Within_2_miles'\n",
    "df2.loc[(df2.JobSatisfaction<=2) &(df2.DistanceFromHome>2) & (df2.DistanceFromHome<=7),'Job_distance_bin']='Job_Satisfication_less2_&Greater_than_2_miles_less_than_7'\n",
    "df2.loc[(df2.JobSatisfaction<=2) &(df2.DistanceFromHome>7) & (df2.DistanceFromHome<=14),'Job_distance_bin']='Job_Satisfication_less2_&Greater_than_7_miles_less_than_14'\n",
    "df2.loc[(df2.JobSatisfaction<=2) &(df2.DistanceFromHome>14),'Job_distance_bin']='Job_Satisfication_less2__&_Greater_than_14'\n",
    "df2.loc[(df2.JobSatisfaction>2) & df2.DistanceFromHome<=2,'Job_distance_bin']='Job_Satisfication_more2_&_Within_2_miles'\n",
    "df2.loc[(df2.JobSatisfaction>2) &(df2.DistanceFromHome>2) & (df2.DistanceFromHome<=7),'Job_distance_bin']='Job_Satisfication_more2_&Greater_than_2_miles_less_than_7'\n",
    "df2.loc[(df2.JobSatisfaction>2) &(df2.DistanceFromHome>7) & (df2.DistanceFromHome<=14),'Job_distance_bin']='Job_Satisfication_more2_&Greater_than_7_miles_less_than_14'\n",
    "df2.loc[(df2.JobSatisfaction>2) &(df2.DistanceFromHome>14),'Job_distance_bin']='Job_Satisfication_more2_&_Greater_than_14'"
   ]
  },
  {
   "cell_type": "code",
   "execution_count": 35,
   "metadata": {
    "collapsed": true,
    "deletable": true,
    "editable": true
   },
   "outputs": [],
   "source": [
    "df3=df2.drop(['Age_bin_customized','Age_bin_customized_6_bin'], axis=1)"
   ]
  },
  {
   "cell_type": "code",
   "execution_count": 36,
   "metadata": {
    "collapsed": true,
    "deletable": true,
    "editable": true
   },
   "outputs": [],
   "source": [
    "df4=df2.drop(['Age_bin','Age_bin_customized_6_bin'], axis=1)"
   ]
  },
  {
   "cell_type": "code",
   "execution_count": 37,
   "metadata": {
    "collapsed": true,
    "deletable": true,
    "editable": true
   },
   "outputs": [],
   "source": [
    "df5=df2.drop(['Age_bin_customized','Age_bin'], axis=1)"
   ]
  },
  {
   "cell_type": "code",
   "execution_count": null,
   "metadata": {
    "collapsed": true,
    "deletable": true,
    "editable": true
   },
   "outputs": [],
   "source": []
  },
  {
   "cell_type": "code",
   "execution_count": 38,
   "metadata": {
    "collapsed": false,
    "deletable": true,
    "editable": true
   },
   "outputs": [],
   "source": [
    "df3=df3.drop('Age',axis=1)"
   ]
  },
  {
   "cell_type": "code",
   "execution_count": 39,
   "metadata": {
    "collapsed": false,
    "deletable": true,
    "editable": true
   },
   "outputs": [
    {
     "data": {
      "text/html": [
       "<div>\n",
       "<table border=\"1\" class=\"dataframe\">\n",
       "  <thead>\n",
       "    <tr style=\"text-align: right;\">\n",
       "      <th></th>\n",
       "      <th>Attrition</th>\n",
       "      <th>BusinessTravel</th>\n",
       "      <th>Department</th>\n",
       "      <th>DistanceFromHome</th>\n",
       "      <th>Education</th>\n",
       "      <th>EducationField</th>\n",
       "      <th>EnvironmentSatisfaction</th>\n",
       "      <th>Gender</th>\n",
       "      <th>JobInvolvement</th>\n",
       "      <th>JobLevel</th>\n",
       "      <th>...</th>\n",
       "      <th>Salary_diff</th>\n",
       "      <th>DistanceFromHome_bin</th>\n",
       "      <th>NumCompaniesWorked_bin</th>\n",
       "      <th>PercentSalaryHike_bin</th>\n",
       "      <th>YearsAtCompany_bin</th>\n",
       "      <th>YearsInCurrentRole_bin</th>\n",
       "      <th>YearsSinceLastPromotion_bin</th>\n",
       "      <th>YearsWithCurrManager_bin</th>\n",
       "      <th>Age_bin</th>\n",
       "      <th>TotalWorkingYears_bin</th>\n",
       "    </tr>\n",
       "  </thead>\n",
       "  <tbody>\n",
       "    <tr>\n",
       "      <th>0</th>\n",
       "      <td>1</td>\n",
       "      <td>Travel_Rarely</td>\n",
       "      <td>Sales</td>\n",
       "      <td>1</td>\n",
       "      <td>2</td>\n",
       "      <td>LifeSciences</td>\n",
       "      <td>2</td>\n",
       "      <td>Female</td>\n",
       "      <td>3</td>\n",
       "      <td>2</td>\n",
       "      <td>...</td>\n",
       "      <td>24946.55</td>\n",
       "      <td>Within_2_miles</td>\n",
       "      <td>Greater_than_7</td>\n",
       "      <td>Less_than_12</td>\n",
       "      <td>Greater_than_5_less_than_9</td>\n",
       "      <td>Greater_than_3_less_than_7</td>\n",
       "      <td>Zero</td>\n",
       "      <td>Greater_than_3_less_than_7</td>\n",
       "      <td>Greater_than_36_less_than_43</td>\n",
       "      <td>Greater_than_6_less_than_10</td>\n",
       "    </tr>\n",
       "    <tr>\n",
       "      <th>1</th>\n",
       "      <td>0</td>\n",
       "      <td>Travel_Frequently</td>\n",
       "      <td>Research &amp; Development</td>\n",
       "      <td>8</td>\n",
       "      <td>1</td>\n",
       "      <td>LifeSciences</td>\n",
       "      <td>3</td>\n",
       "      <td>Male</td>\n",
       "      <td>2</td>\n",
       "      <td>2</td>\n",
       "      <td>...</td>\n",
       "      <td>431.75</td>\n",
       "      <td>Greater_than_7_miles_less_than_14</td>\n",
       "      <td>One</td>\n",
       "      <td>Greater_than_18</td>\n",
       "      <td>Greater_than_9</td>\n",
       "      <td>Greater_than_3_less_than_7</td>\n",
       "      <td>Greater_than_0_less_than_1</td>\n",
       "      <td>Greater_than_3_less_than_7</td>\n",
       "      <td>Greater_than_43</td>\n",
       "      <td>Greater_than_6_less_than_10</td>\n",
       "    </tr>\n",
       "    <tr>\n",
       "      <th>2</th>\n",
       "      <td>1</td>\n",
       "      <td>Travel_Rarely</td>\n",
       "      <td>Research &amp; Development</td>\n",
       "      <td>2</td>\n",
       "      <td>2</td>\n",
       "      <td>Other</td>\n",
       "      <td>4</td>\n",
       "      <td>Male</td>\n",
       "      <td>2</td>\n",
       "      <td>1</td>\n",
       "      <td>...</td>\n",
       "      <td>-32324.55</td>\n",
       "      <td>Within_2_miles</td>\n",
       "      <td>Greater_than_2_less_than_7</td>\n",
       "      <td>Greater_than_14_less_than_18</td>\n",
       "      <td>Less_than_3</td>\n",
       "      <td>Less_than_2</td>\n",
       "      <td>Zero</td>\n",
       "      <td>Less_than_2</td>\n",
       "      <td>Greater_than_36_less_than_43</td>\n",
       "      <td>Greater_than_6_less_than_10</td>\n",
       "    </tr>\n",
       "    <tr>\n",
       "      <th>3</th>\n",
       "      <td>0</td>\n",
       "      <td>Travel_Frequently</td>\n",
       "      <td>Research &amp; Development</td>\n",
       "      <td>3</td>\n",
       "      <td>4</td>\n",
       "      <td>LifeSciences</td>\n",
       "      <td>4</td>\n",
       "      <td>Female</td>\n",
       "      <td>3</td>\n",
       "      <td>1</td>\n",
       "      <td>...</td>\n",
       "      <td>-22496.55</td>\n",
       "      <td>Greater_than_2_miles_less_than_7</td>\n",
       "      <td>One</td>\n",
       "      <td>Less_than_12</td>\n",
       "      <td>Greater_than_5_less_than_9</td>\n",
       "      <td>Greater_than_3_less_than_7</td>\n",
       "      <td>Greater_than_1_less_than_3</td>\n",
       "      <td>Less_than_2</td>\n",
       "      <td>Greater_than_30_less_than_36</td>\n",
       "      <td>Greater_than_6_less_than_10</td>\n",
       "    </tr>\n",
       "    <tr>\n",
       "      <th>4</th>\n",
       "      <td>0</td>\n",
       "      <td>Travel_Rarely</td>\n",
       "      <td>Research &amp; Development</td>\n",
       "      <td>2</td>\n",
       "      <td>1</td>\n",
       "      <td>Medical</td>\n",
       "      <td>1</td>\n",
       "      <td>Male</td>\n",
       "      <td>3</td>\n",
       "      <td>1</td>\n",
       "      <td>...</td>\n",
       "      <td>-15788.55</td>\n",
       "      <td>Within_2_miles</td>\n",
       "      <td>Greater_than_7</td>\n",
       "      <td>Less_than_12</td>\n",
       "      <td>Less_than_3</td>\n",
       "      <td>Less_than_2</td>\n",
       "      <td>Greater_than_1_less_than_3</td>\n",
       "      <td>Less_than_2</td>\n",
       "      <td>Less_than_30</td>\n",
       "      <td>Less_than_6</td>\n",
       "    </tr>\n",
       "  </tbody>\n",
       "</table>\n",
       "<p>5 rows × 37 columns</p>\n",
       "</div>"
      ],
      "text/plain": [
       "   Attrition     BusinessTravel              Department  DistanceFromHome  \\\n",
       "0          1      Travel_Rarely                   Sales                 1   \n",
       "1          0  Travel_Frequently  Research & Development                 8   \n",
       "2          1      Travel_Rarely  Research & Development                 2   \n",
       "3          0  Travel_Frequently  Research & Development                 3   \n",
       "4          0      Travel_Rarely  Research & Development                 2   \n",
       "\n",
       "   Education EducationField  EnvironmentSatisfaction  Gender  JobInvolvement  \\\n",
       "0          2   LifeSciences                        2  Female               3   \n",
       "1          1   LifeSciences                        3    Male               2   \n",
       "2          2          Other                        4    Male               2   \n",
       "3          4   LifeSciences                        4  Female               3   \n",
       "4          1        Medical                        1    Male               3   \n",
       "\n",
       "   JobLevel             ...              Salary_diff  \\\n",
       "0         2             ...                 24946.55   \n",
       "1         2             ...                   431.75   \n",
       "2         1             ...                -32324.55   \n",
       "3         1             ...                -22496.55   \n",
       "4         1             ...                -15788.55   \n",
       "\n",
       "                DistanceFromHome_bin      NumCompaniesWorked_bin  \\\n",
       "0                     Within_2_miles              Greater_than_7   \n",
       "1  Greater_than_7_miles_less_than_14                         One   \n",
       "2                     Within_2_miles  Greater_than_2_less_than_7   \n",
       "3   Greater_than_2_miles_less_than_7                         One   \n",
       "4                     Within_2_miles              Greater_than_7   \n",
       "\n",
       "          PercentSalaryHike_bin          YearsAtCompany_bin  \\\n",
       "0                  Less_than_12  Greater_than_5_less_than_9   \n",
       "1               Greater_than_18              Greater_than_9   \n",
       "2  Greater_than_14_less_than_18                 Less_than_3   \n",
       "3                  Less_than_12  Greater_than_5_less_than_9   \n",
       "4                  Less_than_12                 Less_than_3   \n",
       "\n",
       "       YearsInCurrentRole_bin  YearsSinceLastPromotion_bin  \\\n",
       "0  Greater_than_3_less_than_7                         Zero   \n",
       "1  Greater_than_3_less_than_7   Greater_than_0_less_than_1   \n",
       "2                 Less_than_2                         Zero   \n",
       "3  Greater_than_3_less_than_7   Greater_than_1_less_than_3   \n",
       "4                 Less_than_2   Greater_than_1_less_than_3   \n",
       "\n",
       "     YearsWithCurrManager_bin                       Age_bin  \\\n",
       "0  Greater_than_3_less_than_7  Greater_than_36_less_than_43   \n",
       "1  Greater_than_3_less_than_7               Greater_than_43   \n",
       "2                 Less_than_2  Greater_than_36_less_than_43   \n",
       "3                 Less_than_2  Greater_than_30_less_than_36   \n",
       "4                 Less_than_2                  Less_than_30   \n",
       "\n",
       "         TotalWorkingYears_bin  \n",
       "0  Greater_than_6_less_than_10  \n",
       "1  Greater_than_6_less_than_10  \n",
       "2  Greater_than_6_less_than_10  \n",
       "3  Greater_than_6_less_than_10  \n",
       "4                  Less_than_6  \n",
       "\n",
       "[5 rows x 37 columns]"
      ]
     },
     "execution_count": 39,
     "metadata": {},
     "output_type": "execute_result"
    }
   ],
   "source": [
    "df3.head()\n"
   ]
  },
  {
   "cell_type": "code",
   "execution_count": 123,
   "metadata": {
    "collapsed": false,
    "deletable": true,
    "editable": true
   },
   "outputs": [
    {
     "ename": "AttributeError",
     "evalue": "'DataFrame' object has no attribute 'OverTime'",
     "output_type": "error",
     "traceback": [
      "\u001b[1;31m---------------------------------------------------------------------------\u001b[0m",
      "\u001b[1;31mAttributeError\u001b[0m                            Traceback (most recent call last)",
      "\u001b[1;32m<ipython-input-123-8dbdfbd8f9e1>\u001b[0m in \u001b[0;36m<module>\u001b[1;34m()\u001b[0m\n\u001b[1;32m----> 1\u001b[1;33m \u001b[0mdf3\u001b[0m\u001b[1;33m[\u001b[0m\u001b[1;34m'OverTime_bin'\u001b[0m\u001b[1;33m]\u001b[0m\u001b[1;33m=\u001b[0m\u001b[1;33m(\u001b[0m\u001b[0mdf3\u001b[0m\u001b[1;33m.\u001b[0m\u001b[0mOverTime\u001b[0m\u001b[1;33m==\u001b[0m\u001b[1;34m'Yes'\u001b[0m\u001b[1;33m)\u001b[0m\u001b[1;33m+\u001b[0m\u001b[1;36m0.0\u001b[0m\u001b[1;33m\u001b[0m\u001b[0m\n\u001b[0m",
      "\u001b[1;32mC:\\Users\\rupali\\AppData\\Local\\Enthought\\Canopy\\User\\lib\\site-packages\\pandas\\core\\generic.pyc\u001b[0m in \u001b[0;36m__getattr__\u001b[1;34m(self, name)\u001b[0m\n\u001b[0;32m   2667\u001b[0m             \u001b[1;32mif\u001b[0m \u001b[0mname\u001b[0m \u001b[1;32min\u001b[0m \u001b[0mself\u001b[0m\u001b[1;33m.\u001b[0m\u001b[0m_info_axis\u001b[0m\u001b[1;33m:\u001b[0m\u001b[1;33m\u001b[0m\u001b[0m\n\u001b[0;32m   2668\u001b[0m                 \u001b[1;32mreturn\u001b[0m \u001b[0mself\u001b[0m\u001b[1;33m[\u001b[0m\u001b[0mname\u001b[0m\u001b[1;33m]\u001b[0m\u001b[1;33m\u001b[0m\u001b[0m\n\u001b[1;32m-> 2669\u001b[1;33m             \u001b[1;32mreturn\u001b[0m \u001b[0mobject\u001b[0m\u001b[1;33m.\u001b[0m\u001b[0m__getattribute__\u001b[0m\u001b[1;33m(\u001b[0m\u001b[0mself\u001b[0m\u001b[1;33m,\u001b[0m \u001b[0mname\u001b[0m\u001b[1;33m)\u001b[0m\u001b[1;33m\u001b[0m\u001b[0m\n\u001b[0m\u001b[0;32m   2670\u001b[0m \u001b[1;33m\u001b[0m\u001b[0m\n\u001b[0;32m   2671\u001b[0m     \u001b[1;32mdef\u001b[0m \u001b[0m__setattr__\u001b[0m\u001b[1;33m(\u001b[0m\u001b[0mself\u001b[0m\u001b[1;33m,\u001b[0m \u001b[0mname\u001b[0m\u001b[1;33m,\u001b[0m \u001b[0mvalue\u001b[0m\u001b[1;33m)\u001b[0m\u001b[1;33m:\u001b[0m\u001b[1;33m\u001b[0m\u001b[0m\n",
      "\u001b[1;31mAttributeError\u001b[0m: 'DataFrame' object has no attribute 'OverTime'"
     ]
    }
   ],
   "source": [
    "df3['OverTime_bin']=(df3.OverTime=='Yes')+0.0"
   ]
  },
  {
   "cell_type": "code",
   "execution_count": 82,
   "metadata": {
    "collapsed": false,
    "deletable": true,
    "editable": true
   },
   "outputs": [
    {
     "data": {
      "text/html": [
       "<div>\n",
       "<table border=\"1\" class=\"dataframe\">\n",
       "  <thead>\n",
       "    <tr style=\"text-align: right;\">\n",
       "      <th></th>\n",
       "      <th>OverTime_bin</th>\n",
       "      <th>MonthlyIncome</th>\n",
       "    </tr>\n",
       "    <tr>\n",
       "      <th>Attrition</th>\n",
       "      <th></th>\n",
       "      <th></th>\n",
       "    </tr>\n",
       "  </thead>\n",
       "  <tbody>\n",
       "    <tr>\n",
       "      <th>0</th>\n",
       "      <td>0.234388</td>\n",
       "      <td>6832.739659</td>\n",
       "    </tr>\n",
       "    <tr>\n",
       "      <th>1</th>\n",
       "      <td>0.535865</td>\n",
       "      <td>4787.092827</td>\n",
       "    </tr>\n",
       "  </tbody>\n",
       "</table>\n",
       "</div>"
      ],
      "text/plain": [
       "           OverTime_bin  MonthlyIncome\n",
       "Attrition                             \n",
       "0              0.234388    6832.739659\n",
       "1              0.535865    4787.092827"
      ]
     },
     "execution_count": 82,
     "metadata": {},
     "output_type": "execute_result"
    }
   ],
   "source": [
    "df3_dummy.groupby('Attrition')['OverTime_bin','MonthlyIncome'].mean()"
   ]
  },
  {
   "cell_type": "code",
   "execution_count": 124,
   "metadata": {
    "collapsed": false,
    "deletable": true,
    "editable": true
   },
   "outputs": [
    {
     "ename": "ValueError",
     "evalue": "labels ['JobRole' 'OverTime' 'DistanceFromHome' 'PercentSalaryHike'\n 'NumCompaniesWorked' 'TotalWorkingYears' 'TrainingTimesLastYear'\n 'YearsWithCurrManager' 'YearsAtCompany' 'YearsInCurrentRole'\n 'YearsSinceLastPromotion'] not contained in axis",
     "output_type": "error",
     "traceback": [
      "\u001b[1;31m---------------------------------------------------------------------------\u001b[0m",
      "\u001b[1;31mValueError\u001b[0m                                Traceback (most recent call last)",
      "\u001b[1;32m<ipython-input-124-ffda7101bc1c>\u001b[0m in \u001b[0;36m<module>\u001b[1;34m()\u001b[0m\n\u001b[1;32m----> 1\u001b[1;33m \u001b[0mdf3\u001b[0m\u001b[1;33m=\u001b[0m\u001b[0mdf3\u001b[0m\u001b[1;33m.\u001b[0m\u001b[0mdrop\u001b[0m\u001b[1;33m(\u001b[0m\u001b[1;33m[\u001b[0m\u001b[1;34m'JobRole'\u001b[0m\u001b[1;33m,\u001b[0m\u001b[1;34m'OverTime'\u001b[0m\u001b[1;33m,\u001b[0m\u001b[1;34m'DistanceFromHome'\u001b[0m\u001b[1;33m,\u001b[0m\u001b[1;34m'PercentSalaryHike'\u001b[0m\u001b[1;33m,\u001b[0m\u001b[1;34m'NumCompaniesWorked'\u001b[0m\u001b[1;33m,\u001b[0m\u001b[1;34m'TotalWorkingYears'\u001b[0m\u001b[1;33m,\u001b[0m\u001b[1;34m'TrainingTimesLastYear'\u001b[0m\u001b[1;33m,\u001b[0m\u001b[1;34m'YearsWithCurrManager'\u001b[0m\u001b[1;33m,\u001b[0m\u001b[1;34m'YearsAtCompany'\u001b[0m\u001b[1;33m,\u001b[0m\u001b[1;34m'YearsInCurrentRole'\u001b[0m\u001b[1;33m,\u001b[0m\u001b[1;34m'YearsSinceLastPromotion'\u001b[0m\u001b[1;33m]\u001b[0m\u001b[1;33m,\u001b[0m\u001b[0maxis\u001b[0m\u001b[1;33m=\u001b[0m\u001b[1;36m1\u001b[0m\u001b[1;33m)\u001b[0m\u001b[1;33m\u001b[0m\u001b[0m\n\u001b[0m",
      "\u001b[1;32mC:\\Users\\rupali\\AppData\\Local\\Enthought\\Canopy\\User\\lib\\site-packages\\pandas\\core\\generic.pyc\u001b[0m in \u001b[0;36mdrop\u001b[1;34m(self, labels, axis, level, inplace, errors)\u001b[0m\n\u001b[0;32m   1871\u001b[0m                 \u001b[0mnew_axis\u001b[0m \u001b[1;33m=\u001b[0m \u001b[0maxis\u001b[0m\u001b[1;33m.\u001b[0m\u001b[0mdrop\u001b[0m\u001b[1;33m(\u001b[0m\u001b[0mlabels\u001b[0m\u001b[1;33m,\u001b[0m \u001b[0mlevel\u001b[0m\u001b[1;33m=\u001b[0m\u001b[0mlevel\u001b[0m\u001b[1;33m,\u001b[0m \u001b[0merrors\u001b[0m\u001b[1;33m=\u001b[0m\u001b[0merrors\u001b[0m\u001b[1;33m)\u001b[0m\u001b[1;33m\u001b[0m\u001b[0m\n\u001b[0;32m   1872\u001b[0m             \u001b[1;32melse\u001b[0m\u001b[1;33m:\u001b[0m\u001b[1;33m\u001b[0m\u001b[0m\n\u001b[1;32m-> 1873\u001b[1;33m                 \u001b[0mnew_axis\u001b[0m \u001b[1;33m=\u001b[0m \u001b[0maxis\u001b[0m\u001b[1;33m.\u001b[0m\u001b[0mdrop\u001b[0m\u001b[1;33m(\u001b[0m\u001b[0mlabels\u001b[0m\u001b[1;33m,\u001b[0m \u001b[0merrors\u001b[0m\u001b[1;33m=\u001b[0m\u001b[0merrors\u001b[0m\u001b[1;33m)\u001b[0m\u001b[1;33m\u001b[0m\u001b[0m\n\u001b[0m\u001b[0;32m   1874\u001b[0m             \u001b[0mdropped\u001b[0m \u001b[1;33m=\u001b[0m \u001b[0mself\u001b[0m\u001b[1;33m.\u001b[0m\u001b[0mreindex\u001b[0m\u001b[1;33m(\u001b[0m\u001b[1;33m**\u001b[0m\u001b[1;33m{\u001b[0m\u001b[0maxis_name\u001b[0m\u001b[1;33m:\u001b[0m \u001b[0mnew_axis\u001b[0m\u001b[1;33m}\u001b[0m\u001b[1;33m)\u001b[0m\u001b[1;33m\u001b[0m\u001b[0m\n\u001b[0;32m   1875\u001b[0m             \u001b[1;32mtry\u001b[0m\u001b[1;33m:\u001b[0m\u001b[1;33m\u001b[0m\u001b[0m\n",
      "\u001b[1;32mC:\\Users\\rupali\\AppData\\Local\\Enthought\\Canopy\\User\\lib\\site-packages\\pandas\\indexes\\base.pyc\u001b[0m in \u001b[0;36mdrop\u001b[1;34m(self, labels, errors)\u001b[0m\n\u001b[0;32m   2964\u001b[0m             \u001b[1;32mif\u001b[0m \u001b[0merrors\u001b[0m \u001b[1;33m!=\u001b[0m \u001b[1;34m'ignore'\u001b[0m\u001b[1;33m:\u001b[0m\u001b[1;33m\u001b[0m\u001b[0m\n\u001b[0;32m   2965\u001b[0m                 raise ValueError('labels %s not contained in axis' %\n\u001b[1;32m-> 2966\u001b[1;33m                                  labels[mask])\n\u001b[0m\u001b[0;32m   2967\u001b[0m             \u001b[0mindexer\u001b[0m \u001b[1;33m=\u001b[0m \u001b[0mindexer\u001b[0m\u001b[1;33m[\u001b[0m\u001b[1;33m~\u001b[0m\u001b[0mmask\u001b[0m\u001b[1;33m]\u001b[0m\u001b[1;33m\u001b[0m\u001b[0m\n\u001b[0;32m   2968\u001b[0m         \u001b[1;32mreturn\u001b[0m \u001b[0mself\u001b[0m\u001b[1;33m.\u001b[0m\u001b[0mdelete\u001b[0m\u001b[1;33m(\u001b[0m\u001b[0mindexer\u001b[0m\u001b[1;33m)\u001b[0m\u001b[1;33m\u001b[0m\u001b[0m\n",
      "\u001b[1;31mValueError\u001b[0m: labels ['JobRole' 'OverTime' 'DistanceFromHome' 'PercentSalaryHike'\n 'NumCompaniesWorked' 'TotalWorkingYears' 'TrainingTimesLastYear'\n 'YearsWithCurrManager' 'YearsAtCompany' 'YearsInCurrentRole'\n 'YearsSinceLastPromotion'] not contained in axis"
     ]
    }
   ],
   "source": [
    "df3=df3.drop(['JobRole','OverTime','DistanceFromHome','PercentSalaryHike','NumCompaniesWorked','TotalWorkingYears','TrainingTimesLastYear','YearsWithCurrManager','YearsAtCompany','YearsInCurrentRole','YearsSinceLastPromotion'],axis=1)"
   ]
  },
  {
   "cell_type": "code",
   "execution_count": 133,
   "metadata": {
    "collapsed": false,
    "deletable": true,
    "editable": true
   },
   "outputs": [],
   "source": [
    "df3_dummy1= pd.get_dummies(df3,columns=['BusinessTravel','TotalWorkingYears_bin','YearsWithCurrManager_bin','YearsSinceLastPromotion_bin','YearsAtCompany_bin','YearsInCurrentRole_bin','Department','EducationField','PercentSalaryHike_bin','Age_bin','Gender','NumCompaniesWorked_bin' ])"
   ]
  },
  {
   "cell_type": "code",
   "execution_count": 125,
   "metadata": {
    "collapsed": true,
    "deletable": true,
    "editable": true
   },
   "outputs": [],
   "source": [
    "df3=df3.drop(['JobSatisfaction','DistanceFromHome_bin'],axis=1)"
   ]
  },
  {
   "cell_type": "code",
   "execution_count": null,
   "metadata": {
    "collapsed": true,
    "deletable": true,
    "editable": true
   },
   "outputs": [],
   "source": []
  },
  {
   "cell_type": "markdown",
   "metadata": {
    "deletable": true,
    "editable": true
   },
   "source": [
    "#Clustering"
   ]
  },
  {
   "cell_type": "code",
   "execution_count": 116,
   "metadata": {
    "collapsed": false,
    "deletable": true,
    "editable": true
   },
   "outputs": [],
   "source": [
    "df3.corr().to_csv('csvcroo.csv')"
   ]
  },
  {
   "cell_type": "code",
   "execution_count": 43,
   "metadata": {
    "collapsed": false,
    "deletable": true,
    "editable": true,
    "scrolled": true
   },
   "outputs": [
    {
     "data": {
      "text/html": [
       "<div>\n",
       "<table border=\"1\" class=\"dataframe\">\n",
       "  <thead>\n",
       "    <tr style=\"text-align: right;\">\n",
       "      <th></th>\n",
       "      <th>Attrition</th>\n",
       "      <th>Education</th>\n",
       "      <th>EnvironmentSatisfaction</th>\n",
       "      <th>JobInvolvement</th>\n",
       "      <th>JobLevel</th>\n",
       "      <th>JobSatisfaction</th>\n",
       "      <th>MonthlyIncome</th>\n",
       "      <th>PerformanceRating</th>\n",
       "      <th>RelationshipSatisfaction</th>\n",
       "      <th>StockOptionLevel</th>\n",
       "      <th>...</th>\n",
       "      <th>Gender_Female</th>\n",
       "      <th>Gender_Male</th>\n",
       "      <th>DistanceFromHome_bin_Greater_than_14</th>\n",
       "      <th>DistanceFromHome_bin_Greater_than_2_miles_less_than_7</th>\n",
       "      <th>DistanceFromHome_bin_Greater_than_7_miles_less_than_14</th>\n",
       "      <th>DistanceFromHome_bin_Within_2_miles</th>\n",
       "      <th>NumCompaniesWorked_bin_Greater_than_1_less_than_2</th>\n",
       "      <th>NumCompaniesWorked_bin_Greater_than_2_less_than_7</th>\n",
       "      <th>NumCompaniesWorked_bin_Greater_than_7</th>\n",
       "      <th>NumCompaniesWorked_bin_One</th>\n",
       "    </tr>\n",
       "  </thead>\n",
       "  <tbody>\n",
       "    <tr>\n",
       "      <th>0</th>\n",
       "      <td>1</td>\n",
       "      <td>2</td>\n",
       "      <td>2</td>\n",
       "      <td>3</td>\n",
       "      <td>2</td>\n",
       "      <td>4</td>\n",
       "      <td>5993</td>\n",
       "      <td>3</td>\n",
       "      <td>1</td>\n",
       "      <td>0</td>\n",
       "      <td>...</td>\n",
       "      <td>1.0</td>\n",
       "      <td>0.0</td>\n",
       "      <td>0.0</td>\n",
       "      <td>0.0</td>\n",
       "      <td>0.0</td>\n",
       "      <td>1.0</td>\n",
       "      <td>0.0</td>\n",
       "      <td>0.0</td>\n",
       "      <td>1.0</td>\n",
       "      <td>0.0</td>\n",
       "    </tr>\n",
       "    <tr>\n",
       "      <th>1</th>\n",
       "      <td>0</td>\n",
       "      <td>1</td>\n",
       "      <td>3</td>\n",
       "      <td>2</td>\n",
       "      <td>2</td>\n",
       "      <td>2</td>\n",
       "      <td>5130</td>\n",
       "      <td>3</td>\n",
       "      <td>4</td>\n",
       "      <td>1</td>\n",
       "      <td>...</td>\n",
       "      <td>0.0</td>\n",
       "      <td>1.0</td>\n",
       "      <td>0.0</td>\n",
       "      <td>0.0</td>\n",
       "      <td>1.0</td>\n",
       "      <td>0.0</td>\n",
       "      <td>0.0</td>\n",
       "      <td>0.0</td>\n",
       "      <td>0.0</td>\n",
       "      <td>1.0</td>\n",
       "    </tr>\n",
       "    <tr>\n",
       "      <th>2</th>\n",
       "      <td>1</td>\n",
       "      <td>2</td>\n",
       "      <td>4</td>\n",
       "      <td>2</td>\n",
       "      <td>1</td>\n",
       "      <td>3</td>\n",
       "      <td>2090</td>\n",
       "      <td>2</td>\n",
       "      <td>2</td>\n",
       "      <td>0</td>\n",
       "      <td>...</td>\n",
       "      <td>0.0</td>\n",
       "      <td>1.0</td>\n",
       "      <td>0.0</td>\n",
       "      <td>0.0</td>\n",
       "      <td>0.0</td>\n",
       "      <td>1.0</td>\n",
       "      <td>0.0</td>\n",
       "      <td>1.0</td>\n",
       "      <td>0.0</td>\n",
       "      <td>0.0</td>\n",
       "    </tr>\n",
       "    <tr>\n",
       "      <th>3</th>\n",
       "      <td>0</td>\n",
       "      <td>4</td>\n",
       "      <td>4</td>\n",
       "      <td>3</td>\n",
       "      <td>1</td>\n",
       "      <td>3</td>\n",
       "      <td>2909</td>\n",
       "      <td>3</td>\n",
       "      <td>3</td>\n",
       "      <td>0</td>\n",
       "      <td>...</td>\n",
       "      <td>1.0</td>\n",
       "      <td>0.0</td>\n",
       "      <td>0.0</td>\n",
       "      <td>1.0</td>\n",
       "      <td>0.0</td>\n",
       "      <td>0.0</td>\n",
       "      <td>0.0</td>\n",
       "      <td>0.0</td>\n",
       "      <td>0.0</td>\n",
       "      <td>1.0</td>\n",
       "    </tr>\n",
       "    <tr>\n",
       "      <th>4</th>\n",
       "      <td>0</td>\n",
       "      <td>1</td>\n",
       "      <td>1</td>\n",
       "      <td>3</td>\n",
       "      <td>1</td>\n",
       "      <td>2</td>\n",
       "      <td>3468</td>\n",
       "      <td>3</td>\n",
       "      <td>4</td>\n",
       "      <td>1</td>\n",
       "      <td>...</td>\n",
       "      <td>0.0</td>\n",
       "      <td>1.0</td>\n",
       "      <td>0.0</td>\n",
       "      <td>0.0</td>\n",
       "      <td>0.0</td>\n",
       "      <td>1.0</td>\n",
       "      <td>0.0</td>\n",
       "      <td>0.0</td>\n",
       "      <td>1.0</td>\n",
       "      <td>0.0</td>\n",
       "    </tr>\n",
       "  </tbody>\n",
       "</table>\n",
       "<p>5 rows × 64 columns</p>\n",
       "</div>"
      ],
      "text/plain": [
       "   Attrition  Education  EnvironmentSatisfaction  JobInvolvement  JobLevel  \\\n",
       "0          1          2                        2               3         2   \n",
       "1          0          1                        3               2         2   \n",
       "2          1          2                        4               2         1   \n",
       "3          0          4                        4               3         1   \n",
       "4          0          1                        1               3         1   \n",
       "\n",
       "   JobSatisfaction  MonthlyIncome  PerformanceRating  \\\n",
       "0                4           5993                  3   \n",
       "1                2           5130                  3   \n",
       "2                3           2090                  2   \n",
       "3                3           2909                  3   \n",
       "4                2           3468                  3   \n",
       "\n",
       "   RelationshipSatisfaction  StockOptionLevel             ...              \\\n",
       "0                         1                 0             ...               \n",
       "1                         4                 1             ...               \n",
       "2                         2                 0             ...               \n",
       "3                         3                 0             ...               \n",
       "4                         4                 1             ...               \n",
       "\n",
       "   Gender_Female  Gender_Male  DistanceFromHome_bin_Greater_than_14  \\\n",
       "0            1.0          0.0                                   0.0   \n",
       "1            0.0          1.0                                   0.0   \n",
       "2            0.0          1.0                                   0.0   \n",
       "3            1.0          0.0                                   0.0   \n",
       "4            0.0          1.0                                   0.0   \n",
       "\n",
       "   DistanceFromHome_bin_Greater_than_2_miles_less_than_7  \\\n",
       "0                                                0.0       \n",
       "1                                                0.0       \n",
       "2                                                0.0       \n",
       "3                                                1.0       \n",
       "4                                                0.0       \n",
       "\n",
       "   DistanceFromHome_bin_Greater_than_7_miles_less_than_14  \\\n",
       "0                                                0.0        \n",
       "1                                                1.0        \n",
       "2                                                0.0        \n",
       "3                                                0.0        \n",
       "4                                                0.0        \n",
       "\n",
       "   DistanceFromHome_bin_Within_2_miles  \\\n",
       "0                                  1.0   \n",
       "1                                  0.0   \n",
       "2                                  1.0   \n",
       "3                                  0.0   \n",
       "4                                  1.0   \n",
       "\n",
       "   NumCompaniesWorked_bin_Greater_than_1_less_than_2  \\\n",
       "0                                                0.0   \n",
       "1                                                0.0   \n",
       "2                                                0.0   \n",
       "3                                                0.0   \n",
       "4                                                0.0   \n",
       "\n",
       "   NumCompaniesWorked_bin_Greater_than_2_less_than_7  \\\n",
       "0                                                0.0   \n",
       "1                                                0.0   \n",
       "2                                                1.0   \n",
       "3                                                0.0   \n",
       "4                                                0.0   \n",
       "\n",
       "   NumCompaniesWorked_bin_Greater_than_7  NumCompaniesWorked_bin_One  \n",
       "0                                    1.0                         0.0  \n",
       "1                                    0.0                         1.0  \n",
       "2                                    0.0                         0.0  \n",
       "3                                    0.0                         1.0  \n",
       "4                                    1.0                         0.0  \n",
       "\n",
       "[5 rows x 64 columns]"
      ]
     },
     "execution_count": 43,
     "metadata": {},
     "output_type": "execute_result"
    }
   ],
   "source": [
    "df3_dummy.head()"
   ]
  },
  {
   "cell_type": "markdown",
   "metadata": {
    "deletable": true,
    "editable": true
   },
   "source": [
    "Finding attrition rate"
   ]
  },
  {
   "cell_type": "code",
   "execution_count": 88,
   "metadata": {
    "collapsed": true,
    "deletable": true,
    "editable": true
   },
   "outputs": [],
   "source": [
    "clusters=df3_dummy"
   ]
  },
  {
   "cell_type": "code",
   "execution_count": 92,
   "metadata": {
    "collapsed": false,
    "deletable": true,
    "editable": true
   },
   "outputs": [
    {
     "data": {
      "text/plain": [
       "KMeans(algorithm='auto', copy_x=True, init='k-means++', max_iter=300,\n",
       "    n_clusters=2, n_init=10, n_jobs=1, precompute_distances='auto',\n",
       "    random_state=0, tol=0.0001, verbose=0)"
      ]
     },
     "execution_count": 92,
     "metadata": {},
     "output_type": "execute_result"
    }
   ],
   "source": [
    "from sklearn.cluster import KMeans\n",
    "clu = KMeans(n_clusters=2, random_state=0)\n",
    "clu.fit(clusters)"
   ]
  },
  {
   "cell_type": "code",
   "execution_count": 93,
   "metadata": {
    "collapsed": true,
    "deletable": true,
    "editable": true
   },
   "outputs": [],
   "source": [
    "clusters['cluster'] = clu.labels_"
   ]
  },
  {
   "cell_type": "code",
   "execution_count": 94,
   "metadata": {
    "collapsed": true,
    "deletable": true,
    "editable": true
   },
   "outputs": [],
   "source": [
    "clusterz=clusters.groupby('cluster').mean()"
   ]
  },
  {
   "cell_type": "code",
   "execution_count": 95,
   "metadata": {
    "collapsed": false,
    "deletable": true,
    "editable": true
   },
   "outputs": [
    {
     "data": {
      "text/html": [
       "<div>\n",
       "<table border=\"1\" class=\"dataframe\">\n",
       "  <thead>\n",
       "    <tr style=\"text-align: right;\">\n",
       "      <th></th>\n",
       "      <th>Attrition</th>\n",
       "      <th>Education</th>\n",
       "      <th>EnvironmentSatisfaction</th>\n",
       "      <th>JobInvolvement</th>\n",
       "      <th>JobLevel</th>\n",
       "      <th>JobSatisfaction</th>\n",
       "      <th>MonthlyIncome</th>\n",
       "      <th>PerformanceRating</th>\n",
       "      <th>RelationshipSatisfaction</th>\n",
       "      <th>StockOptionLevel</th>\n",
       "      <th>...</th>\n",
       "      <th>Gender_Female</th>\n",
       "      <th>Gender_Male</th>\n",
       "      <th>DistanceFromHome_bin_Greater_than_14</th>\n",
       "      <th>DistanceFromHome_bin_Greater_than_2_miles_less_than_7</th>\n",
       "      <th>DistanceFromHome_bin_Greater_than_7_miles_less_than_14</th>\n",
       "      <th>DistanceFromHome_bin_Within_2_miles</th>\n",
       "      <th>NumCompaniesWorked_bin_Greater_than_1_less_than_2</th>\n",
       "      <th>NumCompaniesWorked_bin_Greater_than_2_less_than_7</th>\n",
       "      <th>NumCompaniesWorked_bin_Greater_than_7</th>\n",
       "      <th>NumCompaniesWorked_bin_One</th>\n",
       "    </tr>\n",
       "    <tr>\n",
       "      <th>cluster</th>\n",
       "      <th></th>\n",
       "      <th></th>\n",
       "      <th></th>\n",
       "      <th></th>\n",
       "      <th></th>\n",
       "      <th></th>\n",
       "      <th></th>\n",
       "      <th></th>\n",
       "      <th></th>\n",
       "      <th></th>\n",
       "      <th></th>\n",
       "      <th></th>\n",
       "      <th></th>\n",
       "      <th></th>\n",
       "      <th></th>\n",
       "      <th></th>\n",
       "      <th></th>\n",
       "      <th></th>\n",
       "      <th></th>\n",
       "      <th></th>\n",
       "      <th></th>\n",
       "    </tr>\n",
       "  </thead>\n",
       "  <tbody>\n",
       "    <tr>\n",
       "      <th>0</th>\n",
       "      <td>0.178796</td>\n",
       "      <td>2.875112</td>\n",
       "      <td>2.728661</td>\n",
       "      <td>2.743935</td>\n",
       "      <td>1.580413</td>\n",
       "      <td>2.743037</td>\n",
       "      <td>4228.996406</td>\n",
       "      <td>2.902965</td>\n",
       "      <td>2.679245</td>\n",
       "      <td>0.787960</td>\n",
       "      <td>...</td>\n",
       "      <td>0.393531</td>\n",
       "      <td>0.606469</td>\n",
       "      <td>0.243486</td>\n",
       "      <td>0.233603</td>\n",
       "      <td>0.238994</td>\n",
       "      <td>0.283917</td>\n",
       "      <td>0.086253</td>\n",
       "      <td>0.307278</td>\n",
       "      <td>0.064690</td>\n",
       "      <td>0.541779</td>\n",
       "    </tr>\n",
       "    <tr>\n",
       "      <th>1</th>\n",
       "      <td>0.106443</td>\n",
       "      <td>3.030812</td>\n",
       "      <td>2.700280</td>\n",
       "      <td>2.686275</td>\n",
       "      <td>3.571429</td>\n",
       "      <td>2.683473</td>\n",
       "      <td>13592.257703</td>\n",
       "      <td>2.935574</td>\n",
       "      <td>2.815126</td>\n",
       "      <td>0.812325</td>\n",
       "      <td>...</td>\n",
       "      <td>0.420168</td>\n",
       "      <td>0.579832</td>\n",
       "      <td>0.235294</td>\n",
       "      <td>0.268908</td>\n",
       "      <td>0.207283</td>\n",
       "      <td>0.288515</td>\n",
       "      <td>0.140056</td>\n",
       "      <td>0.456583</td>\n",
       "      <td>0.081232</td>\n",
       "      <td>0.322129</td>\n",
       "    </tr>\n",
       "  </tbody>\n",
       "</table>\n",
       "<p>2 rows × 64 columns</p>\n",
       "</div>"
      ],
      "text/plain": [
       "         Attrition  Education  EnvironmentSatisfaction  JobInvolvement  \\\n",
       "cluster                                                                  \n",
       "0         0.178796   2.875112                 2.728661        2.743935   \n",
       "1         0.106443   3.030812                 2.700280        2.686275   \n",
       "\n",
       "         JobLevel  JobSatisfaction  MonthlyIncome  PerformanceRating  \\\n",
       "cluster                                                                \n",
       "0        1.580413         2.743037    4228.996406           2.902965   \n",
       "1        3.571429         2.683473   13592.257703           2.935574   \n",
       "\n",
       "         RelationshipSatisfaction  StockOptionLevel  \\\n",
       "cluster                                               \n",
       "0                        2.679245          0.787960   \n",
       "1                        2.815126          0.812325   \n",
       "\n",
       "                    ...              Gender_Female  Gender_Male  \\\n",
       "cluster             ...                                           \n",
       "0                   ...                   0.393531     0.606469   \n",
       "1                   ...                   0.420168     0.579832   \n",
       "\n",
       "         DistanceFromHome_bin_Greater_than_14  \\\n",
       "cluster                                         \n",
       "0                                    0.243486   \n",
       "1                                    0.235294   \n",
       "\n",
       "         DistanceFromHome_bin_Greater_than_2_miles_less_than_7  \\\n",
       "cluster                                                          \n",
       "0                                                 0.233603       \n",
       "1                                                 0.268908       \n",
       "\n",
       "         DistanceFromHome_bin_Greater_than_7_miles_less_than_14  \\\n",
       "cluster                                                           \n",
       "0                                                 0.238994        \n",
       "1                                                 0.207283        \n",
       "\n",
       "         DistanceFromHome_bin_Within_2_miles  \\\n",
       "cluster                                        \n",
       "0                                   0.283917   \n",
       "1                                   0.288515   \n",
       "\n",
       "         NumCompaniesWorked_bin_Greater_than_1_less_than_2  \\\n",
       "cluster                                                      \n",
       "0                                                 0.086253   \n",
       "1                                                 0.140056   \n",
       "\n",
       "         NumCompaniesWorked_bin_Greater_than_2_less_than_7  \\\n",
       "cluster                                                      \n",
       "0                                                 0.307278   \n",
       "1                                                 0.456583   \n",
       "\n",
       "         NumCompaniesWorked_bin_Greater_than_7  NumCompaniesWorked_bin_One  \n",
       "cluster                                                                     \n",
       "0                                     0.064690                    0.541779  \n",
       "1                                     0.081232                    0.322129  \n",
       "\n",
       "[2 rows x 64 columns]"
      ]
     },
     "execution_count": 95,
     "metadata": {},
     "output_type": "execute_result"
    }
   ],
   "source": [
    "clusterz"
   ]
  },
  {
   "cell_type": "code",
   "execution_count": null,
   "metadata": {
    "collapsed": true,
    "deletable": true,
    "editable": true
   },
   "outputs": [],
   "source": []
  },
  {
   "cell_type": "code",
   "execution_count": 188,
   "metadata": {
    "collapsed": false,
    "deletable": true,
    "editable": true
   },
   "outputs": [],
   "source": [
    "X=df3_dummy1.drop(['Attrition'],axis=1)\n",
    "Y=df3_dummy1.Attrition\n"
   ]
  },
  {
   "cell_type": "code",
   "execution_count": 189,
   "metadata": {
    "collapsed": true,
    "deletable": true,
    "editable": true
   },
   "outputs": [],
   "source": [
    "from sklearn.model_selection import train_test_split\n",
    "X_train, X_test, y_train, y_test = train_test_split(X,Y,test_size=0.6,random_state=2)"
   ]
  },
  {
   "cell_type": "code",
   "execution_count": 190,
   "metadata": {
    "collapsed": true,
    "deletable": true,
    "editable": true
   },
   "outputs": [],
   "source": [
    "import sklearn as sk\n",
    "import sklearn.tree as tree\n",
    "from IPython.display import Image  \n",
    "import pydotplus"
   ]
  },
  {
   "cell_type": "code",
   "execution_count": 191,
   "metadata": {
    "collapsed": false,
    "deletable": true,
    "editable": true
   },
   "outputs": [
    {
     "data": {
      "text/plain": [
       "DecisionTreeClassifier(class_weight=None, criterion='gini', max_depth=3,\n",
       "            max_features=None, max_leaf_nodes=None,\n",
       "            min_impurity_decrease=0.0, min_impurity_split=None,\n",
       "            min_samples_leaf=1, min_samples_split=2,\n",
       "            min_weight_fraction_leaf=0.0, presort=False, random_state=None,\n",
       "            splitter='best')"
      ]
     },
     "execution_count": 191,
     "metadata": {},
     "output_type": "execute_result"
    }
   ],
   "source": [
    "dt = tree.DecisionTreeClassifier(max_depth=3)\n",
    "dt.fit(X=X,y=Y)"
   ]
  },
  {
   "cell_type": "code",
   "execution_count": 192,
   "metadata": {
    "collapsed": false,
    "deletable": true,
    "editable": true
   },
   "outputs": [
    {
     "data": {
      "image/png": "[encoded data removed]",
      "text/plain": [
       "<IPython.core.display.Image object>"
      ]
     },
     "execution_count": 192,
     "metadata": {},
     "output_type": "execute_result"
    }
   ],
   "source": [
    "dt_x1`feature_names = list(X.columns)\n",
    "dt_target_names = np.array(Y.unique(),dtype=np.string_) \n",
    "tree.export_graphviz(dt, out_file='tree.dot', \n",
    "    feature_names=dt_feature_names, class_names=dt_target_names,\n",
    "    filled=True)  \n",
    "graph = pydotplus.graph_from_dot_file('tree.dot')\n",
    "Image(graph.create_png())\n",
    "\n"
   ]
  },
  {
   "cell_type": "code",
   "execution_count": 153,
   "metadata": {
    "collapsed": true,
    "deletable": true,
    "editable": true
   },
   "outputs": [],
   "source": [
    "df2['MonthlyIncome_bin']= df2.MonthlyIncome <= 1927.5"
   ]
  },
  {
   "cell_type": "code",
   "execution_count": 152,
   "metadata": {
    "collapsed": false,
    "deletable": true,
    "editable": true
   },
   "outputs": [
    {
     "data": {
      "text/plain": [
       "count     1470.000000\n",
       "mean      6502.931293\n",
       "std       4707.956783\n",
       "min       1009.000000\n",
       "25%       2911.000000\n",
       "50%       4919.000000\n",
       "75%       8379.000000\n",
       "max      19999.000000\n",
       "Name: MonthlyIncome, dtype: float64"
      ]
     },
     "execution_count": 152,
     "metadata": {},
     "output_type": "execute_result"
    }
   ],
   "source": [
    "df2.MonthlyIncome.describe()"
   ]
  },
  {
   "cell_type": "code",
   "execution_count": 162,
   "metadata": {
    "collapsed": false,
    "deletable": true,
    "editable": true
   },
   "outputs": [
    {
     "data": {
      "text/plain": [
       "<seaborn.axisgrid.FacetGrid at 0x309c5588>"
      ]
     },
     "execution_count": 162,
     "metadata": {},
     "output_type": "execute_result"
    },
    {
     "data": {
      "image/png": "[encoded data removed]",
      "text/plain": [
       "<matplotlib.figure.Figure at 0x3b971be0>"
      ]
     },
     "metadata": {},
     "output_type": "display_data"
    }
   ],
   "source": [
    "sns.factorplot(x='Attrition',y='MonthlyIncome',hue='OverTime', data=df2 ,kind='bar', aspect=3)"
   ]
  },
  {
   "cell_type": "code",
   "execution_count": 161,
   "metadata": {
    "collapsed": true,
    "deletable": true,
    "editable": true
   },
   "outputs": [
    {
     "data": {
      "text/plain": [
       "<seaborn.axisgrid.FacetGrid at 0x342062e8>"
      ]
     },
     "execution_count": 161,
     "metadata": {},
     "output_type": "execute_result"
    },
    {
     "data": {
      "image/png": "[encoded data removed]",
      "text/plain": [
       "<matplotlib.figure.Figure at 0x3a15a470>"
      ]
     },
     "metadata": {},
     "output_type": "display_data"
    }
   ],
   "source": [
    "sns.factorplot(x='Job_distance',y='Attrition', data=df2 ,hue='JobSatisfaction',kind='bar', aspect=3)"
   ]
  },
  {
   "cell_type": "code",
   "execution_count": 160,
   "metadata": {
    "collapsed": false,
    "deletable": true,
    "editable": true
   },
   "outputs": [
    {
     "data": {
      "text/plain": [
       "0                Job_Satisfication_more2_&_Within_2_miles\n",
       "1                Job_Satisfication_more2_&_Within_2_miles\n",
       "2                Job_Satisfication_more2_&_Within_2_miles\n",
       "3       Job_Satisfication_more2_&Greater_than_2_miles_...\n",
       "4                Job_Satisfication_more2_&_Within_2_miles\n",
       "5                Job_Satisfication_more2_&_Within_2_miles\n",
       "6                Job_Satisfication_more2_&_Within_2_miles\n",
       "7               Job_Satisfication_more2_&_Greater_than_14\n",
       "8               Job_Satisfication_more2_&_Greater_than_14\n",
       "9               Job_Satisfication_more2_&_Greater_than_14\n",
       "10               Job_Satisfication_more2_&_Within_2_miles\n",
       "11              Job_Satisfication_more2_&_Greater_than_14\n",
       "12              Job_Satisfication_more2_&_Greater_than_14\n",
       "13              Job_Satisfication_more2_&_Greater_than_14\n",
       "14              Job_Satisfication_more2_&_Greater_than_14\n",
       "15               Job_Satisfication_more2_&_Within_2_miles\n",
       "16               Job_Satisfication_more2_&_Within_2_miles\n",
       "17              Job_Satisfication_more2_&_Greater_than_14\n",
       "18               Job_Satisfication_more2_&_Within_2_miles\n",
       "19               Job_Satisfication_more2_&_Within_2_miles\n",
       "20      Job_Satisfication_more2_&Greater_than_7_miles_...\n",
       "21               Job_Satisfication_more2_&_Within_2_miles\n",
       "22               Job_Satisfication_more2_&_Within_2_miles\n",
       "23              Job_Satisfication_more2_&_Greater_than_14\n",
       "24               Job_Satisfication_more2_&_Within_2_miles\n",
       "25      Job_Satisfication_more2_&Greater_than_2_miles_...\n",
       "26               Job_Satisfication_more2_&_Within_2_miles\n",
       "27               Job_Satisfication_more2_&_Within_2_miles\n",
       "28      Job_Satisfication_more2_&Greater_than_2_miles_...\n",
       "29               Job_Satisfication_more2_&_Within_2_miles\n",
       "                              ...                        \n",
       "1440             Job_Satisfication_more2_&_Within_2_miles\n",
       "1441             Job_Satisfication_more2_&_Within_2_miles\n",
       "1442             Job_Satisfication_more2_&_Within_2_miles\n",
       "1443             Job_Satisfication_more2_&_Within_2_miles\n",
       "1444    Job_Satisfication_more2_&Greater_than_2_miles_...\n",
       "1445             Job_Satisfication_more2_&_Within_2_miles\n",
       "1446            Job_Satisfication_more2_&_Greater_than_14\n",
       "1447            Job_Satisfication_more2_&_Greater_than_14\n",
       "1448             Job_Satisfication_more2_&_Within_2_miles\n",
       "1449             Job_Satisfication_more2_&_Within_2_miles\n",
       "1450            Job_Satisfication_more2_&_Greater_than_14\n",
       "1451    Job_Satisfication_more2_&Greater_than_7_miles_...\n",
       "1452             Job_Satisfication_more2_&_Within_2_miles\n",
       "1453    Job_Satisfication_more2_&Greater_than_7_miles_...\n",
       "1454            Job_Satisfication_more2_&_Greater_than_14\n",
       "1455             Job_Satisfication_more2_&_Within_2_miles\n",
       "1456            Job_Satisfication_more2_&_Greater_than_14\n",
       "1457             Job_Satisfication_more2_&_Within_2_miles\n",
       "1458             Job_Satisfication_more2_&_Within_2_miles\n",
       "1459             Job_Satisfication_more2_&_Within_2_miles\n",
       "1460             Job_Satisfication_more2_&_Within_2_miles\n",
       "1461             Job_Satisfication_more2_&_Within_2_miles\n",
       "1462            Job_Satisfication_more2_&_Greater_than_14\n",
       "1463             Job_Satisfication_more2_&_Within_2_miles\n",
       "1464    Job_Satisfication_more2_&Greater_than_2_miles_...\n",
       "1465            Job_Satisfication_more2_&_Greater_than_14\n",
       "1466             Job_Satisfication_more2_&_Within_2_miles\n",
       "1467             Job_Satisfication_more2_&_Within_2_miles\n",
       "1468             Job_Satisfication_more2_&_Within_2_miles\n",
       "1469    Job_Satisfication_more2_&Greater_than_7_miles_...\n",
       "Name: Job_distance_bin, dtype: object"
      ]
     },
     "execution_count": 160,
     "metadata": {},
     "output_type": "execute_result"
    }
   ],
   "source": [
    "df2.Job_distance_bin"
   ]
  },
  {
   "cell_type": "code",
   "execution_count": null,
   "metadata": {
    "collapsed": true,
    "deletable": true,
    "editable": true
   },
   "outputs": [],
   "source": []
  },
  {
   "cell_type": "code",
   "execution_count": 50,
   "metadata": {
    "collapsed": false,
    "deletable": true,
    "editable": true
   },
   "outputs": [
    {
     "data": {
      "text/html": [
       "<div>\n",
       "<table border=\"1\" class=\"dataframe\">\n",
       "  <thead>\n",
       "    <tr style=\"text-align: right;\">\n",
       "      <th></th>\n",
       "      <th>Age</th>\n",
       "      <th>Attrition</th>\n",
       "      <th>BusinessTravel</th>\n",
       "      <th>Department</th>\n",
       "      <th>DistanceFromHome</th>\n",
       "      <th>Education</th>\n",
       "      <th>EducationField</th>\n",
       "      <th>EnvironmentSatisfaction</th>\n",
       "      <th>Gender</th>\n",
       "      <th>JobInvolvement</th>\n",
       "      <th>...</th>\n",
       "      <th>NumCompaniesWorked_bin</th>\n",
       "      <th>PercentSalaryHike_bin</th>\n",
       "      <th>YearsAtCompany_bin</th>\n",
       "      <th>YearsInCurrentRole_bin</th>\n",
       "      <th>YearsSinceLastPromotion_bin</th>\n",
       "      <th>YearsWithCurrManager_bin</th>\n",
       "      <th>Age_bin</th>\n",
       "      <th>TotalWorkingYears_bin</th>\n",
       "      <th>Age_bin_customized_6_bin</th>\n",
       "      <th>Age_bin_customized</th>\n",
       "    </tr>\n",
       "  </thead>\n",
       "  <tbody>\n",
       "    <tr>\n",
       "      <th>0</th>\n",
       "      <td>41</td>\n",
       "      <td>1</td>\n",
       "      <td>Travel_Rarely</td>\n",
       "      <td>Sales</td>\n",
       "      <td>1</td>\n",
       "      <td>2</td>\n",
       "      <td>LifeSciences</td>\n",
       "      <td>2</td>\n",
       "      <td>Female</td>\n",
       "      <td>3</td>\n",
       "      <td>...</td>\n",
       "      <td>Greater_than_7</td>\n",
       "      <td>Less_than_12</td>\n",
       "      <td>Greater_than_5_less_than_9</td>\n",
       "      <td>Greater_than_3_less_than_7</td>\n",
       "      <td>Zero</td>\n",
       "      <td>Greater_than_3_less_than_7</td>\n",
       "      <td>Greater_than_36_less_than_43</td>\n",
       "      <td>Greater_than_6_less_than_10</td>\n",
       "      <td>Greater_than_40_less_than_45</td>\n",
       "      <td>Greater_than_38_less_than_45</td>\n",
       "    </tr>\n",
       "    <tr>\n",
       "      <th>1</th>\n",
       "      <td>49</td>\n",
       "      <td>0</td>\n",
       "      <td>Travel_Frequently</td>\n",
       "      <td>Research &amp; Development</td>\n",
       "      <td>8</td>\n",
       "      <td>1</td>\n",
       "      <td>LifeSciences</td>\n",
       "      <td>3</td>\n",
       "      <td>Male</td>\n",
       "      <td>2</td>\n",
       "      <td>...</td>\n",
       "      <td>One</td>\n",
       "      <td>Greater_than_18</td>\n",
       "      <td>Greater_than_9</td>\n",
       "      <td>Greater_than_3_less_than_7</td>\n",
       "      <td>Greater_than_0_less_than_1</td>\n",
       "      <td>Greater_than_3_less_than_7</td>\n",
       "      <td>Greater_than_43</td>\n",
       "      <td>Greater_than_6_less_than_10</td>\n",
       "      <td>Greater_than_45_less_than_50</td>\n",
       "      <td>Greater_than_45</td>\n",
       "    </tr>\n",
       "    <tr>\n",
       "      <th>2</th>\n",
       "      <td>37</td>\n",
       "      <td>1</td>\n",
       "      <td>Travel_Rarely</td>\n",
       "      <td>Research &amp; Development</td>\n",
       "      <td>2</td>\n",
       "      <td>2</td>\n",
       "      <td>Other</td>\n",
       "      <td>4</td>\n",
       "      <td>Male</td>\n",
       "      <td>2</td>\n",
       "      <td>...</td>\n",
       "      <td>Greater_than_2_less_than_7</td>\n",
       "      <td>Greater_than_14_less_than_18</td>\n",
       "      <td>Less_than_3</td>\n",
       "      <td>Less_than_2</td>\n",
       "      <td>Zero</td>\n",
       "      <td>Less_than_2</td>\n",
       "      <td>Greater_than_36_less_than_43</td>\n",
       "      <td>Greater_than_6_less_than_10</td>\n",
       "      <td>Greater_than_35_less_than_40</td>\n",
       "      <td>Greater_than_33_less_than_38</td>\n",
       "    </tr>\n",
       "    <tr>\n",
       "      <th>3</th>\n",
       "      <td>33</td>\n",
       "      <td>0</td>\n",
       "      <td>Travel_Frequently</td>\n",
       "      <td>Research &amp; Development</td>\n",
       "      <td>3</td>\n",
       "      <td>4</td>\n",
       "      <td>LifeSciences</td>\n",
       "      <td>4</td>\n",
       "      <td>Female</td>\n",
       "      <td>3</td>\n",
       "      <td>...</td>\n",
       "      <td>One</td>\n",
       "      <td>Less_than_12</td>\n",
       "      <td>Greater_than_5_less_than_9</td>\n",
       "      <td>Greater_than_3_less_than_7</td>\n",
       "      <td>Greater_than_1_less_than_3</td>\n",
       "      <td>Less_than_2</td>\n",
       "      <td>Greater_than_30_less_than_36</td>\n",
       "      <td>Greater_than_6_less_than_10</td>\n",
       "      <td>Greater_than_30_less_than_35</td>\n",
       "      <td>Greater_than_29_less_than_33</td>\n",
       "    </tr>\n",
       "    <tr>\n",
       "      <th>4</th>\n",
       "      <td>27</td>\n",
       "      <td>0</td>\n",
       "      <td>Travel_Rarely</td>\n",
       "      <td>Research &amp; Development</td>\n",
       "      <td>2</td>\n",
       "      <td>1</td>\n",
       "      <td>Medical</td>\n",
       "      <td>1</td>\n",
       "      <td>Male</td>\n",
       "      <td>3</td>\n",
       "      <td>...</td>\n",
       "      <td>Greater_than_7</td>\n",
       "      <td>Less_than_12</td>\n",
       "      <td>Less_than_3</td>\n",
       "      <td>Less_than_2</td>\n",
       "      <td>Greater_than_1_less_than_3</td>\n",
       "      <td>Less_than_2</td>\n",
       "      <td>Less_than_30</td>\n",
       "      <td>Less_than_6</td>\n",
       "      <td>Less_than_30</td>\n",
       "      <td>Less_than_29</td>\n",
       "    </tr>\n",
       "  </tbody>\n",
       "</table>\n",
       "<p>5 rows × 40 columns</p>\n",
       "</div>"
      ],
      "text/plain": [
       "   Age  Attrition     BusinessTravel              Department  \\\n",
       "0   41          1      Travel_Rarely                   Sales   \n",
       "1   49          0  Travel_Frequently  Research & Development   \n",
       "2   37          1      Travel_Rarely  Research & Development   \n",
       "3   33          0  Travel_Frequently  Research & Development   \n",
       "4   27          0      Travel_Rarely  Research & Development   \n",
       "\n",
       "   DistanceFromHome  Education EducationField  EnvironmentSatisfaction  \\\n",
       "0                 1          2   LifeSciences                        2   \n",
       "1                 8          1   LifeSciences                        3   \n",
       "2                 2          2          Other                        4   \n",
       "3                 3          4   LifeSciences                        4   \n",
       "4                 2          1        Medical                        1   \n",
       "\n",
       "   Gender  JobInvolvement              ...               \\\n",
       "0  Female               3              ...                \n",
       "1    Male               2              ...                \n",
       "2    Male               2              ...                \n",
       "3  Female               3              ...                \n",
       "4    Male               3              ...                \n",
       "\n",
       "       NumCompaniesWorked_bin         PercentSalaryHike_bin  \\\n",
       "0              Greater_than_7                  Less_than_12   \n",
       "1                         One               Greater_than_18   \n",
       "2  Greater_than_2_less_than_7  Greater_than_14_less_than_18   \n",
       "3                         One                  Less_than_12   \n",
       "4              Greater_than_7                  Less_than_12   \n",
       "\n",
       "           YearsAtCompany_bin      YearsInCurrentRole_bin  \\\n",
       "0  Greater_than_5_less_than_9  Greater_than_3_less_than_7   \n",
       "1              Greater_than_9  Greater_than_3_less_than_7   \n",
       "2                 Less_than_3                 Less_than_2   \n",
       "3  Greater_than_5_less_than_9  Greater_than_3_less_than_7   \n",
       "4                 Less_than_3                 Less_than_2   \n",
       "\n",
       "   YearsSinceLastPromotion_bin    YearsWithCurrManager_bin  \\\n",
       "0                         Zero  Greater_than_3_less_than_7   \n",
       "1   Greater_than_0_less_than_1  Greater_than_3_less_than_7   \n",
       "2                         Zero                 Less_than_2   \n",
       "3   Greater_than_1_less_than_3                 Less_than_2   \n",
       "4   Greater_than_1_less_than_3                 Less_than_2   \n",
       "\n",
       "                        Age_bin        TotalWorkingYears_bin  \\\n",
       "0  Greater_than_36_less_than_43  Greater_than_6_less_than_10   \n",
       "1               Greater_than_43  Greater_than_6_less_than_10   \n",
       "2  Greater_than_36_less_than_43  Greater_than_6_less_than_10   \n",
       "3  Greater_than_30_less_than_36  Greater_than_6_less_than_10   \n",
       "4                  Less_than_30                  Less_than_6   \n",
       "\n",
       "       Age_bin_customized_6_bin            Age_bin_customized  \n",
       "0  Greater_than_40_less_than_45  Greater_than_38_less_than_45  \n",
       "1  Greater_than_45_less_than_50               Greater_than_45  \n",
       "2  Greater_than_35_less_than_40  Greater_than_33_less_than_38  \n",
       "3  Greater_than_30_less_than_35  Greater_than_29_less_than_33  \n",
       "4                  Less_than_30                  Less_than_29  \n",
       "\n",
       "[5 rows x 40 columns]"
      ]
     },
     "execution_count": 50,
     "metadata": {},
     "output_type": "execute_result"
    }
   ],
   "source": [
    "df2.head(5)"
   ]
  },
  {
   "cell_type": "code",
   "execution_count": 51,
   "metadata": {
    "collapsed": false,
    "deletable": true,
    "editable": true
   },
   "outputs": [
    {
     "ename": "ValueError",
     "evalue": "labels ['HireSource' 'Dept' 'Campus'] not contained in axis",
     "output_type": "error",
     "traceback": [
      "\u001b[1;31m---------------------------------------------------------------------------\u001b[0m",
      "\u001b[1;31mValueError\u001b[0m                                Traceback (most recent call last)",
      "\u001b[1;32m<ipython-input-51-c02d1c95b6e9>\u001b[0m in \u001b[0;36m<module>\u001b[1;34m()\u001b[0m\n\u001b[1;32m----> 1\u001b[1;33m \u001b[0mcluster\u001b[0m\u001b[1;33m=\u001b[0m \u001b[0mpd\u001b[0m\u001b[1;33m.\u001b[0m\u001b[0mget_dummies\u001b[0m\u001b[1;33m(\u001b[0m\u001b[0mdf2\u001b[0m\u001b[1;33m,\u001b[0m\u001b[0mcolumns\u001b[0m\u001b[1;33m=\u001b[0m\u001b[1;33m[\u001b[0m\u001b[1;34m'Gender'\u001b[0m\u001b[1;33m,\u001b[0m\u001b[1;34m'BusinessTravel'\u001b[0m\u001b[1;33m,\u001b[0m \u001b[1;34m'Department'\u001b[0m\u001b[1;33m,\u001b[0m\u001b[1;34m'EducationField'\u001b[0m\u001b[1;33m,\u001b[0m\u001b[1;34m'JobRole'\u001b[0m\u001b[1;33m,\u001b[0m\u001b[1;34m'OverTime'\u001b[0m\u001b[1;33m,\u001b[0m\u001b[1;34m'HireSource'\u001b[0m\u001b[1;33m,\u001b[0m\u001b[1;34m'Dept'\u001b[0m\u001b[1;33m,\u001b[0m\u001b[1;34m'Campus'\u001b[0m\u001b[1;33m]\u001b[0m\u001b[1;33m)\u001b[0m\u001b[1;33m\u001b[0m\u001b[0m\n\u001b[0m\u001b[0;32m      2\u001b[0m \u001b[0mclusters\u001b[0m\u001b[1;33m=\u001b[0m\u001b[0mcluster\u001b[0m\u001b[1;33m.\u001b[0m\u001b[0mdrop\u001b[0m\u001b[1;33m(\u001b[0m\u001b[1;33m[\u001b[0m\u001b[1;34m'Dept'\u001b[0m\u001b[1;33m,\u001b[0m\u001b[1;34m'Job_Level'\u001b[0m\u001b[1;33m,\u001b[0m\u001b[1;34m'a'\u001b[0m\u001b[1;33m,\u001b[0m\u001b[1;34m'b'\u001b[0m\u001b[1;33m,\u001b[0m\u001b[1;34m'DailyRate'\u001b[0m\u001b[1;33m,\u001b[0m\u001b[1;34m'EmployeeNumber'\u001b[0m\u001b[1;33m,\u001b[0m\u001b[1;34m'HourlyRate'\u001b[0m\u001b[1;33m,\u001b[0m\u001b[1;34m'MonthlyIncome'\u001b[0m\u001b[1;33m,\u001b[0m\u001b[1;34m'MonthlyRate'\u001b[0m\u001b[1;33m,\u001b[0m\u001b[1;34m'StandardHours'\u001b[0m\u001b[1;33m]\u001b[0m\u001b[1;33m,\u001b[0m\u001b[0maxis\u001b[0m\u001b[1;33m=\u001b[0m\u001b[1;36m1\u001b[0m\u001b[1;33m)\u001b[0m\u001b[1;33m\u001b[0m\u001b[0m\n",
      "\u001b[1;32mC:\\Users\\rupali\\AppData\\Local\\Enthought\\Canopy\\User\\lib\\site-packages\\pandas\\core\\reshape.pyc\u001b[0m in \u001b[0;36mget_dummies\u001b[1;34m(data, prefix, prefix_sep, dummy_na, columns, sparse, drop_first)\u001b[0m\n\u001b[0;32m   1082\u001b[0m             \u001b[0mwith_dummies\u001b[0m \u001b[1;33m=\u001b[0m \u001b[1;33m[\u001b[0m\u001b[1;33m]\u001b[0m\u001b[1;33m\u001b[0m\u001b[0m\n\u001b[0;32m   1083\u001b[0m         \u001b[1;32melse\u001b[0m\u001b[1;33m:\u001b[0m\u001b[1;33m\u001b[0m\u001b[0m\n\u001b[1;32m-> 1084\u001b[1;33m             \u001b[0mwith_dummies\u001b[0m \u001b[1;33m=\u001b[0m \u001b[1;33m[\u001b[0m\u001b[0mdata\u001b[0m\u001b[1;33m.\u001b[0m\u001b[0mdrop\u001b[0m\u001b[1;33m(\u001b[0m\u001b[0mcolumns_to_encode\u001b[0m\u001b[1;33m,\u001b[0m \u001b[0maxis\u001b[0m\u001b[1;33m=\u001b[0m\u001b[1;36m1\u001b[0m\u001b[1;33m)\u001b[0m\u001b[1;33m]\u001b[0m\u001b[1;33m\u001b[0m\u001b[0m\n\u001b[0m\u001b[0;32m   1085\u001b[0m \u001b[1;33m\u001b[0m\u001b[0m\n\u001b[0;32m   1086\u001b[0m         \u001b[1;32mfor\u001b[0m \u001b[1;33m(\u001b[0m\u001b[0mcol\u001b[0m\u001b[1;33m,\u001b[0m \u001b[0mpre\u001b[0m\u001b[1;33m,\u001b[0m \u001b[0msep\u001b[0m\u001b[1;33m)\u001b[0m \u001b[1;32min\u001b[0m \u001b[0mzip\u001b[0m\u001b[1;33m(\u001b[0m\u001b[0mcolumns_to_encode\u001b[0m\u001b[1;33m,\u001b[0m \u001b[0mprefix\u001b[0m\u001b[1;33m,\u001b[0m \u001b[0mprefix_sep\u001b[0m\u001b[1;33m)\u001b[0m\u001b[1;33m:\u001b[0m\u001b[1;33m\u001b[0m\u001b[0m\n",
      "\u001b[1;32mC:\\Users\\rupali\\AppData\\Local\\Enthought\\Canopy\\User\\lib\\site-packages\\pandas\\core\\generic.pyc\u001b[0m in \u001b[0;36mdrop\u001b[1;34m(self, labels, axis, level, inplace, errors)\u001b[0m\n\u001b[0;32m   1871\u001b[0m                 \u001b[0mnew_axis\u001b[0m \u001b[1;33m=\u001b[0m \u001b[0maxis\u001b[0m\u001b[1;33m.\u001b[0m\u001b[0mdrop\u001b[0m\u001b[1;33m(\u001b[0m\u001b[0mlabels\u001b[0m\u001b[1;33m,\u001b[0m \u001b[0mlevel\u001b[0m\u001b[1;33m=\u001b[0m\u001b[0mlevel\u001b[0m\u001b[1;33m,\u001b[0m \u001b[0merrors\u001b[0m\u001b[1;33m=\u001b[0m\u001b[0merrors\u001b[0m\u001b[1;33m)\u001b[0m\u001b[1;33m\u001b[0m\u001b[0m\n\u001b[0;32m   1872\u001b[0m             \u001b[1;32melse\u001b[0m\u001b[1;33m:\u001b[0m\u001b[1;33m\u001b[0m\u001b[0m\n\u001b[1;32m-> 1873\u001b[1;33m                 \u001b[0mnew_axis\u001b[0m \u001b[1;33m=\u001b[0m \u001b[0maxis\u001b[0m\u001b[1;33m.\u001b[0m\u001b[0mdrop\u001b[0m\u001b[1;33m(\u001b[0m\u001b[0mlabels\u001b[0m\u001b[1;33m,\u001b[0m \u001b[0merrors\u001b[0m\u001b[1;33m=\u001b[0m\u001b[0merrors\u001b[0m\u001b[1;33m)\u001b[0m\u001b[1;33m\u001b[0m\u001b[0m\n\u001b[0m\u001b[0;32m   1874\u001b[0m             \u001b[0mdropped\u001b[0m \u001b[1;33m=\u001b[0m \u001b[0mself\u001b[0m\u001b[1;33m.\u001b[0m\u001b[0mreindex\u001b[0m\u001b[1;33m(\u001b[0m\u001b[1;33m**\u001b[0m\u001b[1;33m{\u001b[0m\u001b[0maxis_name\u001b[0m\u001b[1;33m:\u001b[0m \u001b[0mnew_axis\u001b[0m\u001b[1;33m}\u001b[0m\u001b[1;33m)\u001b[0m\u001b[1;33m\u001b[0m\u001b[0m\n\u001b[0;32m   1875\u001b[0m             \u001b[1;32mtry\u001b[0m\u001b[1;33m:\u001b[0m\u001b[1;33m\u001b[0m\u001b[0m\n",
      "\u001b[1;32mC:\\Users\\rupali\\AppData\\Local\\Enthought\\Canopy\\User\\lib\\site-packages\\pandas\\indexes\\base.pyc\u001b[0m in \u001b[0;36mdrop\u001b[1;34m(self, labels, errors)\u001b[0m\n\u001b[0;32m   2964\u001b[0m             \u001b[1;32mif\u001b[0m \u001b[0merrors\u001b[0m \u001b[1;33m!=\u001b[0m \u001b[1;34m'ignore'\u001b[0m\u001b[1;33m:\u001b[0m\u001b[1;33m\u001b[0m\u001b[0m\n\u001b[0;32m   2965\u001b[0m                 raise ValueError('labels %s not contained in axis' %\n\u001b[1;32m-> 2966\u001b[1;33m                                  labels[mask])\n\u001b[0m\u001b[0;32m   2967\u001b[0m             \u001b[0mindexer\u001b[0m \u001b[1;33m=\u001b[0m \u001b[0mindexer\u001b[0m\u001b[1;33m[\u001b[0m\u001b[1;33m~\u001b[0m\u001b[0mmask\u001b[0m\u001b[1;33m]\u001b[0m\u001b[1;33m\u001b[0m\u001b[0m\n\u001b[0;32m   2968\u001b[0m         \u001b[1;32mreturn\u001b[0m \u001b[0mself\u001b[0m\u001b[1;33m.\u001b[0m\u001b[0mdelete\u001b[0m\u001b[1;33m(\u001b[0m\u001b[0mindexer\u001b[0m\u001b[1;33m)\u001b[0m\u001b[1;33m\u001b[0m\u001b[0m\n",
      "\u001b[1;31mValueError\u001b[0m: labels ['HireSource' 'Dept' 'Campus'] not contained in axis"
     ]
    }
   ],
   "source": [
    "cluster= pd.get_dummies(df2,columns=['Gender','BusinessTravel', 'Department','EducationField','JobRole','OverTime','HireSource','Dept','Campus'])\n",
    "clusters=cluster.drop(['Dept','Job_Level','a','b','DailyRate','EmployeeNumber','HourlyRate','MonthlyIncome','MonthlyRate','StandardHours'],axis=1)"
   ]
  },
  {
   "cell_type": "code",
   "execution_count": null,
   "metadata": {
    "collapsed": false,
    "deletable": true,
    "editable": true
   },
   "outputs": [],
   "source": [
    "clusters=cluster.drop(['Job_Level','a','b','DailyRate','EmployeeNumber','HourlyRate','MonthlyIncome','MonthlyRate','StandardHours'],axis=1)"
   ]
  },
  {
   "cell_type": "code",
   "execution_count": null,
   "metadata": {
    "collapsed": false,
    "deletable": true,
    "editable": true
   },
   "outputs": [],
   "source": [
    "from sklearn.cluster import KMeans\n",
    "clu = KMeans(n_clusters=2, random_state=0)\n",
    "clu.fit(clusters)"
   ]
  },
  {
   "cell_type": "code",
   "execution_count": null,
   "metadata": {
    "collapsed": true,
    "deletable": true,
    "editable": true
   },
   "outputs": [],
   "source": [
    "clusters['cluster'] = clu.labels_"
   ]
  },
  {
   "cell_type": "code",
   "execution_count": 134,
   "metadata": {
    "collapsed": false,
    "deletable": true,
    "editable": true
   },
   "outputs": [
    {
     "ename": "SyntaxError",
     "evalue": "invalid syntax (<ipython-input-134-e81e0c37946d>, line 4)",
     "output_type": "error",
     "traceback": [
      "\u001b[1;36m  File \u001b[1;32m\"<ipython-input-134-e81e0c37946d>\"\u001b[1;36m, line \u001b[1;32m4\u001b[0m\n\u001b[1;33m    import pydotplusclusterz=clusters.groupby('cluster').mean()\u001b[0m\n\u001b[1;37m                            ^\u001b[0m\n\u001b[1;31mSyntaxError\u001b[0m\u001b[1;31m:\u001b[0m invalid syntax\n"
     ]
    }
   ],
   "source": [
    "import sklearn as sk\n",
    "import sklearn.tree as tree\n",
    "from IPython.display import Image  \n",
    "import pydotplusclusterz=clusters.groupby('cluster').mean()\n",
    "clusterz"
   ]
  },
  {
   "cell_type": "code",
   "execution_count": 135,
   "metadata": {
    "collapsed": true,
    "deletable": true,
    "editable": true
   },
   "outputs": [],
   "source": [
    "import sklearn as sk\n",
    "import sklearn.tree as tree\n",
    "from IPython.display import Image  \n",
    "import pydotplus"
   ]
  },
  {
   "cell_type": "code",
   "execution_count": 136,
   "metadata": {
    "collapsed": false,
    "deletable": true,
    "editable": true
   },
   "outputs": [
    {
     "ename": "ValueError",
     "evalue": "labels ['HireSource' 'Dept' 'Campus'] not contained in axis",
     "output_type": "error",
     "traceback": [
      "\u001b[1;31m---------------------------------------------------------------------------\u001b[0m",
      "\u001b[1;31mValueError\u001b[0m                                Traceback (most recent call last)",
      "\u001b[1;32m<ipython-input-136-4f13d43d4763>\u001b[0m in \u001b[0;36m<module>\u001b[1;34m()\u001b[0m\n\u001b[1;32m----> 1\u001b[1;33m \u001b[0mdf5\u001b[0m\u001b[1;33m=\u001b[0m \u001b[0mpd\u001b[0m\u001b[1;33m.\u001b[0m\u001b[0mget_dummies\u001b[0m\u001b[1;33m(\u001b[0m\u001b[0mdf2\u001b[0m\u001b[1;33m,\u001b[0m\u001b[0mcolumns\u001b[0m\u001b[1;33m=\u001b[0m\u001b[1;33m[\u001b[0m\u001b[1;34m'Gender'\u001b[0m\u001b[1;33m,\u001b[0m\u001b[1;34m'BusinessTravel'\u001b[0m\u001b[1;33m,\u001b[0m \u001b[1;34m'Department'\u001b[0m\u001b[1;33m,\u001b[0m\u001b[1;34m'EducationField'\u001b[0m\u001b[1;33m,\u001b[0m\u001b[1;34m'OverTime'\u001b[0m\u001b[1;33m,\u001b[0m\u001b[1;34m'HireSource'\u001b[0m\u001b[1;33m,\u001b[0m\u001b[1;34m'Dept'\u001b[0m\u001b[1;33m,\u001b[0m\u001b[1;34m'Campus'\u001b[0m\u001b[1;33m]\u001b[0m\u001b[1;33m)\u001b[0m\u001b[1;33m\u001b[0m\u001b[0m\n\u001b[0m\u001b[0;32m      2\u001b[0m \u001b[0mdf6\u001b[0m\u001b[1;33m=\u001b[0m\u001b[0mdf5\u001b[0m\u001b[1;33m.\u001b[0m\u001b[0mdrop\u001b[0m\u001b[1;33m(\u001b[0m\u001b[1;33m[\u001b[0m\u001b[1;34m'Mean_Salary'\u001b[0m\u001b[1;33m,\u001b[0m\u001b[1;34m'Job_Level'\u001b[0m\u001b[1;33m,\u001b[0m\u001b[1;34m'a'\u001b[0m\u001b[1;33m,\u001b[0m\u001b[1;34m'b'\u001b[0m\u001b[1;33m,\u001b[0m\u001b[1;34m'DailyRate'\u001b[0m\u001b[1;33m,\u001b[0m\u001b[1;34m'EmployeeNumber'\u001b[0m\u001b[1;33m,\u001b[0m\u001b[1;34m'HourlyRate'\u001b[0m\u001b[1;33m,\u001b[0m\u001b[1;34m'MonthlyIncome'\u001b[0m\u001b[1;33m,\u001b[0m\u001b[1;34m'MonthlyRate'\u001b[0m\u001b[1;33m,\u001b[0m\u001b[1;34m'StandardHours'\u001b[0m\u001b[1;33m,\u001b[0m\u001b[1;34m'JobRole'\u001b[0m\u001b[1;33m]\u001b[0m\u001b[1;33m,\u001b[0m\u001b[0maxis\u001b[0m\u001b[1;33m=\u001b[0m\u001b[1;36m1\u001b[0m\u001b[1;33m)\u001b[0m\u001b[1;33m\u001b[0m\u001b[0m\n",
      "\u001b[1;32mC:\\Users\\rupali\\AppData\\Local\\Enthought\\Canopy\\User\\lib\\site-packages\\pandas\\core\\reshape.pyc\u001b[0m in \u001b[0;36mget_dummies\u001b[1;34m(data, prefix, prefix_sep, dummy_na, columns, sparse, drop_first)\u001b[0m\n\u001b[0;32m   1082\u001b[0m             \u001b[0mwith_dummies\u001b[0m \u001b[1;33m=\u001b[0m \u001b[1;33m[\u001b[0m\u001b[1;33m]\u001b[0m\u001b[1;33m\u001b[0m\u001b[0m\n\u001b[0;32m   1083\u001b[0m         \u001b[1;32melse\u001b[0m\u001b[1;33m:\u001b[0m\u001b[1;33m\u001b[0m\u001b[0m\n\u001b[1;32m-> 1084\u001b[1;33m             \u001b[0mwith_dummies\u001b[0m \u001b[1;33m=\u001b[0m \u001b[1;33m[\u001b[0m\u001b[0mdata\u001b[0m\u001b[1;33m.\u001b[0m\u001b[0mdrop\u001b[0m\u001b[1;33m(\u001b[0m\u001b[0mcolumns_to_encode\u001b[0m\u001b[1;33m,\u001b[0m \u001b[0maxis\u001b[0m\u001b[1;33m=\u001b[0m\u001b[1;36m1\u001b[0m\u001b[1;33m)\u001b[0m\u001b[1;33m]\u001b[0m\u001b[1;33m\u001b[0m\u001b[0m\n\u001b[0m\u001b[0;32m   1085\u001b[0m \u001b[1;33m\u001b[0m\u001b[0m\n\u001b[0;32m   1086\u001b[0m         \u001b[1;32mfor\u001b[0m \u001b[1;33m(\u001b[0m\u001b[0mcol\u001b[0m\u001b[1;33m,\u001b[0m \u001b[0mpre\u001b[0m\u001b[1;33m,\u001b[0m \u001b[0msep\u001b[0m\u001b[1;33m)\u001b[0m \u001b[1;32min\u001b[0m \u001b[0mzip\u001b[0m\u001b[1;33m(\u001b[0m\u001b[0mcolumns_to_encode\u001b[0m\u001b[1;33m,\u001b[0m \u001b[0mprefix\u001b[0m\u001b[1;33m,\u001b[0m \u001b[0mprefix_sep\u001b[0m\u001b[1;33m)\u001b[0m\u001b[1;33m:\u001b[0m\u001b[1;33m\u001b[0m\u001b[0m\n",
      "\u001b[1;32mC:\\Users\\rupali\\AppData\\Local\\Enthought\\Canopy\\User\\lib\\site-packages\\pandas\\core\\generic.pyc\u001b[0m in \u001b[0;36mdrop\u001b[1;34m(self, labels, axis, level, inplace, errors)\u001b[0m\n\u001b[0;32m   1871\u001b[0m                 \u001b[0mnew_axis\u001b[0m \u001b[1;33m=\u001b[0m \u001b[0maxis\u001b[0m\u001b[1;33m.\u001b[0m\u001b[0mdrop\u001b[0m\u001b[1;33m(\u001b[0m\u001b[0mlabels\u001b[0m\u001b[1;33m,\u001b[0m \u001b[0mlevel\u001b[0m\u001b[1;33m=\u001b[0m\u001b[0mlevel\u001b[0m\u001b[1;33m,\u001b[0m \u001b[0merrors\u001b[0m\u001b[1;33m=\u001b[0m\u001b[0merrors\u001b[0m\u001b[1;33m)\u001b[0m\u001b[1;33m\u001b[0m\u001b[0m\n\u001b[0;32m   1872\u001b[0m             \u001b[1;32melse\u001b[0m\u001b[1;33m:\u001b[0m\u001b[1;33m\u001b[0m\u001b[0m\n\u001b[1;32m-> 1873\u001b[1;33m                 \u001b[0mnew_axis\u001b[0m \u001b[1;33m=\u001b[0m \u001b[0maxis\u001b[0m\u001b[1;33m.\u001b[0m\u001b[0mdrop\u001b[0m\u001b[1;33m(\u001b[0m\u001b[0mlabels\u001b[0m\u001b[1;33m,\u001b[0m \u001b[0merrors\u001b[0m\u001b[1;33m=\u001b[0m\u001b[0merrors\u001b[0m\u001b[1;33m)\u001b[0m\u001b[1;33m\u001b[0m\u001b[0m\n\u001b[0m\u001b[0;32m   1874\u001b[0m             \u001b[0mdropped\u001b[0m \u001b[1;33m=\u001b[0m \u001b[0mself\u001b[0m\u001b[1;33m.\u001b[0m\u001b[0mreindex\u001b[0m\u001b[1;33m(\u001b[0m\u001b[1;33m**\u001b[0m\u001b[1;33m{\u001b[0m\u001b[0maxis_name\u001b[0m\u001b[1;33m:\u001b[0m \u001b[0mnew_axis\u001b[0m\u001b[1;33m}\u001b[0m\u001b[1;33m)\u001b[0m\u001b[1;33m\u001b[0m\u001b[0m\n\u001b[0;32m   1875\u001b[0m             \u001b[1;32mtry\u001b[0m\u001b[1;33m:\u001b[0m\u001b[1;33m\u001b[0m\u001b[0m\n",
      "\u001b[1;32mC:\\Users\\rupali\\AppData\\Local\\Enthought\\Canopy\\User\\lib\\site-packages\\pandas\\indexes\\base.pyc\u001b[0m in \u001b[0;36mdrop\u001b[1;34m(self, labels, errors)\u001b[0m\n\u001b[0;32m   2964\u001b[0m             \u001b[1;32mif\u001b[0m \u001b[0merrors\u001b[0m \u001b[1;33m!=\u001b[0m \u001b[1;34m'ignore'\u001b[0m\u001b[1;33m:\u001b[0m\u001b[1;33m\u001b[0m\u001b[0m\n\u001b[0;32m   2965\u001b[0m                 raise ValueError('labels %s not contained in axis' %\n\u001b[1;32m-> 2966\u001b[1;33m                                  labels[mask])\n\u001b[0m\u001b[0;32m   2967\u001b[0m             \u001b[0mindexer\u001b[0m \u001b[1;33m=\u001b[0m \u001b[0mindexer\u001b[0m\u001b[1;33m[\u001b[0m\u001b[1;33m~\u001b[0m\u001b[0mmask\u001b[0m\u001b[1;33m]\u001b[0m\u001b[1;33m\u001b[0m\u001b[0m\n\u001b[0;32m   2968\u001b[0m         \u001b[1;32mreturn\u001b[0m \u001b[0mself\u001b[0m\u001b[1;33m.\u001b[0m\u001b[0mdelete\u001b[0m\u001b[1;33m(\u001b[0m\u001b[0mindexer\u001b[0m\u001b[1;33m)\u001b[0m\u001b[1;33m\u001b[0m\u001b[0m\n",
      "\u001b[1;31mValueError\u001b[0m: labels ['HireSource' 'Dept' 'Campus'] not contained in axis"
     ]
    }
   ],
   "source": [
    "df5= pd.get_dummies(df2,columns=['Gender','BusinessTravel', 'Department','EducationField','OverTime','HireSource','Dept','Campus'])\n",
    "df6=df5.drop(['Mean_Salary','Job_Level','a','b','DailyRate','EmployeeNumber','HourlyRate','MonthlyIncome','MonthlyRate','StandardHours','JobRole'],axis=1)"
   ]
  },
  {
   "cell_type": "code",
   "execution_count": null,
   "metadata": {
    "collapsed": false,
    "deletable": true,
    "editable": true
   },
   "outputs": [],
   "source": [
    "X=df6.drop('Attrition', axis=1)\n",
    "Y=df6.Attrition"
   ]
  },
  {
   "cell_type": "code",
   "execution_count": null,
   "metadata": {
    "collapsed": true,
    "deletable": true,
    "editable": true
   },
   "outputs": [],
   "source": []
  },
  {
   "cell_type": "code",
   "execution_count": null,
   "metadata": {
    "collapsed": false,
    "deletable": true,
    "editable": true
   },
   "outputs": [],
   "source": []
  },
  {
   "cell_type": "code",
   "execution_count": null,
   "metadata": {
    "collapsed": true,
    "deletable": true,
    "editable": true
   },
   "outputs": [],
   "source": [
    "from sklearn.ensemble import RandomForestClassifier, GradientBoostingClassifier\n",
    "from sklearn.linear_model import LogisticRegression\n",
    "from sklearn.metrics import accuracy_score, log_loss\n",
    "from imblearn.over_sampling import SMOTE\n"
   ]
  },
  {
   "cell_type": "code",
   "execution_count": null,
   "metadata": {
    "collapsed": false,
    "deletable": true,
    "editable": true
   },
   "outputs": [],
   "source": [
    "# Import the train_test_split method\n",
    "from sklearn.cross_validation import train_test_split\n",
    "from sklearn.cross_validation import StratifiedShuffleSplit\n",
    "\n",
    "# Split data into train and test sets as well as for validation and testing\n",
    "train, test, target_train, target_val = train_test_split(X, Y, train_size= 0.75,random_state=0);\n",
    "#train, test, target_train, target_val = StratifiedShuffleSplit(attrition_final, target, random_state=0);fX"
   ]
  },
  {
   "cell_type": "markdown",
   "metadata": {
    "deletable": true,
    "editable": true
   },
   "source": []
  },
  {
   "cell_type": "code",
   "execution_count": null,
   "metadata": {
    "collapsed": false,
    "deletable": true,
    "editable": true
   },
   "outputs": [],
   "source": []
  },
  {
   "cell_type": "code",
   "execution_count": null,
   "metadata": {
    "collapsed": false,
    "deletable": true,
    "editable": true,
    "scrolled": true
   },
   "outputs": [],
   "source": [
    "dt = tree.DecisionTreeClassifier(max_depth=2)\n",
    "dt.fit(X=smote_train,y=)"
   ]
  },
  {
   "cell_type": "code",
   "execution_count": null,
   "metadata": {
    "collapsed": false,
    "deletable": true,
    "editable": true,
    "scrolled": true
   },
   "outputs": [],
   "source": [
    "dt = tree.DecisionTreeClassifier(max_depth=2)\n",
    "dt.fit(X,y=Y)"
   ]
  },
  {
   "cell_type": "code",
   "execution_count": null,
   "metadata": {
    "collapsed": false,
    "deletable": true,
    "editable": true
   },
   "outputs": [],
   "source": [
    "smote_train"
   ]
  },
  {
   "cell_type": "code",
   "execution_count": null,
   "metadata": {
    "collapsed": false,
    "deletable": true,
    "editable": true
   },
   "outputs": [],
   "source": [
    "dt_feature_names = list(X.columns)\n",
    "dt_target_names = np.array(Y.unique(),dtype=np.string_) \n",
    "tree.export_graphviz(dt, out_file='tree.dot', \n",
    "    feature_names=dt_feature_names, class_names=dt_target_names,\n",
    "    filled=True)  \n",
    "\n",
    "graph = pydotplus.graph_from_dot_file('tree.dot')\n",
    "Image(graph.create_png())"
   ]
  },
  {
   "cell_type": "code",
   "execution_count": null,
   "metadata": {
    "collapsed": false,
    "deletable": true,
    "editable": true,
    "scrolled": false
   },
   "outputs": [],
   "source": [
    "df6.corr()"
   ]
  }
 ],
 "metadata": {
  "kernelspec": {
   "display_name": "Python 2",
   "language": "python",
   "name": "python2"
  },
  "language_info": {
   "codemirror_mode": {
    "name": "ipython",
    "version": 2
   },
   "file_extension": ".py",
   "mimetype": "text/x-python",
   "name": "python",
   "nbconvert_exporter": "python",
   "pygments_lexer": "ipython2",
   "version": "2.7.13"
  }
 },
 "nbformat": 4,
 "nbformat_minor": 0
}
